{
 "cells": [
  {
   "cell_type": "code",
   "execution_count": 3,
   "id": "17c1bd36",
   "metadata": {},
   "outputs": [],
   "source": [
    "from datasets import load_dataset, Dataset\n",
    "import pandas as pd\n",
    "import numpy as np\n",
    "from transformers import AutoTokenizer, AutoModelForSequenceClassification\n",
    "from transformers import DataCollatorWithPadding \n",
    "from datasets import load_metric\n",
    "from sklearn.metrics import accuracy_score, precision_score, recall_score"
   ]
  },
  {
   "cell_type": "code",
   "execution_count": 5,
   "id": "58fe856d",
   "metadata": {},
   "outputs": [],
   "source": [
    "df = pd.read_csv(\"./resources/Trump_2016.csv\")"
   ]
  },
  {
   "cell_type": "code",
   "execution_count": 6,
   "id": "eae67878",
   "metadata": {},
   "outputs": [],
   "source": [
    "df = df[df[\"source\"].isin(['Twitter for iPhone', 'Twitter for Android'])]"
   ]
  },
  {
   "cell_type": "code",
   "execution_count": 7,
   "id": "58254338",
   "metadata": {},
   "outputs": [],
   "source": [
    "df_train = df.iloc[:2600]\n",
    "df_test = df.iloc[2600:]"
   ]
  },
  {
   "cell_type": "code",
   "execution_count": 8,
   "id": "16d2c493",
   "metadata": {},
   "outputs": [
    {
     "data": {
      "text/html": [
       "<div>\n",
       "<style scoped>\n",
       "    .dataframe tbody tr th:only-of-type {\n",
       "        vertical-align: middle;\n",
       "    }\n",
       "\n",
       "    .dataframe tbody tr th {\n",
       "        vertical-align: top;\n",
       "    }\n",
       "\n",
       "    .dataframe thead th {\n",
       "        text-align: right;\n",
       "    }\n",
       "</style>\n",
       "<table border=\"1\" class=\"dataframe\">\n",
       "  <thead>\n",
       "    <tr style=\"text-align: right;\">\n",
       "      <th></th>\n",
       "      <th>source</th>\n",
       "      <th>text</th>\n",
       "      <th>created_at</th>\n",
       "      <th>retweet_count</th>\n",
       "      <th>favorite_count</th>\n",
       "      <th>is_retweet</th>\n",
       "      <th>id_str</th>\n",
       "    </tr>\n",
       "  </thead>\n",
       "  <tbody>\n",
       "    <tr>\n",
       "      <th>0</th>\n",
       "      <td>Twitter for Android</td>\n",
       "      <td>I will be on @FoxNews live  with members of my...</td>\n",
       "      <td>01/01/2016 00:44</td>\n",
       "      <td>2108</td>\n",
       "      <td>6735</td>\n",
       "      <td>False</td>\n",
       "      <td>6.830000e+17</td>\n",
       "    </tr>\n",
       "    <tr>\n",
       "      <th>1</th>\n",
       "      <td>Twitter for iPhone</td>\n",
       "      <td>HAPPY NEW YEAR &amp;amp; THANK YOU! https://t.co/Y...</td>\n",
       "      <td>01/01/2016 03:25</td>\n",
       "      <td>3460</td>\n",
       "      <td>8581</td>\n",
       "      <td>False</td>\n",
       "      <td>6.830000e+17</td>\n",
       "    </tr>\n",
       "    <tr>\n",
       "      <th>2</th>\n",
       "      <td>Twitter for iPhone</td>\n",
       "      <td>#HappyNewYearAmerica! https://t.co/EeQb8PDrUe</td>\n",
       "      <td>01/01/2016 05:18</td>\n",
       "      <td>3434</td>\n",
       "      <td>9143</td>\n",
       "      <td>False</td>\n",
       "      <td>6.830000e+17</td>\n",
       "    </tr>\n",
       "    <tr>\n",
       "      <th>3</th>\n",
       "      <td>Twitter for iPhone</td>\n",
       "      <td>Happy New Year from #MarALago! Thank you to my...</td>\n",
       "      <td>01/01/2016 06:07</td>\n",
       "      <td>1948</td>\n",
       "      <td>8258</td>\n",
       "      <td>False</td>\n",
       "      <td>6.830000e+17</td>\n",
       "    </tr>\n",
       "    <tr>\n",
       "      <th>4</th>\n",
       "      <td>Twitter for Android</td>\n",
       "      <td>Well the year has officially begun. I have man...</td>\n",
       "      <td>01/01/2016 23:00</td>\n",
       "      <td>2642</td>\n",
       "      <td>8495</td>\n",
       "      <td>False</td>\n",
       "      <td>6.830000e+17</td>\n",
       "    </tr>\n",
       "    <tr>\n",
       "      <th>...</th>\n",
       "      <td>...</td>\n",
       "      <td>...</td>\n",
       "      <td>...</td>\n",
       "      <td>...</td>\n",
       "      <td>...</td>\n",
       "      <td>...</td>\n",
       "      <td>...</td>\n",
       "    </tr>\n",
       "    <tr>\n",
       "      <th>2910</th>\n",
       "      <td>Twitter for iPhone</td>\n",
       "      <td>RT @DonaldJTrumpJr: Great group at our Victory...</td>\n",
       "      <td>10/06/2016 18:41</td>\n",
       "      <td>3391</td>\n",
       "      <td>0</td>\n",
       "      <td>True</td>\n",
       "      <td>7.840000e+17</td>\n",
       "    </tr>\n",
       "    <tr>\n",
       "      <th>2911</th>\n",
       "      <td>Twitter for iPhone</td>\n",
       "      <td>Volunteer to be a Trump Election Observer. Sig...</td>\n",
       "      <td>10/06/2016 20:45</td>\n",
       "      <td>7809</td>\n",
       "      <td>13830</td>\n",
       "      <td>False</td>\n",
       "      <td>7.840000e+17</td>\n",
       "    </tr>\n",
       "    <tr>\n",
       "      <th>2912</th>\n",
       "      <td>Twitter for iPhone</td>\n",
       "      <td>'Donald Trump: A President for All Americans' ...</td>\n",
       "      <td>10/06/2016 20:47</td>\n",
       "      <td>10933</td>\n",
       "      <td>23522</td>\n",
       "      <td>False</td>\n",
       "      <td>7.840000e+17</td>\n",
       "    </tr>\n",
       "    <tr>\n",
       "      <th>2913</th>\n",
       "      <td>Twitter for iPhone</td>\n",
       "      <td>VOTE #TrumpPence16 on 11/8/16! https://t.co/12...</td>\n",
       "      <td>10/06/2016 21:51</td>\n",
       "      <td>9062</td>\n",
       "      <td>19862</td>\n",
       "      <td>False</td>\n",
       "      <td>7.840000e+17</td>\n",
       "    </tr>\n",
       "    <tr>\n",
       "      <th>2914</th>\n",
       "      <td>Twitter for iPhone</td>\n",
       "      <td>Thank you Tennessee! #MAGA https://t.co/OoDFme...</td>\n",
       "      <td>10/06/2016 21:57</td>\n",
       "      <td>11001</td>\n",
       "      <td>28251</td>\n",
       "      <td>False</td>\n",
       "      <td>7.840000e+17</td>\n",
       "    </tr>\n",
       "  </tbody>\n",
       "</table>\n",
       "<p>2600 rows × 7 columns</p>\n",
       "</div>"
      ],
      "text/plain": [
       "                   source                                               text  \\\n",
       "0     Twitter for Android  I will be on @FoxNews live  with members of my...   \n",
       "1      Twitter for iPhone  HAPPY NEW YEAR &amp; THANK YOU! https://t.co/Y...   \n",
       "2      Twitter for iPhone      #HappyNewYearAmerica! https://t.co/EeQb8PDrUe   \n",
       "3      Twitter for iPhone  Happy New Year from #MarALago! Thank you to my...   \n",
       "4     Twitter for Android  Well the year has officially begun. I have man...   \n",
       "...                   ...                                                ...   \n",
       "2910   Twitter for iPhone  RT @DonaldJTrumpJr: Great group at our Victory...   \n",
       "2911   Twitter for iPhone  Volunteer to be a Trump Election Observer. Sig...   \n",
       "2912   Twitter for iPhone  'Donald Trump: A President for All Americans' ...   \n",
       "2913   Twitter for iPhone  VOTE #TrumpPence16 on 11/8/16! https://t.co/12...   \n",
       "2914   Twitter for iPhone  Thank you Tennessee! #MAGA https://t.co/OoDFme...   \n",
       "\n",
       "            created_at  retweet_count  favorite_count  is_retweet  \\\n",
       "0     01/01/2016 00:44           2108            6735       False   \n",
       "1     01/01/2016 03:25           3460            8581       False   \n",
       "2     01/01/2016 05:18           3434            9143       False   \n",
       "3     01/01/2016 06:07           1948            8258       False   \n",
       "4     01/01/2016 23:00           2642            8495       False   \n",
       "...                ...            ...             ...         ...   \n",
       "2910  10/06/2016 18:41           3391               0        True   \n",
       "2911  10/06/2016 20:45           7809           13830       False   \n",
       "2912  10/06/2016 20:47          10933           23522       False   \n",
       "2913  10/06/2016 21:51           9062           19862       False   \n",
       "2914  10/06/2016 21:57          11001           28251       False   \n",
       "\n",
       "            id_str  \n",
       "0     6.830000e+17  \n",
       "1     6.830000e+17  \n",
       "2     6.830000e+17  \n",
       "3     6.830000e+17  \n",
       "4     6.830000e+17  \n",
       "...            ...  \n",
       "2910  7.840000e+17  \n",
       "2911  7.840000e+17  \n",
       "2912  7.840000e+17  \n",
       "2913  7.840000e+17  \n",
       "2914  7.840000e+17  \n",
       "\n",
       "[2600 rows x 7 columns]"
      ]
     },
     "execution_count": 8,
     "metadata": {},
     "output_type": "execute_result"
    }
   ],
   "source": [
    "df_train"
   ]
  },
  {
   "cell_type": "code",
   "execution_count": 9,
   "id": "e3f07585",
   "metadata": {},
   "outputs": [
    {
     "name": "stderr",
     "output_type": "stream",
     "text": [
      "/tmp/ipykernel_569319/2754263311.py:1: SettingWithCopyWarning: \n",
      "A value is trying to be set on a copy of a slice from a DataFrame.\n",
      "Try using .loc[row_indexer,col_indexer] = value instead\n",
      "\n",
      "See the caveats in the documentation: https://pandas.pydata.org/pandas-docs/stable/user_guide/indexing.html#returning-a-view-versus-a-copy\n",
      "  df_train[\"normalized_completion\"] = df_train[\"source\"].apply(lambda x: 1 if x==\"Twitter for Android\" else 0)\n"
     ]
    }
   ],
   "source": [
    "df_train[\"normalized_completion\"] = df_train[\"source\"].apply(lambda x: 1 if x==\"Twitter for Android\" else 0)"
   ]
  },
  {
   "cell_type": "code",
   "execution_count": 10,
   "id": "70486365",
   "metadata": {},
   "outputs": [
    {
     "data": {
      "text/html": [
       "<div>\n",
       "<style scoped>\n",
       "    .dataframe tbody tr th:only-of-type {\n",
       "        vertical-align: middle;\n",
       "    }\n",
       "\n",
       "    .dataframe tbody tr th {\n",
       "        vertical-align: top;\n",
       "    }\n",
       "\n",
       "    .dataframe thead th {\n",
       "        text-align: right;\n",
       "    }\n",
       "</style>\n",
       "<table border=\"1\" class=\"dataframe\">\n",
       "  <thead>\n",
       "    <tr style=\"text-align: right;\">\n",
       "      <th></th>\n",
       "      <th>source</th>\n",
       "      <th>text</th>\n",
       "      <th>created_at</th>\n",
       "      <th>retweet_count</th>\n",
       "      <th>favorite_count</th>\n",
       "      <th>is_retweet</th>\n",
       "      <th>id_str</th>\n",
       "      <th>normalized_completion</th>\n",
       "    </tr>\n",
       "  </thead>\n",
       "  <tbody>\n",
       "    <tr>\n",
       "      <th>0</th>\n",
       "      <td>Twitter for Android</td>\n",
       "      <td>I will be on @FoxNews live  with members of my...</td>\n",
       "      <td>01/01/2016 00:44</td>\n",
       "      <td>2108</td>\n",
       "      <td>6735</td>\n",
       "      <td>False</td>\n",
       "      <td>6.830000e+17</td>\n",
       "      <td>1</td>\n",
       "    </tr>\n",
       "    <tr>\n",
       "      <th>1</th>\n",
       "      <td>Twitter for iPhone</td>\n",
       "      <td>HAPPY NEW YEAR &amp;amp; THANK YOU! https://t.co/Y...</td>\n",
       "      <td>01/01/2016 03:25</td>\n",
       "      <td>3460</td>\n",
       "      <td>8581</td>\n",
       "      <td>False</td>\n",
       "      <td>6.830000e+17</td>\n",
       "      <td>0</td>\n",
       "    </tr>\n",
       "    <tr>\n",
       "      <th>2</th>\n",
       "      <td>Twitter for iPhone</td>\n",
       "      <td>#HappyNewYearAmerica! https://t.co/EeQb8PDrUe</td>\n",
       "      <td>01/01/2016 05:18</td>\n",
       "      <td>3434</td>\n",
       "      <td>9143</td>\n",
       "      <td>False</td>\n",
       "      <td>6.830000e+17</td>\n",
       "      <td>0</td>\n",
       "    </tr>\n",
       "    <tr>\n",
       "      <th>3</th>\n",
       "      <td>Twitter for iPhone</td>\n",
       "      <td>Happy New Year from #MarALago! Thank you to my...</td>\n",
       "      <td>01/01/2016 06:07</td>\n",
       "      <td>1948</td>\n",
       "      <td>8258</td>\n",
       "      <td>False</td>\n",
       "      <td>6.830000e+17</td>\n",
       "      <td>0</td>\n",
       "    </tr>\n",
       "    <tr>\n",
       "      <th>4</th>\n",
       "      <td>Twitter for Android</td>\n",
       "      <td>Well the year has officially begun. I have man...</td>\n",
       "      <td>01/01/2016 23:00</td>\n",
       "      <td>2642</td>\n",
       "      <td>8495</td>\n",
       "      <td>False</td>\n",
       "      <td>6.830000e+17</td>\n",
       "      <td>1</td>\n",
       "    </tr>\n",
       "    <tr>\n",
       "      <th>...</th>\n",
       "      <td>...</td>\n",
       "      <td>...</td>\n",
       "      <td>...</td>\n",
       "      <td>...</td>\n",
       "      <td>...</td>\n",
       "      <td>...</td>\n",
       "      <td>...</td>\n",
       "      <td>...</td>\n",
       "    </tr>\n",
       "    <tr>\n",
       "      <th>2910</th>\n",
       "      <td>Twitter for iPhone</td>\n",
       "      <td>RT @DonaldJTrumpJr: Great group at our Victory...</td>\n",
       "      <td>10/06/2016 18:41</td>\n",
       "      <td>3391</td>\n",
       "      <td>0</td>\n",
       "      <td>True</td>\n",
       "      <td>7.840000e+17</td>\n",
       "      <td>0</td>\n",
       "    </tr>\n",
       "    <tr>\n",
       "      <th>2911</th>\n",
       "      <td>Twitter for iPhone</td>\n",
       "      <td>Volunteer to be a Trump Election Observer. Sig...</td>\n",
       "      <td>10/06/2016 20:45</td>\n",
       "      <td>7809</td>\n",
       "      <td>13830</td>\n",
       "      <td>False</td>\n",
       "      <td>7.840000e+17</td>\n",
       "      <td>0</td>\n",
       "    </tr>\n",
       "    <tr>\n",
       "      <th>2912</th>\n",
       "      <td>Twitter for iPhone</td>\n",
       "      <td>'Donald Trump: A President for All Americans' ...</td>\n",
       "      <td>10/06/2016 20:47</td>\n",
       "      <td>10933</td>\n",
       "      <td>23522</td>\n",
       "      <td>False</td>\n",
       "      <td>7.840000e+17</td>\n",
       "      <td>0</td>\n",
       "    </tr>\n",
       "    <tr>\n",
       "      <th>2913</th>\n",
       "      <td>Twitter for iPhone</td>\n",
       "      <td>VOTE #TrumpPence16 on 11/8/16! https://t.co/12...</td>\n",
       "      <td>10/06/2016 21:51</td>\n",
       "      <td>9062</td>\n",
       "      <td>19862</td>\n",
       "      <td>False</td>\n",
       "      <td>7.840000e+17</td>\n",
       "      <td>0</td>\n",
       "    </tr>\n",
       "    <tr>\n",
       "      <th>2914</th>\n",
       "      <td>Twitter for iPhone</td>\n",
       "      <td>Thank you Tennessee! #MAGA https://t.co/OoDFme...</td>\n",
       "      <td>10/06/2016 21:57</td>\n",
       "      <td>11001</td>\n",
       "      <td>28251</td>\n",
       "      <td>False</td>\n",
       "      <td>7.840000e+17</td>\n",
       "      <td>0</td>\n",
       "    </tr>\n",
       "  </tbody>\n",
       "</table>\n",
       "<p>2600 rows × 8 columns</p>\n",
       "</div>"
      ],
      "text/plain": [
       "                   source                                               text  \\\n",
       "0     Twitter for Android  I will be on @FoxNews live  with members of my...   \n",
       "1      Twitter for iPhone  HAPPY NEW YEAR &amp; THANK YOU! https://t.co/Y...   \n",
       "2      Twitter for iPhone      #HappyNewYearAmerica! https://t.co/EeQb8PDrUe   \n",
       "3      Twitter for iPhone  Happy New Year from #MarALago! Thank you to my...   \n",
       "4     Twitter for Android  Well the year has officially begun. I have man...   \n",
       "...                   ...                                                ...   \n",
       "2910   Twitter for iPhone  RT @DonaldJTrumpJr: Great group at our Victory...   \n",
       "2911   Twitter for iPhone  Volunteer to be a Trump Election Observer. Sig...   \n",
       "2912   Twitter for iPhone  'Donald Trump: A President for All Americans' ...   \n",
       "2913   Twitter for iPhone  VOTE #TrumpPence16 on 11/8/16! https://t.co/12...   \n",
       "2914   Twitter for iPhone  Thank you Tennessee! #MAGA https://t.co/OoDFme...   \n",
       "\n",
       "            created_at  retweet_count  favorite_count  is_retweet  \\\n",
       "0     01/01/2016 00:44           2108            6735       False   \n",
       "1     01/01/2016 03:25           3460            8581       False   \n",
       "2     01/01/2016 05:18           3434            9143       False   \n",
       "3     01/01/2016 06:07           1948            8258       False   \n",
       "4     01/01/2016 23:00           2642            8495       False   \n",
       "...                ...            ...             ...         ...   \n",
       "2910  10/06/2016 18:41           3391               0        True   \n",
       "2911  10/06/2016 20:45           7809           13830       False   \n",
       "2912  10/06/2016 20:47          10933           23522       False   \n",
       "2913  10/06/2016 21:51           9062           19862       False   \n",
       "2914  10/06/2016 21:57          11001           28251       False   \n",
       "\n",
       "            id_str  normalized_completion  \n",
       "0     6.830000e+17                      1  \n",
       "1     6.830000e+17                      0  \n",
       "2     6.830000e+17                      0  \n",
       "3     6.830000e+17                      0  \n",
       "4     6.830000e+17                      1  \n",
       "...            ...                    ...  \n",
       "2910  7.840000e+17                      0  \n",
       "2911  7.840000e+17                      0  \n",
       "2912  7.840000e+17                      0  \n",
       "2913  7.840000e+17                      0  \n",
       "2914  7.840000e+17                      0  \n",
       "\n",
       "[2600 rows x 8 columns]"
      ]
     },
     "execution_count": 10,
     "metadata": {},
     "output_type": "execute_result"
    }
   ],
   "source": [
    "df_train"
   ]
  },
  {
   "cell_type": "code",
   "execution_count": 11,
   "id": "9702ba53",
   "metadata": {},
   "outputs": [
    {
     "data": {
      "text/plain": [
       "normalized_completion\n",
       "0    1541\n",
       "1    1059\n",
       "Name: count, dtype: int64"
      ]
     },
     "execution_count": 11,
     "metadata": {},
     "output_type": "execute_result"
    }
   ],
   "source": [
    "df_train[\"normalized_completion\"].value_counts()"
   ]
  },
  {
   "cell_type": "code",
   "execution_count": 12,
   "id": "88042984",
   "metadata": {},
   "outputs": [],
   "source": [
    "dict_train = df_train.to_dict(orient = \"list\")\n",
    "train_dataset = Dataset.from_dict(dict_train)"
   ]
  },
  {
   "cell_type": "code",
   "execution_count": 13,
   "id": "57be6568",
   "metadata": {},
   "outputs": [],
   "source": [
    "train_dataset = train_dataset.remove_columns([\"source\",\"created_at\",\"retweet_count\",\"favorite_count\",\"is_retweet\",\"id_str\"])\n",
    "train_dataset = train_dataset.rename_column(\"normalized_completion\", \"label\")\n",
    "train_dataset = train_dataset.rename_column(\"text\", \"prompt\")"
   ]
  },
  {
   "cell_type": "code",
   "execution_count": 14,
   "id": "37acea6e",
   "metadata": {},
   "outputs": [
    {
     "data": {
      "text/plain": [
       "{'prompt': 'I will be on @FoxNews live  with members of my family at 11:50 P.M. We will ring in the New Year together! MAKE AMERICA GREAT AGAIN!',\n",
       " 'label': 1}"
      ]
     },
     "execution_count": 14,
     "metadata": {},
     "output_type": "execute_result"
    }
   ],
   "source": [
    "train_dataset[0]"
   ]
  },
  {
   "cell_type": "code",
   "execution_count": 15,
   "id": "bcd2fd5d",
   "metadata": {},
   "outputs": [
    {
     "name": "stderr",
     "output_type": "stream",
     "text": [
      "tokenizer_config.json: 100%|██████████| 28.0/28.0 [00:00<00:00, 107kB/s]\n",
      "config.json: 100%|██████████| 483/483 [00:00<00:00, 3.35MB/s]\n",
      "vocab.txt: 100%|██████████| 232k/232k [00:00<00:00, 545kB/s]\n",
      "tokenizer.json: 100%|██████████| 466k/466k [00:00<00:00, 750kB/s]\n"
     ]
    }
   ],
   "source": [
    "model_name = \"distilbert-base-uncased\"\n",
    "\n",
    "tokenizer = AutoTokenizer.from_pretrained(model_name)"
   ]
  },
  {
   "cell_type": "code",
   "execution_count": 16,
   "id": "5d73a10c",
   "metadata": {},
   "outputs": [
    {
     "name": "stderr",
     "output_type": "stream",
     "text": [
      "Map: 100%|██████████| 2600/2600 [00:00<00:00, 17788.91 examples/s]\n"
     ]
    }
   ],
   "source": [
    "def preprocess_function(examples):\n",
    "    return tokenizer(examples[\"prompt\"], truncation=True)\n",
    " \n",
    "tokenized_train = train_dataset.map(preprocess_function, batched=True)\n",
    "# tokenized_test = test_dataset.map(preprocess_function, batched=True)"
   ]
  },
  {
   "cell_type": "code",
   "execution_count": 17,
   "id": "964fce81",
   "metadata": {},
   "outputs": [],
   "source": [
    "data_collator = DataCollatorWithPadding(tokenizer=tokenizer)"
   ]
  },
  {
   "cell_type": "code",
   "execution_count": 19,
   "id": "316cf287",
   "metadata": {},
   "outputs": [
    {
     "name": "stderr",
     "output_type": "stream",
     "text": [
      "model.safetensors: 100%|██████████| 268M/268M [01:16<00:00, 3.52MB/s] \n",
      "Some weights of DistilBertForSequenceClassification were not initialized from the model checkpoint at distilbert-base-uncased and are newly initialized: ['pre_classifier.bias', 'classifier.bias', 'pre_classifier.weight', 'classifier.weight']\n",
      "You should probably TRAIN this model on a down-stream task to be able to use it for predictions and inference.\n"
     ]
    }
   ],
   "source": [
    "model = AutoModelForSequenceClassification.from_pretrained(model_name, num_labels=2)\n"
   ]
  },
  {
   "cell_type": "code",
   "execution_count": 40,
   "id": "2e61ce7b",
   "metadata": {},
   "outputs": [],
   "source": [
    "def compute_metrics(eval_pred):\n",
    "    load_accuracy = load_metric(\"accuracy\")\n",
    "    load_f1 = load_metric(\"f1\")\n",
    "  \n",
    "    logits, labels = eval_pred\n",
    "    predictions = np.argmax(logits, axis=-1)\n",
    "    accuracy = load_accuracy.compute(predictions=predictions, references=labels)[\"accuracy\"]\n",
    "    f1 = load_f1.compute(predictions=predictions, references=labels)[\"f1\"]\n",
    "    return {\"accuracy\": accuracy, \"f1\": f1}"
   ]
  },
  {
   "cell_type": "code",
   "execution_count": 66,
   "id": "37465362",
   "metadata": {},
   "outputs": [],
   "source": [
    "from transformers import TrainingArguments, Trainer\n",
    "  \n",
    "training_args = TrainingArguments(\n",
    "   output_dir=\"./deberta\",\n",
    "   learning_rate=2e-5,\n",
    "   per_device_train_batch_size=1,\n",
    "   per_device_eval_batch_size=1,\n",
    "   num_train_epochs=7,\n",
    "   weight_decay=0.01,\n",
    "   save_strategy=\"steps\",\n",
    "   push_to_hub=False,\n",
    ")\n",
    " \n",
    "trainer = Trainer(\n",
    "   model=model,\n",
    "   args=training_args,\n",
    "   train_dataset=tokenized_train,\n",
    "   eval_dataset=tokenized_train,\n",
    "   tokenizer=tokenizer,\n",
    "   data_collator=data_collator,\n",
    "   compute_metrics=compute_metrics,\n",
    ")"
   ]
  },
  {
   "cell_type": "code",
   "execution_count": 67,
   "id": "54f04374",
   "metadata": {
    "scrolled": true
   },
   "outputs": [
    {
     "name": "stderr",
     "output_type": "stream",
     "text": [
      "/opt/conda/lib/python3.10/site-packages/torch/nn/parallel/_functions.py:68: UserWarning: Was asked to gather along dimension 0, but all input tensors were scalars; will instead unsqueeze and return a vector.\n",
      "  warnings.warn('Was asked to gather along dimension 0, but all '\n"
     ]
    },
    {
     "data": {
      "text/html": [
       "\n",
       "    <div>\n",
       "      \n",
       "      <progress value='4550' max='4550' style='width:300px; height:20px; vertical-align: middle;'></progress>\n",
       "      [4550/4550 17:49, Epoch 7/7]\n",
       "    </div>\n",
       "    <table border=\"1\" class=\"dataframe\">\n",
       "  <thead>\n",
       " <tr style=\"text-align: left;\">\n",
       "      <th>Step</th>\n",
       "      <th>Training Loss</th>\n",
       "    </tr>\n",
       "  </thead>\n",
       "  <tbody>\n",
       "    <tr>\n",
       "      <td>500</td>\n",
       "      <td>0.130000</td>\n",
       "    </tr>\n",
       "    <tr>\n",
       "      <td>1000</td>\n",
       "      <td>0.068500</td>\n",
       "    </tr>\n",
       "    <tr>\n",
       "      <td>1500</td>\n",
       "      <td>0.045300</td>\n",
       "    </tr>\n",
       "    <tr>\n",
       "      <td>2000</td>\n",
       "      <td>0.042400</td>\n",
       "    </tr>\n",
       "    <tr>\n",
       "      <td>2500</td>\n",
       "      <td>0.021000</td>\n",
       "    </tr>\n",
       "    <tr>\n",
       "      <td>3000</td>\n",
       "      <td>0.020000</td>\n",
       "    </tr>\n",
       "    <tr>\n",
       "      <td>3500</td>\n",
       "      <td>0.015300</td>\n",
       "    </tr>\n",
       "    <tr>\n",
       "      <td>4000</td>\n",
       "      <td>0.012900</td>\n",
       "    </tr>\n",
       "    <tr>\n",
       "      <td>4500</td>\n",
       "      <td>0.010400</td>\n",
       "    </tr>\n",
       "  </tbody>\n",
       "</table><p>"
      ],
      "text/plain": [
       "<IPython.core.display.HTML object>"
      ]
     },
     "metadata": {},
     "output_type": "display_data"
    },
    {
     "name": "stderr",
     "output_type": "stream",
     "text": [
      "/opt/conda/lib/python3.10/site-packages/torch/nn/parallel/_functions.py:68: UserWarning: Was asked to gather along dimension 0, but all input tensors were scalars; will instead unsqueeze and return a vector.\n",
      "  warnings.warn('Was asked to gather along dimension 0, but all '\n",
      "/opt/conda/lib/python3.10/site-packages/torch/nn/parallel/_functions.py:68: UserWarning: Was asked to gather along dimension 0, but all input tensors were scalars; will instead unsqueeze and return a vector.\n",
      "  warnings.warn('Was asked to gather along dimension 0, but all '\n",
      "/opt/conda/lib/python3.10/site-packages/torch/nn/parallel/_functions.py:68: UserWarning: Was asked to gather along dimension 0, but all input tensors were scalars; will instead unsqueeze and return a vector.\n",
      "  warnings.warn('Was asked to gather along dimension 0, but all '\n",
      "/opt/conda/lib/python3.10/site-packages/torch/nn/parallel/_functions.py:68: UserWarning: Was asked to gather along dimension 0, but all input tensors were scalars; will instead unsqueeze and return a vector.\n",
      "  warnings.warn('Was asked to gather along dimension 0, but all '\n",
      "/opt/conda/lib/python3.10/site-packages/torch/nn/parallel/_functions.py:68: UserWarning: Was asked to gather along dimension 0, but all input tensors were scalars; will instead unsqueeze and return a vector.\n",
      "  warnings.warn('Was asked to gather along dimension 0, but all '\n",
      "/opt/conda/lib/python3.10/site-packages/torch/nn/parallel/_functions.py:68: UserWarning: Was asked to gather along dimension 0, but all input tensors were scalars; will instead unsqueeze and return a vector.\n",
      "  warnings.warn('Was asked to gather along dimension 0, but all '\n",
      "/opt/conda/lib/python3.10/site-packages/torch/nn/parallel/_functions.py:68: UserWarning: Was asked to gather along dimension 0, but all input tensors were scalars; will instead unsqueeze and return a vector.\n",
      "  warnings.warn('Was asked to gather along dimension 0, but all '\n",
      "/opt/conda/lib/python3.10/site-packages/torch/nn/parallel/_functions.py:68: UserWarning: Was asked to gather along dimension 0, but all input tensors were scalars; will instead unsqueeze and return a vector.\n",
      "  warnings.warn('Was asked to gather along dimension 0, but all '\n",
      "/opt/conda/lib/python3.10/site-packages/torch/nn/parallel/_functions.py:68: UserWarning: Was asked to gather along dimension 0, but all input tensors were scalars; will instead unsqueeze and return a vector.\n",
      "  warnings.warn('Was asked to gather along dimension 0, but all '\n"
     ]
    },
    {
     "data": {
      "text/plain": [
       "TrainOutput(global_step=4550, training_loss=0.040176393151754045, metrics={'train_runtime': 1069.3417, 'train_samples_per_second': 17.02, 'train_steps_per_second': 4.255, 'total_flos': 208318438106736.0, 'train_loss': 0.040176393151754045, 'epoch': 7.0})"
      ]
     },
     "execution_count": 67,
     "metadata": {},
     "output_type": "execute_result"
    }
   ],
   "source": [
    "trainer.train()"
   ]
  },
  {
   "cell_type": "code",
   "execution_count": 68,
   "id": "efbc60d5",
   "metadata": {},
   "outputs": [],
   "source": [
    "trainer.save_model(\"deberat_models/ak\")"
   ]
  },
  {
   "cell_type": "code",
   "execution_count": null,
   "id": "1bb3350a",
   "metadata": {},
   "outputs": [],
   "source": []
  },
  {
   "cell_type": "markdown",
   "id": "256734fd",
   "metadata": {},
   "source": [
    "# Inference"
   ]
  },
  {
   "cell_type": "code",
   "execution_count": null,
   "id": "fa9e608f",
   "metadata": {},
   "outputs": [],
   "source": []
  },
  {
   "cell_type": "code",
   "execution_count": 50,
   "id": "223e3051",
   "metadata": {},
   "outputs": [],
   "source": [
    "from transformers import AutoTokenizer, AutoModelForCausalLM\n",
    "import torch\n",
    "from peft import PeftModel\n",
    "import numpy as np\n",
    "import re\n",
    "from sentence_transformers import SentenceTransformer, util\n",
    "from sklearn.metrics import accuracy_score, precision_score, recall_score"
   ]
  },
  {
   "cell_type": "code",
   "execution_count": 69,
   "id": "14a2da44",
   "metadata": {},
   "outputs": [
    {
     "name": "stderr",
     "output_type": "stream",
     "text": [
      "Special tokens have been added in the vocabulary, make sure the associated word embeddings are fine-tuned or trained.\n"
     ]
    }
   ],
   "source": [
    "MODEL = \"deberat_models/ak\"\n",
    "\n",
    "tokenizer = AutoTokenizer.from_pretrained(MODEL)\n",
    "model = AutoModelForSequenceClassification.from_pretrained(MODEL, num_labels=2)\n",
    "model = model.to('cuda')"
   ]
  },
  {
   "cell_type": "code",
   "execution_count": 71,
   "id": "0d748dcb",
   "metadata": {},
   "outputs": [],
   "source": [
    "#prompt = \"Redact PII with PII type in the text: Sarah Taylors Employee Identification Number is 987654322 whose home address is 91011 Oak Street, Anytown. Sarah Taylors Employee Identification Number is 987654322 whose home address is 91011 Oak Street, Anytown. Sarah Taylors Employee Identification Number is 987654322 whose home address is 91011 Oak Street, Anytown. Sarah Taylors Employee Identification Number is 987654322 whose home address is 91011 Oak Street, Anytown. ->\"\n",
    "def infer(text):\n",
    "    inputs = tokenizer(text, return_tensors=\"pt\").input_ids.cuda()\n",
    "    with torch.no_grad():\n",
    "        logits = model(inputs).logits\n",
    "    predicted_class_id = logits.argmax().item()\n",
    "    return predicted_class_id"
   ]
  },
  {
   "cell_type": "code",
   "execution_count": 48,
   "id": "c50d11ff",
   "metadata": {},
   "outputs": [],
   "source": [
    "text = 'I will be on @FoxNews live  with members of my family at 11:50 P.M. We will ring in the New Year together! MAKE AMERICA GREAT AGAIN!'"
   ]
  },
  {
   "cell_type": "code",
   "execution_count": 73,
   "id": "fe65d87e",
   "metadata": {},
   "outputs": [],
   "source": [
    "all_results = []\n",
    "for i in df_test[\"text\"]:\n",
    "    all_results.append(infer(i))"
   ]
  },
  {
   "cell_type": "code",
   "execution_count": 74,
   "id": "060c39f2",
   "metadata": {},
   "outputs": [],
   "source": [
    "gt = [0 if i == 'Twitter for iPhone' else 1 for i in df_test[\"source\"] ]"
   ]
  },
  {
   "cell_type": "code",
   "execution_count": 75,
   "id": "80e98e32",
   "metadata": {},
   "outputs": [
    {
     "data": {
      "text/plain": [
       "0.9248"
      ]
     },
     "execution_count": 75,
     "metadata": {},
     "output_type": "execute_result"
    }
   ],
   "source": [
    "accuracy_score(gt,all_results)"
   ]
  },
  {
   "cell_type": "code",
   "execution_count": 76,
   "id": "a36d3088",
   "metadata": {},
   "outputs": [
    {
     "data": {
      "text/plain": [
       "0.9004739336492891"
      ]
     },
     "execution_count": 76,
     "metadata": {},
     "output_type": "execute_result"
    }
   ],
   "source": [
    "precision_score(gt,all_results)"
   ]
  },
  {
   "cell_type": "code",
   "execution_count": 77,
   "id": "45f20b19",
   "metadata": {},
   "outputs": [
    {
     "data": {
      "text/plain": [
       "0.8796296296296297"
      ]
     },
     "execution_count": 77,
     "metadata": {},
     "output_type": "execute_result"
    }
   ],
   "source": [
    "recall_score(gt, all_results)"
   ]
  },
  {
   "cell_type": "code",
   "execution_count": null,
   "id": "044299f7",
   "metadata": {},
   "outputs": [],
   "source": []
  }
 ],
 "metadata": {
  "kernelspec": {
   "display_name": "Python 3",
   "language": "python",
   "name": "python3"
  },
  "language_info": {
   "codemirror_mode": {
    "name": "ipython",
    "version": 3
   },
   "file_extension": ".py",
   "mimetype": "text/x-python",
   "name": "python",
   "nbconvert_exporter": "python",
   "pygments_lexer": "ipython3",
   "version": "3.11.5"
  }
 },
 "nbformat": 4,
 "nbformat_minor": 5
}
