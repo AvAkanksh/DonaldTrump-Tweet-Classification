{
 "cells": [
  {
   "cell_type": "code",
   "execution_count": 1,
   "metadata": {},
   "outputs": [],
   "source": [
    "import pandas as pd\n",
    "import numpy as np\n",
    "import seaborn as sns\n",
    "import plotly.express as px\n",
    "import chart_studio.plotly as py\n",
    "import plotly.graph_objects as go\n",
    "from plotly.offline import download_plotlyjs, init_notebook_mode, plot, iplot\n",
    "from sklearn.preprocessing import LabelEncoder\n",
    "from sklearn.model_selection import train_test_split\n",
    "%matplotlib inline"
   ]
  },
  {
   "cell_type": "code",
   "execution_count": 2,
   "metadata": {},
   "outputs": [
    {
     "data": {
      "text/html": [
       "        <script type=\"text/javascript\">\n",
       "        window.PlotlyConfig = {MathJaxConfig: 'local'};\n",
       "        if (window.MathJax && window.MathJax.Hub && window.MathJax.Hub.Config) {window.MathJax.Hub.Config({SVG: {font: \"STIX-Web\"}});}\n",
       "        if (typeof require !== 'undefined') {\n",
       "        require.undef(\"plotly\");\n",
       "        requirejs.config({\n",
       "            paths: {\n",
       "                'plotly': ['https://cdn.plot.ly/plotly-2.27.0.min']\n",
       "            }\n",
       "        });\n",
       "        require(['plotly'], function(Plotly) {\n",
       "            window._Plotly = Plotly;\n",
       "        });\n",
       "        }\n",
       "        </script>\n",
       "        "
      ]
     },
     "metadata": {},
     "output_type": "display_data"
    }
   ],
   "source": [
    "init_notebook_mode(connected=True)"
   ]
  },
  {
   "cell_type": "markdown",
   "metadata": {},
   "source": [
    "### Pipeline\n",
    "\n",
    "1. Data Aquisition\n",
    "2. Text Preprocessing (text lowercasing, stemming, removing stopwords)\n",
    "3. Text Vectorization (BOW, Tf-Idf, Word2Vec)\n",
    "4. Modelling\n",
    "   - ML Based\n",
    "      1. Random Forest\n",
    "      2. Naive Bayes\n",
    "      3. SVM\n",
    "   - DL Based\n",
    "      1. RNN\n",
    "         - LSTM\n",
    "      2. CNN\n",
    "      3. Pretrained Models\n",
    "         - BERT\n",
    "         - LLAMA\n",
    "         - ZEPHYR\n",
    "5. Evaluation\n",
    "   - Accuracy Score\n",
    "   - Confusion Matrix\n",
    "   - Precision/Recall\n",
    "   - ROC AUC Curve\n",
    "6. Deployment"
   ]
  },
  {
   "cell_type": "markdown",
   "metadata": {},
   "source": [
    "### Data Acquisition"
   ]
  },
  {
   "cell_type": "code",
   "execution_count": 145,
   "metadata": {},
   "outputs": [],
   "source": [
    "data_2016 = pd.read_csv(\"./resources/Trump_2016.csv\")\n",
    "data_2018 = pd.read_csv(\"./resources/Trump_2018.csv\")"
   ]
  },
  {
   "cell_type": "markdown",
   "metadata": {},
   "source": [
    "### Exploratory Data Analysis"
   ]
  },
  {
   "cell_type": "code",
   "execution_count": 4,
   "metadata": {},
   "outputs": [
    {
     "data": {
      "text/plain": [
       "source\n",
       "Twitter for iPhone     1950\n",
       "Twitter for Android    1275\n",
       "Twitter Web Client      333\n",
       "Twitter Ads              63\n",
       "Twitter for iPad         22\n",
       "Instagram                 2\n",
       "TweetDeck                 2\n",
       "Media Studio              1\n",
       "Periscope                 1\n",
       "Name: count, dtype: int64"
      ]
     },
     "execution_count": 4,
     "metadata": {},
     "output_type": "execute_result"
    }
   ],
   "source": [
    "data_2016['source'].value_counts()"
   ]
  },
  {
   "cell_type": "code",
   "execution_count": 5,
   "metadata": {},
   "outputs": [
    {
     "data": {
      "text/plain": [
       "source\n",
       "Twitter for iPhone      3482\n",
       "Media Studio              39\n",
       "Twitter for iPad          17\n",
       "Twitter Media Studio      12\n",
       "Twitter Web Client         6\n",
       "Name: count, dtype: int64"
      ]
     },
     "execution_count": 5,
     "metadata": {},
     "output_type": "execute_result"
    }
   ],
   "source": [
    "data_2018['source'].value_counts()"
   ]
  },
  {
   "cell_type": "markdown",
   "metadata": {},
   "source": [
    "### Tweets from different Sources in the year 2016 and 2018"
   ]
  },
  {
   "cell_type": "code",
   "execution_count": 6,
   "metadata": {},
   "outputs": [
    {
     "data": {
      "application/vnd.plotly.v1+json": {
       "config": {
        "linkText": "Export to plot.ly",
        "plotlyServerURL": "https://plot.ly",
        "showLink": false
       },
       "data": [
        {
         "name": "2016",
         "type": "bar",
         "x": [
          "Twitter for iPhone",
          "Twitter for Android",
          "Twitter Web Client",
          "Twitter Ads",
          "Twitter for iPad",
          "Instagram",
          "TweetDeck",
          "Media Studio",
          "Periscope"
         ],
         "y": [
          1950,
          1275,
          333,
          63,
          22,
          2,
          2,
          1,
          1
         ]
        },
        {
         "name": "2018",
         "type": "bar",
         "x": [
          "Twitter for iPhone",
          "Media Studio",
          "Twitter for iPad",
          "Twitter Media Studio",
          "Twitter Web Client"
         ],
         "y": [
          3482,
          39,
          17,
          12,
          6
         ]
        }
       ],
       "layout": {
        "template": {
         "data": {
          "bar": [
           {
            "error_x": {
             "color": "#2a3f5f"
            },
            "error_y": {
             "color": "#2a3f5f"
            },
            "marker": {
             "line": {
              "color": "#E5ECF6",
              "width": 0.5
             },
             "pattern": {
              "fillmode": "overlay",
              "size": 10,
              "solidity": 0.2
             }
            },
            "type": "bar"
           }
          ],
          "barpolar": [
           {
            "marker": {
             "line": {
              "color": "#E5ECF6",
              "width": 0.5
             },
             "pattern": {
              "fillmode": "overlay",
              "size": 10,
              "solidity": 0.2
             }
            },
            "type": "barpolar"
           }
          ],
          "carpet": [
           {
            "aaxis": {
             "endlinecolor": "#2a3f5f",
             "gridcolor": "white",
             "linecolor": "white",
             "minorgridcolor": "white",
             "startlinecolor": "#2a3f5f"
            },
            "baxis": {
             "endlinecolor": "#2a3f5f",
             "gridcolor": "white",
             "linecolor": "white",
             "minorgridcolor": "white",
             "startlinecolor": "#2a3f5f"
            },
            "type": "carpet"
           }
          ],
          "choropleth": [
           {
            "colorbar": {
             "outlinewidth": 0,
             "ticks": ""
            },
            "type": "choropleth"
           }
          ],
          "contour": [
           {
            "colorbar": {
             "outlinewidth": 0,
             "ticks": ""
            },
            "colorscale": [
             [
              0,
              "#0d0887"
             ],
             [
              0.1111111111111111,
              "#46039f"
             ],
             [
              0.2222222222222222,
              "#7201a8"
             ],
             [
              0.3333333333333333,
              "#9c179e"
             ],
             [
              0.4444444444444444,
              "#bd3786"
             ],
             [
              0.5555555555555556,
              "#d8576b"
             ],
             [
              0.6666666666666666,
              "#ed7953"
             ],
             [
              0.7777777777777778,
              "#fb9f3a"
             ],
             [
              0.8888888888888888,
              "#fdca26"
             ],
             [
              1,
              "#f0f921"
             ]
            ],
            "type": "contour"
           }
          ],
          "contourcarpet": [
           {
            "colorbar": {
             "outlinewidth": 0,
             "ticks": ""
            },
            "type": "contourcarpet"
           }
          ],
          "heatmap": [
           {
            "colorbar": {
             "outlinewidth": 0,
             "ticks": ""
            },
            "colorscale": [
             [
              0,
              "#0d0887"
             ],
             [
              0.1111111111111111,
              "#46039f"
             ],
             [
              0.2222222222222222,
              "#7201a8"
             ],
             [
              0.3333333333333333,
              "#9c179e"
             ],
             [
              0.4444444444444444,
              "#bd3786"
             ],
             [
              0.5555555555555556,
              "#d8576b"
             ],
             [
              0.6666666666666666,
              "#ed7953"
             ],
             [
              0.7777777777777778,
              "#fb9f3a"
             ],
             [
              0.8888888888888888,
              "#fdca26"
             ],
             [
              1,
              "#f0f921"
             ]
            ],
            "type": "heatmap"
           }
          ],
          "heatmapgl": [
           {
            "colorbar": {
             "outlinewidth": 0,
             "ticks": ""
            },
            "colorscale": [
             [
              0,
              "#0d0887"
             ],
             [
              0.1111111111111111,
              "#46039f"
             ],
             [
              0.2222222222222222,
              "#7201a8"
             ],
             [
              0.3333333333333333,
              "#9c179e"
             ],
             [
              0.4444444444444444,
              "#bd3786"
             ],
             [
              0.5555555555555556,
              "#d8576b"
             ],
             [
              0.6666666666666666,
              "#ed7953"
             ],
             [
              0.7777777777777778,
              "#fb9f3a"
             ],
             [
              0.8888888888888888,
              "#fdca26"
             ],
             [
              1,
              "#f0f921"
             ]
            ],
            "type": "heatmapgl"
           }
          ],
          "histogram": [
           {
            "marker": {
             "pattern": {
              "fillmode": "overlay",
              "size": 10,
              "solidity": 0.2
             }
            },
            "type": "histogram"
           }
          ],
          "histogram2d": [
           {
            "colorbar": {
             "outlinewidth": 0,
             "ticks": ""
            },
            "colorscale": [
             [
              0,
              "#0d0887"
             ],
             [
              0.1111111111111111,
              "#46039f"
             ],
             [
              0.2222222222222222,
              "#7201a8"
             ],
             [
              0.3333333333333333,
              "#9c179e"
             ],
             [
              0.4444444444444444,
              "#bd3786"
             ],
             [
              0.5555555555555556,
              "#d8576b"
             ],
             [
              0.6666666666666666,
              "#ed7953"
             ],
             [
              0.7777777777777778,
              "#fb9f3a"
             ],
             [
              0.8888888888888888,
              "#fdca26"
             ],
             [
              1,
              "#f0f921"
             ]
            ],
            "type": "histogram2d"
           }
          ],
          "histogram2dcontour": [
           {
            "colorbar": {
             "outlinewidth": 0,
             "ticks": ""
            },
            "colorscale": [
             [
              0,
              "#0d0887"
             ],
             [
              0.1111111111111111,
              "#46039f"
             ],
             [
              0.2222222222222222,
              "#7201a8"
             ],
             [
              0.3333333333333333,
              "#9c179e"
             ],
             [
              0.4444444444444444,
              "#bd3786"
             ],
             [
              0.5555555555555556,
              "#d8576b"
             ],
             [
              0.6666666666666666,
              "#ed7953"
             ],
             [
              0.7777777777777778,
              "#fb9f3a"
             ],
             [
              0.8888888888888888,
              "#fdca26"
             ],
             [
              1,
              "#f0f921"
             ]
            ],
            "type": "histogram2dcontour"
           }
          ],
          "mesh3d": [
           {
            "colorbar": {
             "outlinewidth": 0,
             "ticks": ""
            },
            "type": "mesh3d"
           }
          ],
          "parcoords": [
           {
            "line": {
             "colorbar": {
              "outlinewidth": 0,
              "ticks": ""
             }
            },
            "type": "parcoords"
           }
          ],
          "pie": [
           {
            "automargin": true,
            "type": "pie"
           }
          ],
          "scatter": [
           {
            "fillpattern": {
             "fillmode": "overlay",
             "size": 10,
             "solidity": 0.2
            },
            "type": "scatter"
           }
          ],
          "scatter3d": [
           {
            "line": {
             "colorbar": {
              "outlinewidth": 0,
              "ticks": ""
             }
            },
            "marker": {
             "colorbar": {
              "outlinewidth": 0,
              "ticks": ""
             }
            },
            "type": "scatter3d"
           }
          ],
          "scattercarpet": [
           {
            "marker": {
             "colorbar": {
              "outlinewidth": 0,
              "ticks": ""
             }
            },
            "type": "scattercarpet"
           }
          ],
          "scattergeo": [
           {
            "marker": {
             "colorbar": {
              "outlinewidth": 0,
              "ticks": ""
             }
            },
            "type": "scattergeo"
           }
          ],
          "scattergl": [
           {
            "marker": {
             "colorbar": {
              "outlinewidth": 0,
              "ticks": ""
             }
            },
            "type": "scattergl"
           }
          ],
          "scattermapbox": [
           {
            "marker": {
             "colorbar": {
              "outlinewidth": 0,
              "ticks": ""
             }
            },
            "type": "scattermapbox"
           }
          ],
          "scatterpolar": [
           {
            "marker": {
             "colorbar": {
              "outlinewidth": 0,
              "ticks": ""
             }
            },
            "type": "scatterpolar"
           }
          ],
          "scatterpolargl": [
           {
            "marker": {
             "colorbar": {
              "outlinewidth": 0,
              "ticks": ""
             }
            },
            "type": "scatterpolargl"
           }
          ],
          "scatterternary": [
           {
            "marker": {
             "colorbar": {
              "outlinewidth": 0,
              "ticks": ""
             }
            },
            "type": "scatterternary"
           }
          ],
          "surface": [
           {
            "colorbar": {
             "outlinewidth": 0,
             "ticks": ""
            },
            "colorscale": [
             [
              0,
              "#0d0887"
             ],
             [
              0.1111111111111111,
              "#46039f"
             ],
             [
              0.2222222222222222,
              "#7201a8"
             ],
             [
              0.3333333333333333,
              "#9c179e"
             ],
             [
              0.4444444444444444,
              "#bd3786"
             ],
             [
              0.5555555555555556,
              "#d8576b"
             ],
             [
              0.6666666666666666,
              "#ed7953"
             ],
             [
              0.7777777777777778,
              "#fb9f3a"
             ],
             [
              0.8888888888888888,
              "#fdca26"
             ],
             [
              1,
              "#f0f921"
             ]
            ],
            "type": "surface"
           }
          ],
          "table": [
           {
            "cells": {
             "fill": {
              "color": "#EBF0F8"
             },
             "line": {
              "color": "white"
             }
            },
            "header": {
             "fill": {
              "color": "#C8D4E3"
             },
             "line": {
              "color": "white"
             }
            },
            "type": "table"
           }
          ]
         },
         "layout": {
          "annotationdefaults": {
           "arrowcolor": "#2a3f5f",
           "arrowhead": 0,
           "arrowwidth": 1
          },
          "autotypenumbers": "strict",
          "coloraxis": {
           "colorbar": {
            "outlinewidth": 0,
            "ticks": ""
           }
          },
          "colorscale": {
           "diverging": [
            [
             0,
             "#8e0152"
            ],
            [
             0.1,
             "#c51b7d"
            ],
            [
             0.2,
             "#de77ae"
            ],
            [
             0.3,
             "#f1b6da"
            ],
            [
             0.4,
             "#fde0ef"
            ],
            [
             0.5,
             "#f7f7f7"
            ],
            [
             0.6,
             "#e6f5d0"
            ],
            [
             0.7,
             "#b8e186"
            ],
            [
             0.8,
             "#7fbc41"
            ],
            [
             0.9,
             "#4d9221"
            ],
            [
             1,
             "#276419"
            ]
           ],
           "sequential": [
            [
             0,
             "#0d0887"
            ],
            [
             0.1111111111111111,
             "#46039f"
            ],
            [
             0.2222222222222222,
             "#7201a8"
            ],
            [
             0.3333333333333333,
             "#9c179e"
            ],
            [
             0.4444444444444444,
             "#bd3786"
            ],
            [
             0.5555555555555556,
             "#d8576b"
            ],
            [
             0.6666666666666666,
             "#ed7953"
            ],
            [
             0.7777777777777778,
             "#fb9f3a"
            ],
            [
             0.8888888888888888,
             "#fdca26"
            ],
            [
             1,
             "#f0f921"
            ]
           ],
           "sequentialminus": [
            [
             0,
             "#0d0887"
            ],
            [
             0.1111111111111111,
             "#46039f"
            ],
            [
             0.2222222222222222,
             "#7201a8"
            ],
            [
             0.3333333333333333,
             "#9c179e"
            ],
            [
             0.4444444444444444,
             "#bd3786"
            ],
            [
             0.5555555555555556,
             "#d8576b"
            ],
            [
             0.6666666666666666,
             "#ed7953"
            ],
            [
             0.7777777777777778,
             "#fb9f3a"
            ],
            [
             0.8888888888888888,
             "#fdca26"
            ],
            [
             1,
             "#f0f921"
            ]
           ]
          },
          "colorway": [
           "#636efa",
           "#EF553B",
           "#00cc96",
           "#ab63fa",
           "#FFA15A",
           "#19d3f3",
           "#FF6692",
           "#B6E880",
           "#FF97FF",
           "#FECB52"
          ],
          "font": {
           "color": "#2a3f5f"
          },
          "geo": {
           "bgcolor": "white",
           "lakecolor": "white",
           "landcolor": "#E5ECF6",
           "showlakes": true,
           "showland": true,
           "subunitcolor": "white"
          },
          "hoverlabel": {
           "align": "left"
          },
          "hovermode": "closest",
          "mapbox": {
           "style": "light"
          },
          "paper_bgcolor": "white",
          "plot_bgcolor": "#E5ECF6",
          "polar": {
           "angularaxis": {
            "gridcolor": "white",
            "linecolor": "white",
            "ticks": ""
           },
           "bgcolor": "#E5ECF6",
           "radialaxis": {
            "gridcolor": "white",
            "linecolor": "white",
            "ticks": ""
           }
          },
          "scene": {
           "xaxis": {
            "backgroundcolor": "#E5ECF6",
            "gridcolor": "white",
            "gridwidth": 2,
            "linecolor": "white",
            "showbackground": true,
            "ticks": "",
            "zerolinecolor": "white"
           },
           "yaxis": {
            "backgroundcolor": "#E5ECF6",
            "gridcolor": "white",
            "gridwidth": 2,
            "linecolor": "white",
            "showbackground": true,
            "ticks": "",
            "zerolinecolor": "white"
           },
           "zaxis": {
            "backgroundcolor": "#E5ECF6",
            "gridcolor": "white",
            "gridwidth": 2,
            "linecolor": "white",
            "showbackground": true,
            "ticks": "",
            "zerolinecolor": "white"
           }
          },
          "shapedefaults": {
           "line": {
            "color": "#2a3f5f"
           }
          },
          "ternary": {
           "aaxis": {
            "gridcolor": "white",
            "linecolor": "white",
            "ticks": ""
           },
           "baxis": {
            "gridcolor": "white",
            "linecolor": "white",
            "ticks": ""
           },
           "bgcolor": "#E5ECF6",
           "caxis": {
            "gridcolor": "white",
            "linecolor": "white",
            "ticks": ""
           }
          },
          "title": {
           "x": 0.05
          },
          "xaxis": {
           "automargin": true,
           "gridcolor": "white",
           "linecolor": "white",
           "ticks": "",
           "title": {
            "standoff": 15
           },
           "zerolinecolor": "white",
           "zerolinewidth": 2
          },
          "yaxis": {
           "automargin": true,
           "gridcolor": "white",
           "linecolor": "white",
           "ticks": "",
           "title": {
            "standoff": 15
           },
           "zerolinecolor": "white",
           "zerolinewidth": 2
          }
         }
        },
        "title": {
         "text": "Donald Trump Tweets from different sources in 2016 and 2018"
        },
        "xaxis": {
         "title": {
          "text": "Sources"
         }
        },
        "yaxis": {
         "title": {
          "text": "Count"
         }
        }
       }
      },
      "text/html": [
       "<div>                            <div id=\"0d3db7a9-c2f7-41aa-af89-54b62bce51e1\" class=\"plotly-graph-div\" style=\"height:525px; width:100%;\"></div>            <script type=\"text/javascript\">                require([\"plotly\"], function(Plotly) {                    window.PLOTLYENV=window.PLOTLYENV || {};                                    if (document.getElementById(\"0d3db7a9-c2f7-41aa-af89-54b62bce51e1\")) {                    Plotly.newPlot(                        \"0d3db7a9-c2f7-41aa-af89-54b62bce51e1\",                        [{\"name\":\"2016\",\"x\":[\"Twitter for iPhone\",\"Twitter for Android\",\"Twitter Web Client\",\"Twitter Ads\",\"Twitter for iPad\",\"Instagram\",\"TweetDeck\",\"Media Studio\",\"Periscope\"],\"y\":[1950,1275,333,63,22,2,2,1,1],\"type\":\"bar\"},{\"name\":\"2018\",\"x\":[\"Twitter for iPhone\",\"Media Studio\",\"Twitter for iPad\",\"Twitter Media Studio\",\"Twitter Web Client\"],\"y\":[3482,39,17,12,6],\"type\":\"bar\"}],                        {\"template\":{\"data\":{\"barpolar\":[{\"marker\":{\"line\":{\"color\":\"#E5ECF6\",\"width\":0.5},\"pattern\":{\"fillmode\":\"overlay\",\"size\":10,\"solidity\":0.2}},\"type\":\"barpolar\"}],\"bar\":[{\"error_x\":{\"color\":\"#2a3f5f\"},\"error_y\":{\"color\":\"#2a3f5f\"},\"marker\":{\"line\":{\"color\":\"#E5ECF6\",\"width\":0.5},\"pattern\":{\"fillmode\":\"overlay\",\"size\":10,\"solidity\":0.2}},\"type\":\"bar\"}],\"carpet\":[{\"aaxis\":{\"endlinecolor\":\"#2a3f5f\",\"gridcolor\":\"white\",\"linecolor\":\"white\",\"minorgridcolor\":\"white\",\"startlinecolor\":\"#2a3f5f\"},\"baxis\":{\"endlinecolor\":\"#2a3f5f\",\"gridcolor\":\"white\",\"linecolor\":\"white\",\"minorgridcolor\":\"white\",\"startlinecolor\":\"#2a3f5f\"},\"type\":\"carpet\"}],\"choropleth\":[{\"colorbar\":{\"outlinewidth\":0,\"ticks\":\"\"},\"type\":\"choropleth\"}],\"contourcarpet\":[{\"colorbar\":{\"outlinewidth\":0,\"ticks\":\"\"},\"type\":\"contourcarpet\"}],\"contour\":[{\"colorbar\":{\"outlinewidth\":0,\"ticks\":\"\"},\"colorscale\":[[0.0,\"#0d0887\"],[0.1111111111111111,\"#46039f\"],[0.2222222222222222,\"#7201a8\"],[0.3333333333333333,\"#9c179e\"],[0.4444444444444444,\"#bd3786\"],[0.5555555555555556,\"#d8576b\"],[0.6666666666666666,\"#ed7953\"],[0.7777777777777778,\"#fb9f3a\"],[0.8888888888888888,\"#fdca26\"],[1.0,\"#f0f921\"]],\"type\":\"contour\"}],\"heatmapgl\":[{\"colorbar\":{\"outlinewidth\":0,\"ticks\":\"\"},\"colorscale\":[[0.0,\"#0d0887\"],[0.1111111111111111,\"#46039f\"],[0.2222222222222222,\"#7201a8\"],[0.3333333333333333,\"#9c179e\"],[0.4444444444444444,\"#bd3786\"],[0.5555555555555556,\"#d8576b\"],[0.6666666666666666,\"#ed7953\"],[0.7777777777777778,\"#fb9f3a\"],[0.8888888888888888,\"#fdca26\"],[1.0,\"#f0f921\"]],\"type\":\"heatmapgl\"}],\"heatmap\":[{\"colorbar\":{\"outlinewidth\":0,\"ticks\":\"\"},\"colorscale\":[[0.0,\"#0d0887\"],[0.1111111111111111,\"#46039f\"],[0.2222222222222222,\"#7201a8\"],[0.3333333333333333,\"#9c179e\"],[0.4444444444444444,\"#bd3786\"],[0.5555555555555556,\"#d8576b\"],[0.6666666666666666,\"#ed7953\"],[0.7777777777777778,\"#fb9f3a\"],[0.8888888888888888,\"#fdca26\"],[1.0,\"#f0f921\"]],\"type\":\"heatmap\"}],\"histogram2dcontour\":[{\"colorbar\":{\"outlinewidth\":0,\"ticks\":\"\"},\"colorscale\":[[0.0,\"#0d0887\"],[0.1111111111111111,\"#46039f\"],[0.2222222222222222,\"#7201a8\"],[0.3333333333333333,\"#9c179e\"],[0.4444444444444444,\"#bd3786\"],[0.5555555555555556,\"#d8576b\"],[0.6666666666666666,\"#ed7953\"],[0.7777777777777778,\"#fb9f3a\"],[0.8888888888888888,\"#fdca26\"],[1.0,\"#f0f921\"]],\"type\":\"histogram2dcontour\"}],\"histogram2d\":[{\"colorbar\":{\"outlinewidth\":0,\"ticks\":\"\"},\"colorscale\":[[0.0,\"#0d0887\"],[0.1111111111111111,\"#46039f\"],[0.2222222222222222,\"#7201a8\"],[0.3333333333333333,\"#9c179e\"],[0.4444444444444444,\"#bd3786\"],[0.5555555555555556,\"#d8576b\"],[0.6666666666666666,\"#ed7953\"],[0.7777777777777778,\"#fb9f3a\"],[0.8888888888888888,\"#fdca26\"],[1.0,\"#f0f921\"]],\"type\":\"histogram2d\"}],\"histogram\":[{\"marker\":{\"pattern\":{\"fillmode\":\"overlay\",\"size\":10,\"solidity\":0.2}},\"type\":\"histogram\"}],\"mesh3d\":[{\"colorbar\":{\"outlinewidth\":0,\"ticks\":\"\"},\"type\":\"mesh3d\"}],\"parcoords\":[{\"line\":{\"colorbar\":{\"outlinewidth\":0,\"ticks\":\"\"}},\"type\":\"parcoords\"}],\"pie\":[{\"automargin\":true,\"type\":\"pie\"}],\"scatter3d\":[{\"line\":{\"colorbar\":{\"outlinewidth\":0,\"ticks\":\"\"}},\"marker\":{\"colorbar\":{\"outlinewidth\":0,\"ticks\":\"\"}},\"type\":\"scatter3d\"}],\"scattercarpet\":[{\"marker\":{\"colorbar\":{\"outlinewidth\":0,\"ticks\":\"\"}},\"type\":\"scattercarpet\"}],\"scattergeo\":[{\"marker\":{\"colorbar\":{\"outlinewidth\":0,\"ticks\":\"\"}},\"type\":\"scattergeo\"}],\"scattergl\":[{\"marker\":{\"colorbar\":{\"outlinewidth\":0,\"ticks\":\"\"}},\"type\":\"scattergl\"}],\"scattermapbox\":[{\"marker\":{\"colorbar\":{\"outlinewidth\":0,\"ticks\":\"\"}},\"type\":\"scattermapbox\"}],\"scatterpolargl\":[{\"marker\":{\"colorbar\":{\"outlinewidth\":0,\"ticks\":\"\"}},\"type\":\"scatterpolargl\"}],\"scatterpolar\":[{\"marker\":{\"colorbar\":{\"outlinewidth\":0,\"ticks\":\"\"}},\"type\":\"scatterpolar\"}],\"scatter\":[{\"fillpattern\":{\"fillmode\":\"overlay\",\"size\":10,\"solidity\":0.2},\"type\":\"scatter\"}],\"scatterternary\":[{\"marker\":{\"colorbar\":{\"outlinewidth\":0,\"ticks\":\"\"}},\"type\":\"scatterternary\"}],\"surface\":[{\"colorbar\":{\"outlinewidth\":0,\"ticks\":\"\"},\"colorscale\":[[0.0,\"#0d0887\"],[0.1111111111111111,\"#46039f\"],[0.2222222222222222,\"#7201a8\"],[0.3333333333333333,\"#9c179e\"],[0.4444444444444444,\"#bd3786\"],[0.5555555555555556,\"#d8576b\"],[0.6666666666666666,\"#ed7953\"],[0.7777777777777778,\"#fb9f3a\"],[0.8888888888888888,\"#fdca26\"],[1.0,\"#f0f921\"]],\"type\":\"surface\"}],\"table\":[{\"cells\":{\"fill\":{\"color\":\"#EBF0F8\"},\"line\":{\"color\":\"white\"}},\"header\":{\"fill\":{\"color\":\"#C8D4E3\"},\"line\":{\"color\":\"white\"}},\"type\":\"table\"}]},\"layout\":{\"annotationdefaults\":{\"arrowcolor\":\"#2a3f5f\",\"arrowhead\":0,\"arrowwidth\":1},\"autotypenumbers\":\"strict\",\"coloraxis\":{\"colorbar\":{\"outlinewidth\":0,\"ticks\":\"\"}},\"colorscale\":{\"diverging\":[[0,\"#8e0152\"],[0.1,\"#c51b7d\"],[0.2,\"#de77ae\"],[0.3,\"#f1b6da\"],[0.4,\"#fde0ef\"],[0.5,\"#f7f7f7\"],[0.6,\"#e6f5d0\"],[0.7,\"#b8e186\"],[0.8,\"#7fbc41\"],[0.9,\"#4d9221\"],[1,\"#276419\"]],\"sequential\":[[0.0,\"#0d0887\"],[0.1111111111111111,\"#46039f\"],[0.2222222222222222,\"#7201a8\"],[0.3333333333333333,\"#9c179e\"],[0.4444444444444444,\"#bd3786\"],[0.5555555555555556,\"#d8576b\"],[0.6666666666666666,\"#ed7953\"],[0.7777777777777778,\"#fb9f3a\"],[0.8888888888888888,\"#fdca26\"],[1.0,\"#f0f921\"]],\"sequentialminus\":[[0.0,\"#0d0887\"],[0.1111111111111111,\"#46039f\"],[0.2222222222222222,\"#7201a8\"],[0.3333333333333333,\"#9c179e\"],[0.4444444444444444,\"#bd3786\"],[0.5555555555555556,\"#d8576b\"],[0.6666666666666666,\"#ed7953\"],[0.7777777777777778,\"#fb9f3a\"],[0.8888888888888888,\"#fdca26\"],[1.0,\"#f0f921\"]]},\"colorway\":[\"#636efa\",\"#EF553B\",\"#00cc96\",\"#ab63fa\",\"#FFA15A\",\"#19d3f3\",\"#FF6692\",\"#B6E880\",\"#FF97FF\",\"#FECB52\"],\"font\":{\"color\":\"#2a3f5f\"},\"geo\":{\"bgcolor\":\"white\",\"lakecolor\":\"white\",\"landcolor\":\"#E5ECF6\",\"showlakes\":true,\"showland\":true,\"subunitcolor\":\"white\"},\"hoverlabel\":{\"align\":\"left\"},\"hovermode\":\"closest\",\"mapbox\":{\"style\":\"light\"},\"paper_bgcolor\":\"white\",\"plot_bgcolor\":\"#E5ECF6\",\"polar\":{\"angularaxis\":{\"gridcolor\":\"white\",\"linecolor\":\"white\",\"ticks\":\"\"},\"bgcolor\":\"#E5ECF6\",\"radialaxis\":{\"gridcolor\":\"white\",\"linecolor\":\"white\",\"ticks\":\"\"}},\"scene\":{\"xaxis\":{\"backgroundcolor\":\"#E5ECF6\",\"gridcolor\":\"white\",\"gridwidth\":2,\"linecolor\":\"white\",\"showbackground\":true,\"ticks\":\"\",\"zerolinecolor\":\"white\"},\"yaxis\":{\"backgroundcolor\":\"#E5ECF6\",\"gridcolor\":\"white\",\"gridwidth\":2,\"linecolor\":\"white\",\"showbackground\":true,\"ticks\":\"\",\"zerolinecolor\":\"white\"},\"zaxis\":{\"backgroundcolor\":\"#E5ECF6\",\"gridcolor\":\"white\",\"gridwidth\":2,\"linecolor\":\"white\",\"showbackground\":true,\"ticks\":\"\",\"zerolinecolor\":\"white\"}},\"shapedefaults\":{\"line\":{\"color\":\"#2a3f5f\"}},\"ternary\":{\"aaxis\":{\"gridcolor\":\"white\",\"linecolor\":\"white\",\"ticks\":\"\"},\"baxis\":{\"gridcolor\":\"white\",\"linecolor\":\"white\",\"ticks\":\"\"},\"bgcolor\":\"#E5ECF6\",\"caxis\":{\"gridcolor\":\"white\",\"linecolor\":\"white\",\"ticks\":\"\"}},\"title\":{\"x\":0.05},\"xaxis\":{\"automargin\":true,\"gridcolor\":\"white\",\"linecolor\":\"white\",\"ticks\":\"\",\"title\":{\"standoff\":15},\"zerolinecolor\":\"white\",\"zerolinewidth\":2},\"yaxis\":{\"automargin\":true,\"gridcolor\":\"white\",\"linecolor\":\"white\",\"ticks\":\"\",\"title\":{\"standoff\":15},\"zerolinecolor\":\"white\",\"zerolinewidth\":2}}},\"title\":{\"text\":\"Donald Trump Tweets from different sources in 2016 and 2018\"},\"xaxis\":{\"title\":{\"text\":\"Sources\"}},\"yaxis\":{\"title\":{\"text\":\"Count\"}}},                        {\"responsive\": true}                    ).then(function(){\n",
       "                            \n",
       "var gd = document.getElementById('0d3db7a9-c2f7-41aa-af89-54b62bce51e1');\n",
       "var x = new MutationObserver(function (mutations, observer) {{\n",
       "        var display = window.getComputedStyle(gd).display;\n",
       "        if (!display || display === 'none') {{\n",
       "            console.log([gd, 'removed!']);\n",
       "            Plotly.purge(gd);\n",
       "            observer.disconnect();\n",
       "        }}\n",
       "}});\n",
       "\n",
       "// Listen for the removal of the full notebook cells\n",
       "var notebookContainer = gd.closest('#notebook-container');\n",
       "if (notebookContainer) {{\n",
       "    x.observe(notebookContainer, {childList: true});\n",
       "}}\n",
       "\n",
       "// Listen for the clearing of the current output cell\n",
       "var outputEl = gd.closest('.output');\n",
       "if (outputEl) {{\n",
       "    x.observe(outputEl, {childList: true});\n",
       "}}\n",
       "\n",
       "                        })                };                });            </script>        </div>"
      ]
     },
     "metadata": {},
     "output_type": "display_data"
    }
   ],
   "source": [
    "tweets_2016 = data_2016.source.value_counts()\n",
    "tweets_2018 = data_2018.source.value_counts()\n",
    "layout = {\n",
    "    \"title\" : \"Donald Trump Tweets from different sources in 2016 and 2018\",\n",
    "    \"xaxis_title\" : \"Sources\",\n",
    "    \"yaxis_title\" : \"Count\"\n",
    "}\n",
    "iplot(go.Figure([go.Bar(x=tweets_2016.index,y=tweets_2016.values,name=\"2016\"),go.Bar(x=tweets_2018.index,y=tweets_2018.values,name=\"2018\")],layout=layout))"
   ]
  },
  {
   "cell_type": "markdown",
   "metadata": {},
   "source": []
  },
  {
   "cell_type": "code",
   "execution_count": 7,
   "metadata": {},
   "outputs": [
    {
     "name": "stdout",
     "output_type": "stream",
     "text": [
      "Donate Today To Help Make America Great Again! You Can Help Stop Crooked Hillary Clinton! https://t.co/VlObaDG4eR https://t.co/mBDwW5orrd\n",
      "Donate Today To Help Make America Great Again! You Can Help Stop Crooked Hillary Clinton! https://t.co/swzCe5PiNI https://t.co/0fmgNBuAcc\n",
      "URGENT: we’ve just announced a $2 million fundraising goal tonight. Please stand with us! https://t.co/Ssrh55C6hW https://t.co/2KjT4TJ07Y\n",
      "#TextTrump88022 for exclusive @realDonaldTrump updates!  We will Make America Great Again!\n",
      "Limited opportunity to get your OFFICIAL Trump gear! Shop now! https://t.co/LQMDdNkUwR https://t.co/KSAv65FuiD\n",
      "Limited opportunity to get your OFFICIAL Trump gear! Shop now! https://t.co/3lUaSztKYx https://t.co/ssNVgF7PTt\n",
      "Limited opportunity to get your OFFICIAL Trump gear! Shop now!  https://t.co/3lUaSztKYx\n",
      "We’ve just set a new goal: raise $4 million from our grassroots supporters by MIDNIGHT! https://t.co/Ssrh55C6hW https://t.co/9Hd6dRcojF\n",
      "We’ve just set a new goal: raise $4 million from our grassroots supporters by MIDNIGHT! https://t.co/Ssrh55C6hW https://t.co/8E0LiC8wYE\n",
      "I’m with you! I will work hard and never let you down. Make America Great Again! https://t.co/V92PkdHbG6 https://t.co/SQs6ERk6El\n",
      "I’m with you! I will work hard and never let you down. Make America Great Again! https://t.co/V92PkdHbG6 https://t.co/FhWHekyU4Q\n",
      "I’m with you! I will work hard and never let you down. Make America Great Again! https://t.co/ajAJ13xQvr\n",
      "I'm with you! I will work hard and never let you down. Make America Great Again! https://t.co/LwxMIAn0kK\n",
      "I'm with you! I will work hard and never let you down. Make America Great Again! https://t.co/CWfECeUSSq\n",
      "I will once again write a $1 MILLION check to our campaign if we hit our million-dollar end-of-month goal! https://t.co/CgHp1CqPSp\n",
      "I will once again write a $1 MILLION check to our campaign if we hit our million-dollar end-of-month goal! https://t.co/fUTugI2R2k\n",
      "I will write a $2 MILLION check to our campaign if we hit our million-dollar end-of-month goal! https://t.co/fUTugI2R2k\n",
      "We crushed the original goal! I will write a $2 MILLION check to our campaign if we hit our end-of-month goal!  https://t.co/n6W9Dm6FqY\n",
      "LIMITED EDITION signed copies of my book \"The Art of the Deal\" for your donation of $184 or more.  Get YOURS today! https://t.co/NNOM5GANxD\n",
      "LIMITED EDITION signed copies of my book \"The Art of the Deal\" for your donation of $184 or more.  Get YOURS today!  https://t.co/KpVEN635SH\n",
      "LIMITED EDITION signed copies of my book \"The Art of the Deal\" for your donation of $184 or more.  Get YOURS today! https://t.co/4LnzfKRsqZ\n",
      "I am counting on your help to defeat Hillary Clinton and her cronies. Let's Make America Great Again! https://t.co/z3pzKBfP0U\n",
      "I'm with YOU. I will work hard and never let you down. Make America Great Again!  https://t.co/wotYvx6Prz\n",
      "I'm with YOU. I will work hard and never let you down. Make America Great Again! https://t.co/im2J6xXq1u\n",
      "I'm with YOU. I will work hard and never let you down. Make America Great Again! https://t.co/Eb6jr4nbj3\n",
      "We need your support to get to the White House and defeat #CrookedHillary.  Let's Make America Great Again! https://t.co/J7ICZN3Bus\n",
      "The Establishment and special interests are absolutely killing our country. We must put #AmericaFirst.  https://t.co/jMgAETgW6U\n",
      "As President I WILL fix this rigged system and only answer to YOU the American people! https://t.co/98Vtqu4i7n\n",
      "I am counting on your help to defeat Hillary Clinton and her cronies. Let's Make America Great Again! https://t.co/0KL9McborU\n",
      "I'm with YOU. I will work hard and never let you down. Make America Great Again! https://t.co/k1ZvNC3YAC\n",
      "We need your support to get to the White House and defeat #CrookedHillary.  Let's Make America Great Again! https://t.co/u2WQondgqm\n",
      "The Establishment and special interests are absolutely killing our country. We must put #AmericaFirst. https://t.co/GMYEWngo2y\n",
      "As President I WILL fix this rigged system and only answer to YOU the American people! https://t.co/laUdwGO1aX\n",
      "I am counting on your help to defeat Hillary Clinton and her cronies. Let's Make America Great Again!  https://t.co/c7Ekrgn9jx\n",
      "We need your support to get to the White House and defeat #CrookedHillary.  Let's Make America Great Again! https://t.co/FgPFo1NWiC\n",
      "I'm with YOU. I will work hard and never let you down. Make America Great Again! https://t.co/NTDm6xfREg\n",
      "The Establishment and special interests are absolutely killing our country. We must put #AmericaFirst. https://t.co/XcqwGHAUue\n",
      "As President I WILL fix this rigged system and only answer to YOU the American people! https://t.co/4GWAHgf8us\n",
      "We need your support to get to the White House and defeat #CrookedHillary. Let's Make America Great Again! https://t.co/bwxirLtPXY\n",
      "I'm with YOU. I will work hard and never let you down. Make America Great Again! https://t.co/DGMxQYUm7s\n",
      "The Establishment and special interests are absolutely killing our country. We must put #AmericaFirst. https://t.co/IBt9JpYh7p\n",
      "As President I WILL fix this rigged system and only answer to YOU the American people! https://t.co/pteWtMjXVO\n",
      "As President I WILL fix this rigged system and only answer to YOU the American people! https://t.co/r1ySXDJ1Wq\n",
      "I'm with YOU! I will work hard and never let you down. Make America Great Again! https://t.co/XT3U5mY0oc\n",
      "The Establishment and special interests are absolutely killing our country. We must put #AmericaFirst.  https://t.co/Q96e1Npa5d\n",
      "LIMITED EDITION signed copies of my book \"The Art of the Deal\" for your donation of $184 or more. Get YOURS today! https://t.co/pvNwKWlFy1\n",
      "LIMITED EDITION signed copies of my book \"The Art of the Deal\" for your donation of $184 or more. Get YOURS today! https://t.co/wzsE7SoGUG\n",
      "Act NOW for your chance to have a private lunch with Eric Trump &amp; tour of campaign HQ at Trump Tower in NYC. https://t.co/dDA0CZWdYF\n",
      "Act NOW for your chance to have a private lunch with Eric Trump &amp; tour of campaign HQ at Trump Tower in NYC.  https://t.co/4ccXAY5ZNo\n",
      "Act NOW for your chance to have a private lunch with Eric Trump &amp; tour of campaign HQ at Trump Tower in NYC. https://t.co/J3NzuVpruI\n",
      "Act NOW for your chance to have a private lunch with Eric Trump &amp; tour of campaign HQ at Trump Tower in NYC. https://t.co/szAygwbchK\n",
      "Act NOW for your chance to have a private lunch with Eric Trump &amp; tour of campaign HQ at Trump Tower in NYC. https://t.co/fwU0jMcB1m\n",
      "Act NOW for your chance to have a private lunch with Eric Trump &amp; tour of campaign HQ at Trump Tower in NYC. https://t.co/RBLII8rIfo\n",
      "I am counting on your help to defeat Hillary Clinton and her cronies. Let's Make America Great Again! https://t.co/fSKOf0Jz9K\n",
      "I'm with YOU. I will work hard and never let you down. Make America Great Again! https://t.co/uHiGJ6Pe3E\n",
      "The Establishment and special interests are absolutely killing our country.  We must put #AmericaFirst. https://t.co/R751UfHQ0A\n",
      "I'm with YOU! I will work hard and never let you down. Make America Great Again! https://t.co/xI4qjds5fP\n",
      "I'm with YOU. I will work hard and never let you down. Make America Great Again! https://t.co/vzZZ6M5K9t\n",
      "The Establishment and special interests are absolutely killing our country. We must put #AmericaFirst. https://t.co/mjTScP4sZ2\n",
      "We need your support to get to the White House and defeat #CrookedHillary. Let's Make America Great Again! https://t.co/AKIHQW4ljd\n",
      "This is a crossroads in the history of our civilization that will determine whether or not We The People reclaim c… https://t.co/a84WMHpSYy\n",
      "It is time to #DrainTheSwamp in Washington D.C! Vote Nov. 8th to take down the #RIGGED system! https://t.co/Ox9hH13Q9I\n",
      ".@transition2017 update and policy plans for the first 100 days. https://t.co/HTgPXfPWeJ\n"
     ]
    }
   ],
   "source": [
    "for tweet in data_2016[data_2016.source==\"Twitter Ads\"].text.values :\n",
    "    print(tweet)"
   ]
  },
  {
   "cell_type": "markdown",
   "metadata": {},
   "source": [
    "### ReTweet Analysis\n",
    "\n",
    "If it is a retweet then it is most likely that the tweet was retweeted by someone from his staff member"
   ]
  },
  {
   "cell_type": "code",
   "execution_count": 8,
   "metadata": {},
   "outputs": [
    {
     "data": {
      "text/plain": [
       "source\n",
       "Twitter for iPhone     141\n",
       "Twitter Web Client      43\n",
       "Twitter for iPad         2\n",
       "Twitter for Android      1\n",
       "Name: count, dtype: int64"
      ]
     },
     "execution_count": 8,
     "metadata": {},
     "output_type": "execute_result"
    }
   ],
   "source": [
    "data_2016[data_2016.is_retweet==True].source.value_counts()"
   ]
  },
  {
   "cell_type": "code",
   "execution_count": 147,
   "metadata": {},
   "outputs": [],
   "source": [
    "from datetime import datetime\n",
    "\n",
    "def convert_date_to_hour(date_string):\n",
    "    # Specify the input date format\n",
    "    if \"-\" in date_string:\n",
    "        date_format = \"%m-%d-%Y %H:%M:%S\"\n",
    "    elif \"/\" in date_string:\n",
    "        date_format = \"%m/%d/%Y %H:%M\"\n",
    "    \n",
    "    # Parse the input date string and extract the time\n",
    "    datetime_obj = datetime.strptime(date_string, date_format)\n",
    "    hour = datetime_obj.hour\n",
    "    \n",
    "    return hour"
   ]
  },
  {
   "cell_type": "markdown",
   "metadata": {},
   "source": [
    "### Time based Analysis\n",
    "\n",
    "As we can see in the below graphs that Actual Tweets made by Trump are spiking at a particular time of day and he is inactive in other time."
   ]
  },
  {
   "cell_type": "code",
   "execution_count": 10,
   "metadata": {},
   "outputs": [
    {
     "data": {
      "application/vnd.plotly.v1+json": {
       "config": {
        "plotlyServerURL": "https://plot.ly"
       },
       "data": [
        {
         "name": "Tweets from iPhone",
         "opacity": 0.5,
         "type": "histogram",
         "x": [
          3,
          5,
          6,
          3,
          4,
          22,
          4,
          4,
          16,
          23,
          23,
          0,
          15,
          20,
          23,
          2,
          21,
          22,
          22,
          22,
          23,
          2,
          16,
          16,
          17,
          17,
          17,
          18,
          0,
          0,
          0,
          20,
          21,
          21,
          21,
          21,
          23,
          0,
          14,
          14,
          14,
          15,
          15,
          19,
          19,
          19,
          22,
          15,
          20,
          21,
          2,
          2,
          3,
          4,
          13,
          18,
          18,
          18,
          19,
          19,
          0,
          4,
          5,
          5,
          5,
          18,
          23,
          19,
          13,
          16,
          18,
          18,
          18,
          18,
          18,
          19,
          19,
          0,
          17,
          14,
          14,
          14,
          17,
          19,
          23,
          2,
          3,
          14,
          14,
          14,
          15,
          15,
          15,
          15,
          16,
          18,
          22,
          22,
          1,
          1,
          4,
          13,
          15,
          18,
          20,
          22,
          22,
          23,
          23,
          13,
          20,
          23,
          23,
          23,
          23,
          0,
          0,
          3,
          3,
          3,
          5,
          17,
          21,
          21,
          22,
          23,
          23,
          23,
          23,
          1,
          1,
          1,
          1,
          2,
          2,
          3,
          13,
          16,
          16,
          17,
          20,
          20,
          20,
          20,
          21,
          23,
          1,
          1,
          1,
          15,
          15,
          21,
          22,
          13,
          13,
          18,
          19,
          21,
          22,
          22,
          22,
          22,
          23,
          23,
          2,
          12,
          12,
          15,
          16,
          16,
          16,
          19,
          21,
          21,
          21,
          22,
          2,
          4,
          11,
          21,
          22,
          3,
          3,
          3,
          4,
          15,
          15,
          17,
          17,
          22,
          0,
          3,
          5,
          5,
          5,
          6,
          6,
          12,
          13,
          14,
          17,
          17,
          18,
          18,
          18,
          20,
          21,
          1,
          2,
          14,
          15,
          16,
          16,
          16,
          16,
          18,
          21,
          2,
          22,
          19,
          19,
          20,
          20,
          20,
          21,
          22,
          2,
          6,
          6,
          6,
          6,
          14,
          16,
          22,
          16,
          17,
          21,
          22,
          23,
          2,
          2,
          2,
          2,
          3,
          3,
          15,
          17,
          23,
          0,
          13,
          13,
          13,
          14,
          16,
          20,
          20,
          21,
          22,
          16,
          16,
          16,
          18,
          18,
          18,
          19,
          19,
          22,
          2,
          4,
          14,
          14,
          15,
          3,
          12,
          12,
          13,
          2,
          2,
          23,
          0,
          1,
          3,
          4,
          4,
          12,
          14,
          18,
          18,
          19,
          23,
          2,
          2,
          2,
          15,
          15,
          16,
          16,
          17,
          17,
          17,
          0,
          0,
          0,
          1,
          5,
          5,
          5,
          6,
          6,
          6,
          6,
          14,
          14,
          17,
          17,
          17,
          17,
          20,
          21,
          3,
          4,
          12,
          17,
          18,
          21,
          22,
          23,
          14,
          14,
          16,
          16,
          16,
          16,
          16,
          23,
          13,
          13,
          13,
          18,
          19,
          19,
          20,
          20,
          0,
          0,
          0,
          18,
          18,
          20,
          20,
          20,
          20,
          20,
          20,
          20,
          21,
          23,
          0,
          18,
          0,
          1,
          1,
          1,
          1,
          1,
          3,
          3,
          5,
          16,
          16,
          23,
          23,
          1,
          1,
          1,
          5,
          6,
          17,
          17,
          18,
          18,
          1,
          4,
          16,
          16,
          16,
          16,
          17,
          17,
          18,
          22,
          5,
          5,
          6,
          6,
          6,
          6,
          6,
          16,
          16,
          16,
          16,
          20,
          21,
          21,
          21,
          2,
          5,
          14,
          22,
          22,
          2,
          3,
          16,
          17,
          17,
          18,
          19,
          19,
          19,
          21,
          22,
          0,
          1,
          12,
          14,
          15,
          15,
          16,
          16,
          18,
          19,
          22,
          22,
          0,
          1,
          1,
          19,
          19,
          19,
          19,
          19,
          19,
          20,
          22,
          0,
          1,
          1,
          1,
          1,
          4,
          5,
          19,
          23,
          23,
          23,
          23,
          23,
          2,
          14,
          15,
          16,
          20,
          1,
          1,
          4,
          5,
          12,
          16,
          17,
          18,
          21,
          21,
          23,
          2,
          3,
          16,
          16,
          16,
          16,
          16,
          17,
          17,
          18,
          18,
          18,
          18,
          18,
          19,
          2,
          3,
          15,
          17,
          17,
          17,
          17,
          17,
          18,
          18,
          22,
          22,
          23,
          0,
          1,
          2,
          2,
          2,
          2,
          14,
          15,
          17,
          17,
          17,
          17,
          17,
          23,
          1,
          1,
          1,
          2,
          2,
          3,
          7,
          21,
          22,
          23,
          5,
          5,
          6,
          15,
          15,
          15,
          15,
          16,
          17,
          21,
          22,
          23,
          2,
          18,
          18,
          18,
          18,
          18,
          20,
          22,
          23,
          2,
          3,
          17,
          17,
          18,
          20,
          0,
          0,
          12,
          15,
          16,
          16,
          16,
          0,
          1,
          12,
          12,
          13,
          13,
          14,
          0,
          0,
          1,
          1,
          2,
          3,
          17,
          21,
          15,
          20,
          20,
          20,
          20,
          20,
          21,
          0,
          1,
          1,
          1,
          3,
          3,
          4,
          4,
          4,
          4,
          4,
          15,
          19,
          0,
          0,
          0,
          1,
          3,
          12,
          15,
          18,
          18,
          19,
          19,
          22,
          3,
          18,
          14,
          18,
          22,
          14,
          19,
          19,
          19,
          19,
          20,
          21,
          21,
          0,
          3,
          16,
          16,
          17,
          21,
          21,
          13,
          19,
          20,
          22,
          22,
          2,
          19,
          22,
          19,
          20,
          20,
          20,
          23,
          3,
          3,
          13,
          17,
          18,
          20,
          23,
          0,
          2,
          14,
          16,
          18,
          20,
          20,
          21,
          0,
          1,
          3,
          12,
          17,
          19,
          20,
          22,
          0,
          0,
          3,
          21,
          19,
          20,
          20,
          22,
          22,
          23,
          1,
          10,
          16,
          16,
          22,
          5,
          5,
          13,
          1,
          4,
          17,
          3,
          21,
          21,
          0,
          14,
          16,
          18,
          23,
          0,
          0,
          2,
          21,
          23,
          3,
          15,
          16,
          1,
          15,
          22,
          1,
          1,
          2,
          22,
          15,
          17,
          22,
          23,
          0,
          1,
          13,
          14,
          16,
          19,
          19,
          20,
          18,
          21,
          22,
          22,
          1,
          1,
          12,
          13,
          16,
          18,
          18,
          18,
          18,
          18,
          19,
          0,
          0,
          0,
          0,
          1,
          17,
          17,
          17,
          17,
          17,
          18,
          18,
          20,
          22,
          22,
          1,
          1,
          21,
          22,
          23,
          0,
          0,
          0,
          4,
          4,
          16,
          20,
          13,
          15,
          16,
          16,
          20,
          21,
          21,
          23,
          14,
          16,
          19,
          21,
          21,
          21,
          21,
          22,
          2,
          2,
          11,
          14,
          15,
          15,
          16,
          18,
          23,
          16,
          18,
          23,
          1,
          3,
          18,
          18,
          21,
          23,
          23,
          23,
          0,
          0,
          2,
          2,
          15,
          1,
          12,
          20,
          15,
          15,
          15,
          15,
          0,
          1,
          17,
          17,
          18,
          19,
          15,
          21,
          2,
          21,
          13,
          21,
          3,
          17,
          17,
          23,
          19,
          15,
          15,
          16,
          16,
          20,
          21,
          22,
          17,
          17,
          20,
          14,
          15,
          19,
          19,
          19,
          22,
          0,
          21,
          0,
          0,
          3,
          18,
          23,
          16,
          18,
          21,
          21,
          21,
          22,
          14,
          17,
          23,
          2,
          2,
          4,
          6,
          20,
          20,
          20,
          21,
          21,
          21,
          22,
          23,
          21,
          22,
          23,
          23,
          23,
          20,
          0,
          4,
          16,
          21,
          1,
          1,
          3,
          3,
          3,
          3,
          3,
          16,
          19,
          19,
          22,
          1,
          21,
          13,
          14,
          22,
          3,
          3,
          3,
          3,
          3,
          20,
          19,
          20,
          2,
          13,
          16,
          19,
          20,
          21,
          4,
          14,
          18,
          21,
          21,
          22,
          22,
          22,
          13,
          15,
          16,
          17,
          18,
          19,
          19,
          20,
          20,
          21,
          21,
          21,
          21,
          0,
          18,
          18,
          18,
          2,
          20,
          20,
          21,
          22,
          16,
          16,
          16,
          19,
          19,
          20,
          2,
          15,
          17,
          21,
          23,
          23,
          23,
          23,
          2,
          17,
          19,
          20,
          1,
          1,
          2,
          2,
          3,
          16,
          19,
          17,
          9,
          10,
          10,
          18,
          18,
          4,
          14,
          15,
          16,
          2,
          2,
          2,
          2,
          16,
          22,
          19,
          14,
          14,
          18,
          18,
          19,
          19,
          19,
          19,
          22,
          12,
          12,
          12,
          13,
          13,
          15,
          16,
          17,
          19,
          1,
          13,
          13,
          15,
          15,
          15,
          15,
          15,
          15,
          13,
          0,
          2,
          12,
          21,
          1,
          11,
          20,
          20,
          20,
          13,
          14,
          21,
          23,
          21,
          11,
          19,
          21,
          22,
          0,
          2,
          12,
          12,
          16,
          17,
          17,
          17,
          21,
          21,
          22,
          3,
          12,
          12,
          21,
          21,
          22,
          22,
          22,
          22,
          22,
          22,
          22,
          22,
          22,
          1,
          13,
          14,
          17,
          0,
          16,
          17,
          10,
          17,
          23,
          0,
          4,
          19,
          20,
          17,
          23,
          0,
          2,
          3,
          4,
          17,
          19,
          4,
          5,
          21,
          0,
          20,
          16,
          18,
          21,
          21,
          21,
          21,
          2,
          3,
          17,
          17,
          18,
          19,
          19,
          19,
          3,
          16,
          16,
          17,
          18,
          19,
          21,
          22,
          0,
          2,
          2,
          15,
          20,
          20,
          20,
          21,
          21,
          23,
          2,
          3,
          3,
          3,
          3,
          3,
          3,
          13,
          13,
          16,
          16,
          17,
          18,
          20,
          22,
          0,
          0,
          1,
          3,
          3,
          12,
          12,
          12,
          13,
          14,
          14,
          18,
          18,
          18,
          21,
          22,
          14,
          14,
          18,
          18,
          18,
          18,
          18,
          18,
          20,
          20,
          21,
          22,
          22,
          22,
          22,
          23,
          23,
          1,
          1,
          1,
          2,
          10,
          16,
          17,
          18,
          18,
          18,
          19,
          19,
          21,
          17,
          21,
          22,
          23,
          2,
          15,
          19,
          19,
          22,
          2,
          2,
          2,
          2,
          13,
          19,
          19,
          20,
          22,
          2,
          2,
          3,
          20,
          2,
          2,
          21,
          0,
          13,
          20,
          22,
          22,
          22,
          22,
          22,
          22,
          22,
          22,
          23,
          1,
          20,
          20,
          2,
          15,
          17,
          17,
          20,
          20,
          21,
          23,
          23,
          2,
          2,
          14,
          22,
          17,
          19,
          0,
          19,
          20,
          20,
          18,
          19,
          22,
          23,
          1,
          4,
          4,
          13,
          16,
          22,
          0,
          0,
          10,
          12,
          12,
          13,
          13,
          0,
          1,
          1,
          17,
          23,
          23,
          0,
          12,
          21,
          0,
          1,
          16,
          16,
          21,
          0,
          2,
          14,
          15,
          16,
          17,
          21,
          22,
          0,
          1,
          1,
          20,
          20,
          20,
          21,
          2,
          2,
          12,
          19,
          19,
          19,
          22,
          23,
          23,
          23,
          0,
          16,
          2,
          2,
          14,
          14,
          19,
          22,
          18,
          23,
          0,
          0,
          20,
          23,
          2,
          0,
          0,
          4,
          4,
          4,
          4,
          5,
          5,
          14,
          17,
          22,
          16,
          23,
          17,
          20,
          16,
          13,
          14,
          14,
          16,
          18,
          22,
          12,
          12,
          17,
          17,
          20,
          0,
          1,
          15,
          18,
          20,
          22,
          9,
          16,
          18,
          18,
          19,
          23,
          2,
          16,
          21,
          23,
          23,
          0,
          2,
          20,
          17,
          15,
          3,
          13,
          15,
          19,
          20,
          22,
          22,
          2,
          2,
          2,
          2,
          2,
          13,
          14,
          16,
          20,
          21,
          0,
          0,
          2,
          3,
          14,
          14,
          15,
          17,
          21,
          22,
          22,
          22,
          17,
          4,
          4,
          5,
          5,
          17,
          17,
          21,
          21,
          2,
          2,
          16,
          16,
          16,
          19,
          13,
          13,
          14,
          14,
          14,
          20,
          0,
          11,
          13,
          13,
          18,
          21,
          22,
          14,
          1,
          2,
          15,
          15,
          17,
          17,
          20,
          11,
          14,
          17,
          23,
          18,
          12,
          16,
          22,
          23,
          1,
          1,
          1,
          2,
          2,
          2,
          2,
          2,
          2,
          3,
          4,
          4,
          5,
          5,
          5,
          6,
          12,
          13,
          13,
          13,
          14,
          14,
          14,
          15,
          16,
          19,
          19,
          20,
          20,
          20,
          21,
          22,
          1,
          2,
          16,
          17,
          17,
          21,
          22,
          23,
          0,
          2,
          3,
          3,
          19,
          21,
          22,
          14,
          18,
          20,
          20,
          23,
          0,
          17,
          21,
          21,
          14,
          21,
          22,
          2,
          3,
          19,
          19,
          19,
          22,
          23,
          1,
          1,
          1,
          1,
          1,
          1,
          1,
          1,
          1,
          1,
          1,
          1,
          1,
          2,
          2,
          2,
          2,
          2,
          2,
          2,
          2,
          2,
          2,
          2,
          2,
          2,
          2,
          2,
          18,
          18,
          21,
          21,
          21,
          22,
          22,
          22,
          23,
          1,
          1,
          1,
          4,
          4,
          4,
          18,
          18,
          20,
          20,
          21,
          21,
          22,
          3,
          4,
          22,
          22,
          13,
          16,
          17,
          22,
          0,
          1,
          1,
          1,
          1,
          1,
          1,
          2,
          2,
          2,
          2,
          2,
          2,
          2,
          2,
          3,
          3,
          19,
          19,
          22,
          1,
          12,
          14,
          14,
          15,
          16,
          17,
          18,
          18,
          20,
          21,
          0,
          4,
          13,
          14,
          19,
          22,
          13,
          15,
          15,
          20,
          22,
          22,
          23,
          23,
          1,
          15,
          19,
          1,
          3,
          12,
          15,
          15,
          15,
          18,
          23,
          0,
          13,
          13,
          16,
          16,
          19,
          20,
          14,
          15,
          19,
          19,
          21,
          21,
          22,
          22,
          22,
          22,
          1,
          1,
          2,
          15,
          15,
          15,
          16,
          18,
          18,
          19,
          21,
          0,
          0,
          0,
          1,
          1,
          15,
          16,
          17,
          18,
          18,
          18,
          19,
          19,
          19,
          21,
          21,
          21,
          22,
          22,
          22,
          0,
          0,
          1,
          1,
          1,
          1,
          1,
          1,
          1,
          1,
          1,
          1,
          1,
          1,
          1,
          2,
          2,
          2,
          2,
          2,
          2,
          2,
          2,
          2,
          2,
          2,
          4,
          4,
          4,
          4,
          7,
          13,
          15,
          17,
          18,
          19,
          19,
          19,
          20,
          20,
          20,
          21,
          22,
          15,
          17,
          18,
          18,
          21,
          22,
          22,
          22,
          22,
          22,
          22,
          0,
          2,
          14,
          14,
          17,
          17,
          18,
          18,
          19,
          21,
          21,
          23,
          2,
          2,
          2,
          3,
          16,
          16,
          16,
          17,
          19,
          0,
          0,
          2,
          13,
          14,
          14,
          15,
          16,
          16,
          16,
          18,
          19,
          20,
          21,
          21,
          21,
          0,
          1,
          1,
          14,
          14,
          14,
          14,
          15,
          15,
          15,
          16,
          16,
          18,
          20,
          21,
          21,
          21,
          22,
          22,
          23,
          18,
          1,
          1,
          12,
          12,
          14,
          14,
          14,
          14,
          14,
          14,
          17,
          19,
          20,
          21,
          21,
          22,
          0,
          1,
          14,
          15,
          15,
          17,
          17,
          19,
          4,
          4,
          16,
          17,
          19,
          20,
          1,
          1,
          17,
          19,
          23,
          2,
          3,
          16,
          16,
          19,
          19,
          20,
          13,
          14,
          17,
          18,
          21,
          21,
          21,
          21,
          21,
          21,
          23,
          3,
          14,
          17,
          18,
          18,
          19,
          21,
          23,
          3,
          3,
          15,
          19,
          20,
          20,
          21,
          23,
          2,
          15,
          16,
          16,
          16,
          18,
          18,
          19,
          20,
          23,
          23,
          23,
          23,
          2,
          16,
          20,
          20,
          21,
          21,
          21,
          21,
          0,
          0,
          2,
          4,
          6,
          17,
          18,
          19,
          23,
          23,
          0,
          1,
          4,
          6,
          17,
          19,
          19,
          21,
          21,
          21,
          21,
          22,
          0,
          0,
          0,
          3,
          4,
          4,
          6,
          18,
          23,
          23,
          23,
          1,
          2,
          19,
          15,
          18,
          16,
          13,
          13,
          2,
          20,
          20,
          23,
          15,
          16,
          19,
          20,
          14,
          22,
          2,
          19,
          19,
          13,
          23,
          16,
          21,
          3,
          18,
          19,
          21,
          22,
          23,
          3,
          19,
          22,
          3,
          14,
          14,
          18,
          19,
          19,
          22,
          21,
          0,
          3,
          14,
          22,
          1,
          16,
          3,
          13,
          21,
          0,
          1,
          13,
          20,
          21,
          12,
          23,
          22,
          14,
          19
         ]
        },
        {
         "name": "Tweets from Android",
         "opacity": 0.5,
         "type": "histogram",
         "x": [
          0,
          23,
          23,
          23,
          3,
          12,
          12,
          13,
          20,
          20,
          21,
          21,
          0,
          5,
          13,
          14,
          14,
          17,
          18,
          19,
          20,
          2,
          14,
          11,
          11,
          11,
          13,
          13,
          3,
          15,
          23,
          14,
          14,
          15,
          18,
          18,
          18,
          1,
          1,
          2,
          2,
          3,
          4,
          4,
          4,
          5,
          12,
          14,
          19,
          15,
          15,
          21,
          1,
          1,
          2,
          2,
          2,
          11,
          11,
          11,
          12,
          12,
          12,
          13,
          13,
          15,
          20,
          21,
          1,
          1,
          12,
          18,
          13,
          14,
          14,
          14,
          20,
          13,
          13,
          13,
          14,
          15,
          20,
          22,
          23,
          13,
          14,
          15,
          15,
          16,
          14,
          14,
          13,
          10,
          11,
          15,
          13,
          19,
          19,
          22,
          11,
          13,
          13,
          13,
          23,
          1,
          1,
          1,
          1,
          1,
          3,
          12,
          12,
          12,
          12,
          12,
          12,
          13,
          13,
          14,
          14,
          14,
          14,
          14,
          13,
          16,
          16,
          16,
          16,
          16,
          5,
          13,
          13,
          14,
          14,
          14,
          14,
          19,
          3,
          1,
          14,
          21,
          2,
          12,
          12,
          12,
          12,
          12,
          12,
          13,
          13,
          16,
          21,
          22,
          22,
          3,
          13,
          15,
          23,
          1,
          14,
          15,
          15,
          16,
          16,
          19,
          20,
          20,
          21,
          4,
          16,
          22,
          22,
          12,
          20,
          21,
          21,
          22,
          11,
          12,
          13,
          14,
          10,
          11,
          3,
          3,
          3,
          3,
          11,
          14,
          10,
          10,
          11,
          12,
          14,
          14,
          21,
          21,
          21,
          13,
          15,
          16,
          17,
          17,
          0,
          3,
          11,
          11,
          11,
          15,
          16,
          18,
          12,
          12,
          13,
          14,
          16,
          20,
          20,
          20,
          20,
          21,
          21,
          0,
          1,
          2,
          2,
          2,
          14,
          14,
          15,
          15,
          15,
          17,
          17,
          18,
          1,
          1,
          2,
          13,
          15,
          16,
          16,
          21,
          23,
          23,
          23,
          23,
          1,
          2,
          12,
          20,
          13,
          14,
          14,
          16,
          13,
          15,
          15,
          15,
          15,
          16,
          16,
          17,
          21,
          11,
          12,
          12,
          12,
          12,
          16,
          16,
          17,
          17,
          12,
          11,
          17,
          18,
          18,
          21,
          3,
          3,
          3,
          11,
          11,
          11,
          11,
          11,
          14,
          15,
          13,
          13,
          13,
          14,
          14,
          5,
          13,
          18,
          2,
          2,
          11,
          12,
          13,
          13,
          13,
          15,
          16,
          21,
          15,
          16,
          16,
          17,
          20,
          23,
          23,
          21,
          20,
          11,
          13,
          14,
          14,
          14,
          14,
          18,
          22,
          11,
          11,
          14,
          18,
          4,
          4,
          10,
          10,
          11,
          13,
          14,
          15,
          16,
          16,
          19,
          23,
          0,
          0,
          10,
          10,
          11,
          12,
          12,
          13,
          17,
          18,
          10,
          10,
          10,
          12,
          12,
          13,
          13,
          13,
          20,
          0,
          16,
          19,
          19,
          20,
          20,
          15,
          15,
          15,
          5,
          11,
          16,
          18,
          19,
          19,
          20,
          14,
          14,
          19,
          1,
          2,
          3,
          4,
          14,
          20,
          21,
          21,
          23,
          11,
          11,
          14,
          14,
          14,
          14,
          14,
          15,
          15,
          15,
          15,
          21,
          22,
          22,
          2,
          15,
          19,
          19,
          19,
          19,
          20,
          20,
          13,
          14,
          14,
          19,
          20,
          20,
          21,
          1,
          11,
          17,
          22,
          22,
          23,
          0,
          1,
          1,
          13,
          14,
          14,
          16,
          16,
          4,
          4,
          1,
          2,
          2,
          11,
          12,
          3,
          16,
          12,
          3,
          11,
          13,
          13,
          0,
          0,
          10,
          3,
          3,
          3,
          4,
          12,
          13,
          13,
          13,
          13,
          14,
          10,
          11,
          11,
          12,
          0,
          3,
          12,
          10,
          10,
          21,
          12,
          0,
          1,
          1,
          2,
          13,
          14,
          1,
          3,
          3,
          11,
          11,
          10,
          3,
          3,
          10,
          10,
          11,
          12,
          13,
          11,
          13,
          18,
          3,
          13,
          17,
          23,
          3,
          10,
          11,
          11,
          14,
          23,
          23,
          23,
          4,
          9,
          9,
          10,
          10,
          10,
          10,
          10,
          10,
          12,
          12,
          15,
          15,
          17,
          13,
          13,
          15,
          2,
          9,
          9,
          10,
          10,
          10,
          11,
          10,
          10,
          11,
          12,
          13,
          14,
          10,
          10,
          20,
          2,
          1,
          15,
          10,
          10,
          11,
          11,
          19,
          19,
          19,
          1,
          10,
          11,
          13,
          1,
          3,
          4,
          11,
          11,
          11,
          11,
          11,
          12,
          14,
          14,
          23,
          23,
          23,
          0,
          0,
          1,
          1,
          1,
          2,
          3,
          4,
          11,
          1,
          2,
          10,
          9,
          9,
          9,
          10,
          10,
          23,
          0,
          1,
          1,
          10,
          12,
          16,
          3,
          12,
          20,
          20,
          13,
          23,
          2,
          2,
          2,
          10,
          11,
          5,
          5,
          12,
          12,
          13,
          13,
          13,
          2,
          23,
          13,
          14,
          11,
          16,
          22,
          10,
          11,
          11,
          11,
          20,
          20,
          21,
          21,
          10,
          11,
          16,
          16,
          13,
          22,
          15,
          15,
          15,
          16,
          16,
          16,
          17,
          17,
          19,
          19,
          22,
          12,
          12,
          13,
          13,
          4,
          13,
          13,
          13,
          21,
          21,
          22,
          11,
          12,
          13,
          13,
          13,
          1,
          2,
          23,
          0,
          11,
          12,
          0,
          1,
          12,
          12,
          12,
          15,
          15,
          11,
          12,
          23,
          12,
          18,
          20,
          14,
          15,
          15,
          12,
          12,
          13,
          13,
          13,
          22,
          11,
          11,
          11,
          17,
          1,
          10,
          10,
          16,
          3,
          13,
          13,
          13,
          0,
          0,
          9,
          9,
          21,
          21,
          21,
          12,
          3,
          11,
          11,
          11,
          16,
          16,
          21,
          22,
          22,
          23,
          13,
          13,
          13,
          2,
          13,
          13,
          14,
          22,
          2,
          2,
          1,
          11,
          11,
          20,
          21,
          17,
          20,
          20,
          20,
          21,
          21,
          21,
          21,
          11,
          11,
          12,
          13,
          13,
          14,
          14,
          14,
          15,
          15,
          22,
          22,
          11,
          12,
          4,
          4,
          4,
          11,
          11,
          12,
          13,
          13,
          13,
          14,
          14,
          18,
          1,
          11,
          15,
          12,
          18,
          18,
          18,
          11,
          13,
          13,
          4,
          22,
          23,
          14,
          14,
          14,
          2,
          12,
          13,
          13,
          13,
          13,
          3,
          3,
          4,
          4,
          11,
          12,
          12,
          12,
          13,
          13,
          18,
          18,
          21,
          21,
          20,
          20,
          22,
          23,
          10,
          12,
          12,
          18,
          1,
          3,
          3,
          3,
          12,
          14,
          14,
          13,
          13,
          14,
          23,
          3,
          3,
          10,
          10,
          10,
          10,
          14,
          15,
          15,
          16,
          20,
          22,
          11,
          11,
          11,
          12,
          12,
          13,
          13,
          20,
          20,
          21,
          22,
          22,
          22,
          22,
          23,
          23,
          11,
          11,
          12,
          12,
          13,
          13,
          13,
          14,
          14,
          21,
          21,
          3,
          3,
          12,
          12,
          12,
          22,
          22,
          1,
          2,
          2,
          2,
          9,
          9,
          9,
          10,
          10,
          12,
          13,
          12,
          12,
          13,
          13,
          13,
          13,
          14,
          14,
          16,
          17,
          17,
          16,
          19,
          20,
          21,
          22,
          22,
          22,
          22,
          23,
          3,
          12,
          13,
          20,
          0,
          11,
          11,
          12,
          13,
          19,
          2,
          9,
          10,
          10,
          11,
          14,
          14,
          18,
          1,
          13,
          21,
          23,
          15,
          2,
          11,
          11,
          15,
          10,
          11,
          11,
          13,
          18,
          18,
          20,
          12,
          12,
          12,
          12,
          16,
          16,
          17,
          23,
          0,
          1,
          1,
          12,
          22,
          23,
          23,
          0,
          1,
          11,
          11,
          12,
          23,
          12,
          13,
          14,
          12,
          12,
          2,
          13,
          14,
          14,
          16,
          17,
          14,
          23,
          23,
          13,
          13,
          13,
          13,
          13,
          10,
          13,
          0,
          10,
          10,
          10,
          12,
          12,
          12,
          20,
          20,
          12,
          16,
          22,
          23,
          23,
          23,
          23,
          11,
          11,
          4,
          10,
          10,
          10,
          12,
          4,
          5,
          5,
          6,
          12,
          12,
          15,
          18,
          23,
          1,
          10,
          11,
          0,
          3,
          3,
          3,
          10,
          13,
          1,
          5,
          11,
          13,
          21,
          22,
          23,
          23,
          13,
          11,
          12,
          0,
          0,
          11,
          2,
          12,
          12,
          13,
          13,
          0,
          1,
          4,
          5,
          10,
          12,
          17,
          12,
          2,
          7,
          9,
          9,
          9,
          12,
          18,
          20,
          20,
          21,
          21,
          11,
          11,
          23,
          23,
          0,
          0,
          1,
          1,
          1,
          2,
          13,
          14,
          19,
          0,
          13,
          14,
          17,
          17,
          19,
          13,
          16,
          17,
          23,
          12,
          13,
          10,
          11,
          12,
          18,
          22,
          0,
          11,
          11,
          12,
          17,
          20,
          20,
          21,
          22,
          22,
          22,
          12,
          12,
          12,
          15,
          16,
          19,
          2,
          14,
          17,
          3,
          3,
          12,
          14,
          23,
          12,
          12,
          11,
          13,
          22,
          17,
          1,
          13,
          13,
          14,
          14,
          10,
          11,
          12,
          10,
          11,
          12,
          12,
          12,
          13,
          11,
          21,
          21,
          21,
          11,
          2,
          2,
          11,
          13,
          15,
          14,
          14,
          14,
          15,
          15,
          16,
          16,
          13,
          13,
          2,
          11,
          12,
          12,
          12,
          12,
          2,
          2,
          22,
          13,
          13,
          13,
          13,
          11,
          11,
          13,
          13,
          14,
          2,
          2,
          11,
          11,
          11,
          11,
          0,
          3,
          15,
          13,
          0,
          3,
          12,
          12,
          13,
          13,
          13,
          13,
          13,
          20,
          20,
          20,
          0,
          14,
          3,
          11,
          11,
          11,
          3,
          3,
          11,
          11,
          11,
          11,
          11,
          3,
          14,
          0,
          1,
          3,
          5,
          11,
          11,
          11,
          12,
          12,
          12,
          18,
          21,
          22,
          22,
          13,
          12,
          0,
          1,
          11,
          11,
          12,
          12,
          13,
          13,
          15,
          0,
          1,
          13,
          13,
          13,
          23,
          0,
          4,
          4,
          4,
          11,
          11,
          12,
          13,
          13,
          13,
          11,
          13,
          13,
          0,
          21,
          23,
          23,
          13,
          13,
          20,
          13,
          13,
          13,
          3,
          16,
          16,
          22,
          1,
          11,
          11,
          21,
          21,
          0,
          20,
          21,
          0,
          17,
          21,
          21,
          2,
          3,
          21,
          3,
          14,
          14,
          14,
          19
         ]
        }
       ],
       "layout": {
        "barmode": "overlay",
        "template": {
         "data": {
          "bar": [
           {
            "error_x": {
             "color": "#2a3f5f"
            },
            "error_y": {
             "color": "#2a3f5f"
            },
            "marker": {
             "line": {
              "color": "#E5ECF6",
              "width": 0.5
             },
             "pattern": {
              "fillmode": "overlay",
              "size": 10,
              "solidity": 0.2
             }
            },
            "type": "bar"
           }
          ],
          "barpolar": [
           {
            "marker": {
             "line": {
              "color": "#E5ECF6",
              "width": 0.5
             },
             "pattern": {
              "fillmode": "overlay",
              "size": 10,
              "solidity": 0.2
             }
            },
            "type": "barpolar"
           }
          ],
          "carpet": [
           {
            "aaxis": {
             "endlinecolor": "#2a3f5f",
             "gridcolor": "white",
             "linecolor": "white",
             "minorgridcolor": "white",
             "startlinecolor": "#2a3f5f"
            },
            "baxis": {
             "endlinecolor": "#2a3f5f",
             "gridcolor": "white",
             "linecolor": "white",
             "minorgridcolor": "white",
             "startlinecolor": "#2a3f5f"
            },
            "type": "carpet"
           }
          ],
          "choropleth": [
           {
            "colorbar": {
             "outlinewidth": 0,
             "ticks": ""
            },
            "type": "choropleth"
           }
          ],
          "contour": [
           {
            "colorbar": {
             "outlinewidth": 0,
             "ticks": ""
            },
            "colorscale": [
             [
              0,
              "#0d0887"
             ],
             [
              0.1111111111111111,
              "#46039f"
             ],
             [
              0.2222222222222222,
              "#7201a8"
             ],
             [
              0.3333333333333333,
              "#9c179e"
             ],
             [
              0.4444444444444444,
              "#bd3786"
             ],
             [
              0.5555555555555556,
              "#d8576b"
             ],
             [
              0.6666666666666666,
              "#ed7953"
             ],
             [
              0.7777777777777778,
              "#fb9f3a"
             ],
             [
              0.8888888888888888,
              "#fdca26"
             ],
             [
              1,
              "#f0f921"
             ]
            ],
            "type": "contour"
           }
          ],
          "contourcarpet": [
           {
            "colorbar": {
             "outlinewidth": 0,
             "ticks": ""
            },
            "type": "contourcarpet"
           }
          ],
          "heatmap": [
           {
            "colorbar": {
             "outlinewidth": 0,
             "ticks": ""
            },
            "colorscale": [
             [
              0,
              "#0d0887"
             ],
             [
              0.1111111111111111,
              "#46039f"
             ],
             [
              0.2222222222222222,
              "#7201a8"
             ],
             [
              0.3333333333333333,
              "#9c179e"
             ],
             [
              0.4444444444444444,
              "#bd3786"
             ],
             [
              0.5555555555555556,
              "#d8576b"
             ],
             [
              0.6666666666666666,
              "#ed7953"
             ],
             [
              0.7777777777777778,
              "#fb9f3a"
             ],
             [
              0.8888888888888888,
              "#fdca26"
             ],
             [
              1,
              "#f0f921"
             ]
            ],
            "type": "heatmap"
           }
          ],
          "heatmapgl": [
           {
            "colorbar": {
             "outlinewidth": 0,
             "ticks": ""
            },
            "colorscale": [
             [
              0,
              "#0d0887"
             ],
             [
              0.1111111111111111,
              "#46039f"
             ],
             [
              0.2222222222222222,
              "#7201a8"
             ],
             [
              0.3333333333333333,
              "#9c179e"
             ],
             [
              0.4444444444444444,
              "#bd3786"
             ],
             [
              0.5555555555555556,
              "#d8576b"
             ],
             [
              0.6666666666666666,
              "#ed7953"
             ],
             [
              0.7777777777777778,
              "#fb9f3a"
             ],
             [
              0.8888888888888888,
              "#fdca26"
             ],
             [
              1,
              "#f0f921"
             ]
            ],
            "type": "heatmapgl"
           }
          ],
          "histogram": [
           {
            "marker": {
             "pattern": {
              "fillmode": "overlay",
              "size": 10,
              "solidity": 0.2
             }
            },
            "type": "histogram"
           }
          ],
          "histogram2d": [
           {
            "colorbar": {
             "outlinewidth": 0,
             "ticks": ""
            },
            "colorscale": [
             [
              0,
              "#0d0887"
             ],
             [
              0.1111111111111111,
              "#46039f"
             ],
             [
              0.2222222222222222,
              "#7201a8"
             ],
             [
              0.3333333333333333,
              "#9c179e"
             ],
             [
              0.4444444444444444,
              "#bd3786"
             ],
             [
              0.5555555555555556,
              "#d8576b"
             ],
             [
              0.6666666666666666,
              "#ed7953"
             ],
             [
              0.7777777777777778,
              "#fb9f3a"
             ],
             [
              0.8888888888888888,
              "#fdca26"
             ],
             [
              1,
              "#f0f921"
             ]
            ],
            "type": "histogram2d"
           }
          ],
          "histogram2dcontour": [
           {
            "colorbar": {
             "outlinewidth": 0,
             "ticks": ""
            },
            "colorscale": [
             [
              0,
              "#0d0887"
             ],
             [
              0.1111111111111111,
              "#46039f"
             ],
             [
              0.2222222222222222,
              "#7201a8"
             ],
             [
              0.3333333333333333,
              "#9c179e"
             ],
             [
              0.4444444444444444,
              "#bd3786"
             ],
             [
              0.5555555555555556,
              "#d8576b"
             ],
             [
              0.6666666666666666,
              "#ed7953"
             ],
             [
              0.7777777777777778,
              "#fb9f3a"
             ],
             [
              0.8888888888888888,
              "#fdca26"
             ],
             [
              1,
              "#f0f921"
             ]
            ],
            "type": "histogram2dcontour"
           }
          ],
          "mesh3d": [
           {
            "colorbar": {
             "outlinewidth": 0,
             "ticks": ""
            },
            "type": "mesh3d"
           }
          ],
          "parcoords": [
           {
            "line": {
             "colorbar": {
              "outlinewidth": 0,
              "ticks": ""
             }
            },
            "type": "parcoords"
           }
          ],
          "pie": [
           {
            "automargin": true,
            "type": "pie"
           }
          ],
          "scatter": [
           {
            "fillpattern": {
             "fillmode": "overlay",
             "size": 10,
             "solidity": 0.2
            },
            "type": "scatter"
           }
          ],
          "scatter3d": [
           {
            "line": {
             "colorbar": {
              "outlinewidth": 0,
              "ticks": ""
             }
            },
            "marker": {
             "colorbar": {
              "outlinewidth": 0,
              "ticks": ""
             }
            },
            "type": "scatter3d"
           }
          ],
          "scattercarpet": [
           {
            "marker": {
             "colorbar": {
              "outlinewidth": 0,
              "ticks": ""
             }
            },
            "type": "scattercarpet"
           }
          ],
          "scattergeo": [
           {
            "marker": {
             "colorbar": {
              "outlinewidth": 0,
              "ticks": ""
             }
            },
            "type": "scattergeo"
           }
          ],
          "scattergl": [
           {
            "marker": {
             "colorbar": {
              "outlinewidth": 0,
              "ticks": ""
             }
            },
            "type": "scattergl"
           }
          ],
          "scattermapbox": [
           {
            "marker": {
             "colorbar": {
              "outlinewidth": 0,
              "ticks": ""
             }
            },
            "type": "scattermapbox"
           }
          ],
          "scatterpolar": [
           {
            "marker": {
             "colorbar": {
              "outlinewidth": 0,
              "ticks": ""
             }
            },
            "type": "scatterpolar"
           }
          ],
          "scatterpolargl": [
           {
            "marker": {
             "colorbar": {
              "outlinewidth": 0,
              "ticks": ""
             }
            },
            "type": "scatterpolargl"
           }
          ],
          "scatterternary": [
           {
            "marker": {
             "colorbar": {
              "outlinewidth": 0,
              "ticks": ""
             }
            },
            "type": "scatterternary"
           }
          ],
          "surface": [
           {
            "colorbar": {
             "outlinewidth": 0,
             "ticks": ""
            },
            "colorscale": [
             [
              0,
              "#0d0887"
             ],
             [
              0.1111111111111111,
              "#46039f"
             ],
             [
              0.2222222222222222,
              "#7201a8"
             ],
             [
              0.3333333333333333,
              "#9c179e"
             ],
             [
              0.4444444444444444,
              "#bd3786"
             ],
             [
              0.5555555555555556,
              "#d8576b"
             ],
             [
              0.6666666666666666,
              "#ed7953"
             ],
             [
              0.7777777777777778,
              "#fb9f3a"
             ],
             [
              0.8888888888888888,
              "#fdca26"
             ],
             [
              1,
              "#f0f921"
             ]
            ],
            "type": "surface"
           }
          ],
          "table": [
           {
            "cells": {
             "fill": {
              "color": "#EBF0F8"
             },
             "line": {
              "color": "white"
             }
            },
            "header": {
             "fill": {
              "color": "#C8D4E3"
             },
             "line": {
              "color": "white"
             }
            },
            "type": "table"
           }
          ]
         },
         "layout": {
          "annotationdefaults": {
           "arrowcolor": "#2a3f5f",
           "arrowhead": 0,
           "arrowwidth": 1
          },
          "autotypenumbers": "strict",
          "coloraxis": {
           "colorbar": {
            "outlinewidth": 0,
            "ticks": ""
           }
          },
          "colorscale": {
           "diverging": [
            [
             0,
             "#8e0152"
            ],
            [
             0.1,
             "#c51b7d"
            ],
            [
             0.2,
             "#de77ae"
            ],
            [
             0.3,
             "#f1b6da"
            ],
            [
             0.4,
             "#fde0ef"
            ],
            [
             0.5,
             "#f7f7f7"
            ],
            [
             0.6,
             "#e6f5d0"
            ],
            [
             0.7,
             "#b8e186"
            ],
            [
             0.8,
             "#7fbc41"
            ],
            [
             0.9,
             "#4d9221"
            ],
            [
             1,
             "#276419"
            ]
           ],
           "sequential": [
            [
             0,
             "#0d0887"
            ],
            [
             0.1111111111111111,
             "#46039f"
            ],
            [
             0.2222222222222222,
             "#7201a8"
            ],
            [
             0.3333333333333333,
             "#9c179e"
            ],
            [
             0.4444444444444444,
             "#bd3786"
            ],
            [
             0.5555555555555556,
             "#d8576b"
            ],
            [
             0.6666666666666666,
             "#ed7953"
            ],
            [
             0.7777777777777778,
             "#fb9f3a"
            ],
            [
             0.8888888888888888,
             "#fdca26"
            ],
            [
             1,
             "#f0f921"
            ]
           ],
           "sequentialminus": [
            [
             0,
             "#0d0887"
            ],
            [
             0.1111111111111111,
             "#46039f"
            ],
            [
             0.2222222222222222,
             "#7201a8"
            ],
            [
             0.3333333333333333,
             "#9c179e"
            ],
            [
             0.4444444444444444,
             "#bd3786"
            ],
            [
             0.5555555555555556,
             "#d8576b"
            ],
            [
             0.6666666666666666,
             "#ed7953"
            ],
            [
             0.7777777777777778,
             "#fb9f3a"
            ],
            [
             0.8888888888888888,
             "#fdca26"
            ],
            [
             1,
             "#f0f921"
            ]
           ]
          },
          "colorway": [
           "#636efa",
           "#EF553B",
           "#00cc96",
           "#ab63fa",
           "#FFA15A",
           "#19d3f3",
           "#FF6692",
           "#B6E880",
           "#FF97FF",
           "#FECB52"
          ],
          "font": {
           "color": "#2a3f5f"
          },
          "geo": {
           "bgcolor": "white",
           "lakecolor": "white",
           "landcolor": "#E5ECF6",
           "showlakes": true,
           "showland": true,
           "subunitcolor": "white"
          },
          "hoverlabel": {
           "align": "left"
          },
          "hovermode": "closest",
          "mapbox": {
           "style": "light"
          },
          "paper_bgcolor": "white",
          "plot_bgcolor": "#E5ECF6",
          "polar": {
           "angularaxis": {
            "gridcolor": "white",
            "linecolor": "white",
            "ticks": ""
           },
           "bgcolor": "#E5ECF6",
           "radialaxis": {
            "gridcolor": "white",
            "linecolor": "white",
            "ticks": ""
           }
          },
          "scene": {
           "xaxis": {
            "backgroundcolor": "#E5ECF6",
            "gridcolor": "white",
            "gridwidth": 2,
            "linecolor": "white",
            "showbackground": true,
            "ticks": "",
            "zerolinecolor": "white"
           },
           "yaxis": {
            "backgroundcolor": "#E5ECF6",
            "gridcolor": "white",
            "gridwidth": 2,
            "linecolor": "white",
            "showbackground": true,
            "ticks": "",
            "zerolinecolor": "white"
           },
           "zaxis": {
            "backgroundcolor": "#E5ECF6",
            "gridcolor": "white",
            "gridwidth": 2,
            "linecolor": "white",
            "showbackground": true,
            "ticks": "",
            "zerolinecolor": "white"
           }
          },
          "shapedefaults": {
           "line": {
            "color": "#2a3f5f"
           }
          },
          "ternary": {
           "aaxis": {
            "gridcolor": "white",
            "linecolor": "white",
            "ticks": ""
           },
           "baxis": {
            "gridcolor": "white",
            "linecolor": "white",
            "ticks": ""
           },
           "bgcolor": "#E5ECF6",
           "caxis": {
            "gridcolor": "white",
            "linecolor": "white",
            "ticks": ""
           }
          },
          "title": {
           "x": 0.05
          },
          "xaxis": {
           "automargin": true,
           "gridcolor": "white",
           "linecolor": "white",
           "ticks": "",
           "title": {
            "standoff": 15
           },
           "zerolinecolor": "white",
           "zerolinewidth": 2
          },
          "yaxis": {
           "automargin": true,
           "gridcolor": "white",
           "linecolor": "white",
           "ticks": "",
           "title": {
            "standoff": 15
           },
           "zerolinecolor": "white",
           "zerolinewidth": 2
          }
         }
        },
        "title": {
         "text": "Histogram of Tweet Creation at different Hours of a Day"
        },
        "xaxis": {
         "title": {
          "text": "Hour"
         }
        },
        "yaxis": {
         "title": {
          "text": "Count"
         }
        }
       }
      },
      "text/html": [
       "<div>                            <div id=\"1ed447d1-ae60-43a0-bc07-2ad97777d338\" class=\"plotly-graph-div\" style=\"height:525px; width:100%;\"></div>            <script type=\"text/javascript\">                require([\"plotly\"], function(Plotly) {                    window.PLOTLYENV=window.PLOTLYENV || {};                                    if (document.getElementById(\"1ed447d1-ae60-43a0-bc07-2ad97777d338\")) {                    Plotly.newPlot(                        \"1ed447d1-ae60-43a0-bc07-2ad97777d338\",                        [{\"name\":\"Tweets from iPhone\",\"opacity\":0.5,\"x\":[3,5,6,3,4,22,4,4,16,23,23,0,15,20,23,2,21,22,22,22,23,2,16,16,17,17,17,18,0,0,0,20,21,21,21,21,23,0,14,14,14,15,15,19,19,19,22,15,20,21,2,2,3,4,13,18,18,18,19,19,0,4,5,5,5,18,23,19,13,16,18,18,18,18,18,19,19,0,17,14,14,14,17,19,23,2,3,14,14,14,15,15,15,15,16,18,22,22,1,1,4,13,15,18,20,22,22,23,23,13,20,23,23,23,23,0,0,3,3,3,5,17,21,21,22,23,23,23,23,1,1,1,1,2,2,3,13,16,16,17,20,20,20,20,21,23,1,1,1,15,15,21,22,13,13,18,19,21,22,22,22,22,23,23,2,12,12,15,16,16,16,19,21,21,21,22,2,4,11,21,22,3,3,3,4,15,15,17,17,22,0,3,5,5,5,6,6,12,13,14,17,17,18,18,18,20,21,1,2,14,15,16,16,16,16,18,21,2,22,19,19,20,20,20,21,22,2,6,6,6,6,14,16,22,16,17,21,22,23,2,2,2,2,3,3,15,17,23,0,13,13,13,14,16,20,20,21,22,16,16,16,18,18,18,19,19,22,2,4,14,14,15,3,12,12,13,2,2,23,0,1,3,4,4,12,14,18,18,19,23,2,2,2,15,15,16,16,17,17,17,0,0,0,1,5,5,5,6,6,6,6,14,14,17,17,17,17,20,21,3,4,12,17,18,21,22,23,14,14,16,16,16,16,16,23,13,13,13,18,19,19,20,20,0,0,0,18,18,20,20,20,20,20,20,20,21,23,0,18,0,1,1,1,1,1,3,3,5,16,16,23,23,1,1,1,5,6,17,17,18,18,1,4,16,16,16,16,17,17,18,22,5,5,6,6,6,6,6,16,16,16,16,20,21,21,21,2,5,14,22,22,2,3,16,17,17,18,19,19,19,21,22,0,1,12,14,15,15,16,16,18,19,22,22,0,1,1,19,19,19,19,19,19,20,22,0,1,1,1,1,4,5,19,23,23,23,23,23,2,14,15,16,20,1,1,4,5,12,16,17,18,21,21,23,2,3,16,16,16,16,16,17,17,18,18,18,18,18,19,2,3,15,17,17,17,17,17,18,18,22,22,23,0,1,2,2,2,2,14,15,17,17,17,17,17,23,1,1,1,2,2,3,7,21,22,23,5,5,6,15,15,15,15,16,17,21,22,23,2,18,18,18,18,18,20,22,23,2,3,17,17,18,20,0,0,12,15,16,16,16,0,1,12,12,13,13,14,0,0,1,1,2,3,17,21,15,20,20,20,20,20,21,0,1,1,1,3,3,4,4,4,4,4,15,19,0,0,0,1,3,12,15,18,18,19,19,22,3,18,14,18,22,14,19,19,19,19,20,21,21,0,3,16,16,17,21,21,13,19,20,22,22,2,19,22,19,20,20,20,23,3,3,13,17,18,20,23,0,2,14,16,18,20,20,21,0,1,3,12,17,19,20,22,0,0,3,21,19,20,20,22,22,23,1,10,16,16,22,5,5,13,1,4,17,3,21,21,0,14,16,18,23,0,0,2,21,23,3,15,16,1,15,22,1,1,2,22,15,17,22,23,0,1,13,14,16,19,19,20,18,21,22,22,1,1,12,13,16,18,18,18,18,18,19,0,0,0,0,1,17,17,17,17,17,18,18,20,22,22,1,1,21,22,23,0,0,0,4,4,16,20,13,15,16,16,20,21,21,23,14,16,19,21,21,21,21,22,2,2,11,14,15,15,16,18,23,16,18,23,1,3,18,18,21,23,23,23,0,0,2,2,15,1,12,20,15,15,15,15,0,1,17,17,18,19,15,21,2,21,13,21,3,17,17,23,19,15,15,16,16,20,21,22,17,17,20,14,15,19,19,19,22,0,21,0,0,3,18,23,16,18,21,21,21,22,14,17,23,2,2,4,6,20,20,20,21,21,21,22,23,21,22,23,23,23,20,0,4,16,21,1,1,3,3,3,3,3,16,19,19,22,1,21,13,14,22,3,3,3,3,3,20,19,20,2,13,16,19,20,21,4,14,18,21,21,22,22,22,13,15,16,17,18,19,19,20,20,21,21,21,21,0,18,18,18,2,20,20,21,22,16,16,16,19,19,20,2,15,17,21,23,23,23,23,2,17,19,20,1,1,2,2,3,16,19,17,9,10,10,18,18,4,14,15,16,2,2,2,2,16,22,19,14,14,18,18,19,19,19,19,22,12,12,12,13,13,15,16,17,19,1,13,13,15,15,15,15,15,15,13,0,2,12,21,1,11,20,20,20,13,14,21,23,21,11,19,21,22,0,2,12,12,16,17,17,17,21,21,22,3,12,12,21,21,22,22,22,22,22,22,22,22,22,1,13,14,17,0,16,17,10,17,23,0,4,19,20,17,23,0,2,3,4,17,19,4,5,21,0,20,16,18,21,21,21,21,2,3,17,17,18,19,19,19,3,16,16,17,18,19,21,22,0,2,2,15,20,20,20,21,21,23,2,3,3,3,3,3,3,13,13,16,16,17,18,20,22,0,0,1,3,3,12,12,12,13,14,14,18,18,18,21,22,14,14,18,18,18,18,18,18,20,20,21,22,22,22,22,23,23,1,1,1,2,10,16,17,18,18,18,19,19,21,17,21,22,23,2,15,19,19,22,2,2,2,2,13,19,19,20,22,2,2,3,20,2,2,21,0,13,20,22,22,22,22,22,22,22,22,23,1,20,20,2,15,17,17,20,20,21,23,23,2,2,14,22,17,19,0,19,20,20,18,19,22,23,1,4,4,13,16,22,0,0,10,12,12,13,13,0,1,1,17,23,23,0,12,21,0,1,16,16,21,0,2,14,15,16,17,21,22,0,1,1,20,20,20,21,2,2,12,19,19,19,22,23,23,23,0,16,2,2,14,14,19,22,18,23,0,0,20,23,2,0,0,4,4,4,4,5,5,14,17,22,16,23,17,20,16,13,14,14,16,18,22,12,12,17,17,20,0,1,15,18,20,22,9,16,18,18,19,23,2,16,21,23,23,0,2,20,17,15,3,13,15,19,20,22,22,2,2,2,2,2,13,14,16,20,21,0,0,2,3,14,14,15,17,21,22,22,22,17,4,4,5,5,17,17,21,21,2,2,16,16,16,19,13,13,14,14,14,20,0,11,13,13,18,21,22,14,1,2,15,15,17,17,20,11,14,17,23,18,12,16,22,23,1,1,1,2,2,2,2,2,2,3,4,4,5,5,5,6,12,13,13,13,14,14,14,15,16,19,19,20,20,20,21,22,1,2,16,17,17,21,22,23,0,2,3,3,19,21,22,14,18,20,20,23,0,17,21,21,14,21,22,2,3,19,19,19,22,23,1,1,1,1,1,1,1,1,1,1,1,1,1,2,2,2,2,2,2,2,2,2,2,2,2,2,2,2,18,18,21,21,21,22,22,22,23,1,1,1,4,4,4,18,18,20,20,21,21,22,3,4,22,22,13,16,17,22,0,1,1,1,1,1,1,2,2,2,2,2,2,2,2,3,3,19,19,22,1,12,14,14,15,16,17,18,18,20,21,0,4,13,14,19,22,13,15,15,20,22,22,23,23,1,15,19,1,3,12,15,15,15,18,23,0,13,13,16,16,19,20,14,15,19,19,21,21,22,22,22,22,1,1,2,15,15,15,16,18,18,19,21,0,0,0,1,1,15,16,17,18,18,18,19,19,19,21,21,21,22,22,22,0,0,1,1,1,1,1,1,1,1,1,1,1,1,1,2,2,2,2,2,2,2,2,2,2,2,4,4,4,4,7,13,15,17,18,19,19,19,20,20,20,21,22,15,17,18,18,21,22,22,22,22,22,22,0,2,14,14,17,17,18,18,19,21,21,23,2,2,2,3,16,16,16,17,19,0,0,2,13,14,14,15,16,16,16,18,19,20,21,21,21,0,1,1,14,14,14,14,15,15,15,16,16,18,20,21,21,21,22,22,23,18,1,1,12,12,14,14,14,14,14,14,17,19,20,21,21,22,0,1,14,15,15,17,17,19,4,4,16,17,19,20,1,1,17,19,23,2,3,16,16,19,19,20,13,14,17,18,21,21,21,21,21,21,23,3,14,17,18,18,19,21,23,3,3,15,19,20,20,21,23,2,15,16,16,16,18,18,19,20,23,23,23,23,2,16,20,20,21,21,21,21,0,0,2,4,6,17,18,19,23,23,0,1,4,6,17,19,19,21,21,21,21,22,0,0,0,3,4,4,6,18,23,23,23,1,2,19,15,18,16,13,13,2,20,20,23,15,16,19,20,14,22,2,19,19,13,23,16,21,3,18,19,21,22,23,3,19,22,3,14,14,18,19,19,22,21,0,3,14,22,1,16,3,13,21,0,1,13,20,21,12,23,22,14,19],\"type\":\"histogram\"},{\"name\":\"Tweets from Android\",\"opacity\":0.5,\"x\":[0,23,23,23,3,12,12,13,20,20,21,21,0,5,13,14,14,17,18,19,20,2,14,11,11,11,13,13,3,15,23,14,14,15,18,18,18,1,1,2,2,3,4,4,4,5,12,14,19,15,15,21,1,1,2,2,2,11,11,11,12,12,12,13,13,15,20,21,1,1,12,18,13,14,14,14,20,13,13,13,14,15,20,22,23,13,14,15,15,16,14,14,13,10,11,15,13,19,19,22,11,13,13,13,23,1,1,1,1,1,3,12,12,12,12,12,12,13,13,14,14,14,14,14,13,16,16,16,16,16,5,13,13,14,14,14,14,19,3,1,14,21,2,12,12,12,12,12,12,13,13,16,21,22,22,3,13,15,23,1,14,15,15,16,16,19,20,20,21,4,16,22,22,12,20,21,21,22,11,12,13,14,10,11,3,3,3,3,11,14,10,10,11,12,14,14,21,21,21,13,15,16,17,17,0,3,11,11,11,15,16,18,12,12,13,14,16,20,20,20,20,21,21,0,1,2,2,2,14,14,15,15,15,17,17,18,1,1,2,13,15,16,16,21,23,23,23,23,1,2,12,20,13,14,14,16,13,15,15,15,15,16,16,17,21,11,12,12,12,12,16,16,17,17,12,11,17,18,18,21,3,3,3,11,11,11,11,11,14,15,13,13,13,14,14,5,13,18,2,2,11,12,13,13,13,15,16,21,15,16,16,17,20,23,23,21,20,11,13,14,14,14,14,18,22,11,11,14,18,4,4,10,10,11,13,14,15,16,16,19,23,0,0,10,10,11,12,12,13,17,18,10,10,10,12,12,13,13,13,20,0,16,19,19,20,20,15,15,15,5,11,16,18,19,19,20,14,14,19,1,2,3,4,14,20,21,21,23,11,11,14,14,14,14,14,15,15,15,15,21,22,22,2,15,19,19,19,19,20,20,13,14,14,19,20,20,21,1,11,17,22,22,23,0,1,1,13,14,14,16,16,4,4,1,2,2,11,12,3,16,12,3,11,13,13,0,0,10,3,3,3,4,12,13,13,13,13,14,10,11,11,12,0,3,12,10,10,21,12,0,1,1,2,13,14,1,3,3,11,11,10,3,3,10,10,11,12,13,11,13,18,3,13,17,23,3,10,11,11,14,23,23,23,4,9,9,10,10,10,10,10,10,12,12,15,15,17,13,13,15,2,9,9,10,10,10,11,10,10,11,12,13,14,10,10,20,2,1,15,10,10,11,11,19,19,19,1,10,11,13,1,3,4,11,11,11,11,11,12,14,14,23,23,23,0,0,1,1,1,2,3,4,11,1,2,10,9,9,9,10,10,23,0,1,1,10,12,16,3,12,20,20,13,23,2,2,2,10,11,5,5,12,12,13,13,13,2,23,13,14,11,16,22,10,11,11,11,20,20,21,21,10,11,16,16,13,22,15,15,15,16,16,16,17,17,19,19,22,12,12,13,13,4,13,13,13,21,21,22,11,12,13,13,13,1,2,23,0,11,12,0,1,12,12,12,15,15,11,12,23,12,18,20,14,15,15,12,12,13,13,13,22,11,11,11,17,1,10,10,16,3,13,13,13,0,0,9,9,21,21,21,12,3,11,11,11,16,16,21,22,22,23,13,13,13,2,13,13,14,22,2,2,1,11,11,20,21,17,20,20,20,21,21,21,21,11,11,12,13,13,14,14,14,15,15,22,22,11,12,4,4,4,11,11,12,13,13,13,14,14,18,1,11,15,12,18,18,18,11,13,13,4,22,23,14,14,14,2,12,13,13,13,13,3,3,4,4,11,12,12,12,13,13,18,18,21,21,20,20,22,23,10,12,12,18,1,3,3,3,12,14,14,13,13,14,23,3,3,10,10,10,10,14,15,15,16,20,22,11,11,11,12,12,13,13,20,20,21,22,22,22,22,23,23,11,11,12,12,13,13,13,14,14,21,21,3,3,12,12,12,22,22,1,2,2,2,9,9,9,10,10,12,13,12,12,13,13,13,13,14,14,16,17,17,16,19,20,21,22,22,22,22,23,3,12,13,20,0,11,11,12,13,19,2,9,10,10,11,14,14,18,1,13,21,23,15,2,11,11,15,10,11,11,13,18,18,20,12,12,12,12,16,16,17,23,0,1,1,12,22,23,23,0,1,11,11,12,23,12,13,14,12,12,2,13,14,14,16,17,14,23,23,13,13,13,13,13,10,13,0,10,10,10,12,12,12,20,20,12,16,22,23,23,23,23,11,11,4,10,10,10,12,4,5,5,6,12,12,15,18,23,1,10,11,0,3,3,3,10,13,1,5,11,13,21,22,23,23,13,11,12,0,0,11,2,12,12,13,13,0,1,4,5,10,12,17,12,2,7,9,9,9,12,18,20,20,21,21,11,11,23,23,0,0,1,1,1,2,13,14,19,0,13,14,17,17,19,13,16,17,23,12,13,10,11,12,18,22,0,11,11,12,17,20,20,21,22,22,22,12,12,12,15,16,19,2,14,17,3,3,12,14,23,12,12,11,13,22,17,1,13,13,14,14,10,11,12,10,11,12,12,12,13,11,21,21,21,11,2,2,11,13,15,14,14,14,15,15,16,16,13,13,2,11,12,12,12,12,2,2,22,13,13,13,13,11,11,13,13,14,2,2,11,11,11,11,0,3,15,13,0,3,12,12,13,13,13,13,13,20,20,20,0,14,3,11,11,11,3,3,11,11,11,11,11,3,14,0,1,3,5,11,11,11,12,12,12,18,21,22,22,13,12,0,1,11,11,12,12,13,13,15,0,1,13,13,13,23,0,4,4,4,11,11,12,13,13,13,11,13,13,0,21,23,23,13,13,20,13,13,13,3,16,16,22,1,11,11,21,21,0,20,21,0,17,21,21,2,3,21,3,14,14,14,19],\"type\":\"histogram\"}],                        {\"template\":{\"data\":{\"histogram2dcontour\":[{\"type\":\"histogram2dcontour\",\"colorbar\":{\"outlinewidth\":0,\"ticks\":\"\"},\"colorscale\":[[0.0,\"#0d0887\"],[0.1111111111111111,\"#46039f\"],[0.2222222222222222,\"#7201a8\"],[0.3333333333333333,\"#9c179e\"],[0.4444444444444444,\"#bd3786\"],[0.5555555555555556,\"#d8576b\"],[0.6666666666666666,\"#ed7953\"],[0.7777777777777778,\"#fb9f3a\"],[0.8888888888888888,\"#fdca26\"],[1.0,\"#f0f921\"]]}],\"choropleth\":[{\"type\":\"choropleth\",\"colorbar\":{\"outlinewidth\":0,\"ticks\":\"\"}}],\"histogram2d\":[{\"type\":\"histogram2d\",\"colorbar\":{\"outlinewidth\":0,\"ticks\":\"\"},\"colorscale\":[[0.0,\"#0d0887\"],[0.1111111111111111,\"#46039f\"],[0.2222222222222222,\"#7201a8\"],[0.3333333333333333,\"#9c179e\"],[0.4444444444444444,\"#bd3786\"],[0.5555555555555556,\"#d8576b\"],[0.6666666666666666,\"#ed7953\"],[0.7777777777777778,\"#fb9f3a\"],[0.8888888888888888,\"#fdca26\"],[1.0,\"#f0f921\"]]}],\"heatmap\":[{\"type\":\"heatmap\",\"colorbar\":{\"outlinewidth\":0,\"ticks\":\"\"},\"colorscale\":[[0.0,\"#0d0887\"],[0.1111111111111111,\"#46039f\"],[0.2222222222222222,\"#7201a8\"],[0.3333333333333333,\"#9c179e\"],[0.4444444444444444,\"#bd3786\"],[0.5555555555555556,\"#d8576b\"],[0.6666666666666666,\"#ed7953\"],[0.7777777777777778,\"#fb9f3a\"],[0.8888888888888888,\"#fdca26\"],[1.0,\"#f0f921\"]]}],\"heatmapgl\":[{\"type\":\"heatmapgl\",\"colorbar\":{\"outlinewidth\":0,\"ticks\":\"\"},\"colorscale\":[[0.0,\"#0d0887\"],[0.1111111111111111,\"#46039f\"],[0.2222222222222222,\"#7201a8\"],[0.3333333333333333,\"#9c179e\"],[0.4444444444444444,\"#bd3786\"],[0.5555555555555556,\"#d8576b\"],[0.6666666666666666,\"#ed7953\"],[0.7777777777777778,\"#fb9f3a\"],[0.8888888888888888,\"#fdca26\"],[1.0,\"#f0f921\"]]}],\"contourcarpet\":[{\"type\":\"contourcarpet\",\"colorbar\":{\"outlinewidth\":0,\"ticks\":\"\"}}],\"contour\":[{\"type\":\"contour\",\"colorbar\":{\"outlinewidth\":0,\"ticks\":\"\"},\"colorscale\":[[0.0,\"#0d0887\"],[0.1111111111111111,\"#46039f\"],[0.2222222222222222,\"#7201a8\"],[0.3333333333333333,\"#9c179e\"],[0.4444444444444444,\"#bd3786\"],[0.5555555555555556,\"#d8576b\"],[0.6666666666666666,\"#ed7953\"],[0.7777777777777778,\"#fb9f3a\"],[0.8888888888888888,\"#fdca26\"],[1.0,\"#f0f921\"]]}],\"surface\":[{\"type\":\"surface\",\"colorbar\":{\"outlinewidth\":0,\"ticks\":\"\"},\"colorscale\":[[0.0,\"#0d0887\"],[0.1111111111111111,\"#46039f\"],[0.2222222222222222,\"#7201a8\"],[0.3333333333333333,\"#9c179e\"],[0.4444444444444444,\"#bd3786\"],[0.5555555555555556,\"#d8576b\"],[0.6666666666666666,\"#ed7953\"],[0.7777777777777778,\"#fb9f3a\"],[0.8888888888888888,\"#fdca26\"],[1.0,\"#f0f921\"]]}],\"mesh3d\":[{\"type\":\"mesh3d\",\"colorbar\":{\"outlinewidth\":0,\"ticks\":\"\"}}],\"scatter\":[{\"fillpattern\":{\"fillmode\":\"overlay\",\"size\":10,\"solidity\":0.2},\"type\":\"scatter\"}],\"parcoords\":[{\"type\":\"parcoords\",\"line\":{\"colorbar\":{\"outlinewidth\":0,\"ticks\":\"\"}}}],\"scatterpolargl\":[{\"type\":\"scatterpolargl\",\"marker\":{\"colorbar\":{\"outlinewidth\":0,\"ticks\":\"\"}}}],\"bar\":[{\"error_x\":{\"color\":\"#2a3f5f\"},\"error_y\":{\"color\":\"#2a3f5f\"},\"marker\":{\"line\":{\"color\":\"#E5ECF6\",\"width\":0.5},\"pattern\":{\"fillmode\":\"overlay\",\"size\":10,\"solidity\":0.2}},\"type\":\"bar\"}],\"scattergeo\":[{\"type\":\"scattergeo\",\"marker\":{\"colorbar\":{\"outlinewidth\":0,\"ticks\":\"\"}}}],\"scatterpolar\":[{\"type\":\"scatterpolar\",\"marker\":{\"colorbar\":{\"outlinewidth\":0,\"ticks\":\"\"}}}],\"histogram\":[{\"marker\":{\"pattern\":{\"fillmode\":\"overlay\",\"size\":10,\"solidity\":0.2}},\"type\":\"histogram\"}],\"scattergl\":[{\"type\":\"scattergl\",\"marker\":{\"colorbar\":{\"outlinewidth\":0,\"ticks\":\"\"}}}],\"scatter3d\":[{\"type\":\"scatter3d\",\"line\":{\"colorbar\":{\"outlinewidth\":0,\"ticks\":\"\"}},\"marker\":{\"colorbar\":{\"outlinewidth\":0,\"ticks\":\"\"}}}],\"scattermapbox\":[{\"type\":\"scattermapbox\",\"marker\":{\"colorbar\":{\"outlinewidth\":0,\"ticks\":\"\"}}}],\"scatterternary\":[{\"type\":\"scatterternary\",\"marker\":{\"colorbar\":{\"outlinewidth\":0,\"ticks\":\"\"}}}],\"scattercarpet\":[{\"type\":\"scattercarpet\",\"marker\":{\"colorbar\":{\"outlinewidth\":0,\"ticks\":\"\"}}}],\"carpet\":[{\"aaxis\":{\"endlinecolor\":\"#2a3f5f\",\"gridcolor\":\"white\",\"linecolor\":\"white\",\"minorgridcolor\":\"white\",\"startlinecolor\":\"#2a3f5f\"},\"baxis\":{\"endlinecolor\":\"#2a3f5f\",\"gridcolor\":\"white\",\"linecolor\":\"white\",\"minorgridcolor\":\"white\",\"startlinecolor\":\"#2a3f5f\"},\"type\":\"carpet\"}],\"table\":[{\"cells\":{\"fill\":{\"color\":\"#EBF0F8\"},\"line\":{\"color\":\"white\"}},\"header\":{\"fill\":{\"color\":\"#C8D4E3\"},\"line\":{\"color\":\"white\"}},\"type\":\"table\"}],\"barpolar\":[{\"marker\":{\"line\":{\"color\":\"#E5ECF6\",\"width\":0.5},\"pattern\":{\"fillmode\":\"overlay\",\"size\":10,\"solidity\":0.2}},\"type\":\"barpolar\"}],\"pie\":[{\"automargin\":true,\"type\":\"pie\"}]},\"layout\":{\"autotypenumbers\":\"strict\",\"colorway\":[\"#636efa\",\"#EF553B\",\"#00cc96\",\"#ab63fa\",\"#FFA15A\",\"#19d3f3\",\"#FF6692\",\"#B6E880\",\"#FF97FF\",\"#FECB52\"],\"font\":{\"color\":\"#2a3f5f\"},\"hovermode\":\"closest\",\"hoverlabel\":{\"align\":\"left\"},\"paper_bgcolor\":\"white\",\"plot_bgcolor\":\"#E5ECF6\",\"polar\":{\"bgcolor\":\"#E5ECF6\",\"angularaxis\":{\"gridcolor\":\"white\",\"linecolor\":\"white\",\"ticks\":\"\"},\"radialaxis\":{\"gridcolor\":\"white\",\"linecolor\":\"white\",\"ticks\":\"\"}},\"ternary\":{\"bgcolor\":\"#E5ECF6\",\"aaxis\":{\"gridcolor\":\"white\",\"linecolor\":\"white\",\"ticks\":\"\"},\"baxis\":{\"gridcolor\":\"white\",\"linecolor\":\"white\",\"ticks\":\"\"},\"caxis\":{\"gridcolor\":\"white\",\"linecolor\":\"white\",\"ticks\":\"\"}},\"coloraxis\":{\"colorbar\":{\"outlinewidth\":0,\"ticks\":\"\"}},\"colorscale\":{\"sequential\":[[0.0,\"#0d0887\"],[0.1111111111111111,\"#46039f\"],[0.2222222222222222,\"#7201a8\"],[0.3333333333333333,\"#9c179e\"],[0.4444444444444444,\"#bd3786\"],[0.5555555555555556,\"#d8576b\"],[0.6666666666666666,\"#ed7953\"],[0.7777777777777778,\"#fb9f3a\"],[0.8888888888888888,\"#fdca26\"],[1.0,\"#f0f921\"]],\"sequentialminus\":[[0.0,\"#0d0887\"],[0.1111111111111111,\"#46039f\"],[0.2222222222222222,\"#7201a8\"],[0.3333333333333333,\"#9c179e\"],[0.4444444444444444,\"#bd3786\"],[0.5555555555555556,\"#d8576b\"],[0.6666666666666666,\"#ed7953\"],[0.7777777777777778,\"#fb9f3a\"],[0.8888888888888888,\"#fdca26\"],[1.0,\"#f0f921\"]],\"diverging\":[[0,\"#8e0152\"],[0.1,\"#c51b7d\"],[0.2,\"#de77ae\"],[0.3,\"#f1b6da\"],[0.4,\"#fde0ef\"],[0.5,\"#f7f7f7\"],[0.6,\"#e6f5d0\"],[0.7,\"#b8e186\"],[0.8,\"#7fbc41\"],[0.9,\"#4d9221\"],[1,\"#276419\"]]},\"xaxis\":{\"gridcolor\":\"white\",\"linecolor\":\"white\",\"ticks\":\"\",\"title\":{\"standoff\":15},\"zerolinecolor\":\"white\",\"automargin\":true,\"zerolinewidth\":2},\"yaxis\":{\"gridcolor\":\"white\",\"linecolor\":\"white\",\"ticks\":\"\",\"title\":{\"standoff\":15},\"zerolinecolor\":\"white\",\"automargin\":true,\"zerolinewidth\":2},\"scene\":{\"xaxis\":{\"backgroundcolor\":\"#E5ECF6\",\"gridcolor\":\"white\",\"linecolor\":\"white\",\"showbackground\":true,\"ticks\":\"\",\"zerolinecolor\":\"white\",\"gridwidth\":2},\"yaxis\":{\"backgroundcolor\":\"#E5ECF6\",\"gridcolor\":\"white\",\"linecolor\":\"white\",\"showbackground\":true,\"ticks\":\"\",\"zerolinecolor\":\"white\",\"gridwidth\":2},\"zaxis\":{\"backgroundcolor\":\"#E5ECF6\",\"gridcolor\":\"white\",\"linecolor\":\"white\",\"showbackground\":true,\"ticks\":\"\",\"zerolinecolor\":\"white\",\"gridwidth\":2}},\"shapedefaults\":{\"line\":{\"color\":\"#2a3f5f\"}},\"annotationdefaults\":{\"arrowcolor\":\"#2a3f5f\",\"arrowhead\":0,\"arrowwidth\":1},\"geo\":{\"bgcolor\":\"white\",\"landcolor\":\"#E5ECF6\",\"subunitcolor\":\"white\",\"showland\":true,\"showlakes\":true,\"lakecolor\":\"white\"},\"title\":{\"x\":0.05},\"mapbox\":{\"style\":\"light\"}}},\"title\":{\"text\":\"Histogram of Tweet Creation at different Hours of a Day\"},\"xaxis\":{\"title\":{\"text\":\"Hour\"}},\"yaxis\":{\"title\":{\"text\":\"Count\"}},\"barmode\":\"overlay\"},                        {\"responsive\": true}                    ).then(function(){\n",
       "                            \n",
       "var gd = document.getElementById('1ed447d1-ae60-43a0-bc07-2ad97777d338');\n",
       "var x = new MutationObserver(function (mutations, observer) {{\n",
       "        var display = window.getComputedStyle(gd).display;\n",
       "        if (!display || display === 'none') {{\n",
       "            console.log([gd, 'removed!']);\n",
       "            Plotly.purge(gd);\n",
       "            observer.disconnect();\n",
       "        }}\n",
       "}});\n",
       "\n",
       "// Listen for the removal of the full notebook cells\n",
       "var notebookContainer = gd.closest('#notebook-container');\n",
       "if (notebookContainer) {{\n",
       "    x.observe(notebookContainer, {childList: true});\n",
       "}}\n",
       "\n",
       "// Listen for the clearing of the current output cell\n",
       "var outputEl = gd.closest('.output');\n",
       "if (outputEl) {{\n",
       "    x.observe(outputEl, {childList: true});\n",
       "}}\n",
       "\n",
       "                        })                };                });            </script>        </div>"
      ]
     },
     "metadata": {},
     "output_type": "display_data"
    }
   ],
   "source": [
    "fig = go.Figure()\n",
    "fig.add_trace(go.Histogram(x=data_2016[data_2016.source==\"Twitter for iPhone\"].created_at.dropna().apply(convert_date_to_hour),name=\"Tweets from iPhone\",opacity=0.5))\n",
    "fig.add_trace(go.Histogram(x=data_2016[data_2016.source==\"Twitter for Android\"].created_at.dropna().apply(convert_date_to_hour),name=\"Tweets from Android\",opacity=0.5))\n",
    "fig.update_layout(\n",
    "    title_text='Histogram of Tweet Creation at different Hours of a Day',\n",
    "    xaxis_title_text='Hour',\n",
    "    yaxis_title_text='Count',\n",
    "    barmode='overlay'\n",
    ")\n",
    "fig.show()"
   ]
  },
  {
   "cell_type": "markdown",
   "metadata": {},
   "source": [
    "### Text PreProcessing"
   ]
  },
  {
   "cell_type": "code",
   "execution_count": 11,
   "metadata": {},
   "outputs": [],
   "source": [
    "# Taking only the data which is from iPhone or Android as their source for training the model as we are not sure about other sources.\n",
    "\n",
    "data_2016_clean = data_2016[data_2016.source.isin([\"Twitter for iPhone\",\"Twitter for Android\"])]\n"
   ]
  },
  {
   "cell_type": "code",
   "execution_count": 12,
   "metadata": {},
   "outputs": [],
   "source": [
    "from nltk.stem import WordNetLemmatizer\n",
    "from nltk.corpus import stopwords\n",
    "\n",
    "sw_list = stopwords.words('english')\n",
    "lemmatizer = WordNetLemmatizer()\n",
    "\n",
    "def preprocess_tweet(text):\n",
    "    # Split the text into words\n",
    "    text = text.lower()\n",
    "    # lowering the text\n",
    "    words = text.split()\n",
    "    # Remove words that start with \"http://\" or \"https:// and applys lemmatization\"\n",
    "    cleaned_words = [lemmatizer.lemmatize(word) for word in words if word not in sw_list and not word.startswith(\"http://\") and not word.startswith(\"https://\")]\n",
    "    \n",
    "    # Join the cleaned words back into a sentence\n",
    "    cleaned_text = \" \".join(cleaned_words)\n",
    "    \n",
    "    return cleaned_text"
   ]
  },
  {
   "cell_type": "code",
   "execution_count": 13,
   "metadata": {},
   "outputs": [
    {
     "name": "stderr",
     "output_type": "stream",
     "text": [
      "/tmp/ipykernel_157087/2267206800.py:1: SettingWithCopyWarning:\n",
      "\n",
      "\n",
      "A value is trying to be set on a copy of a slice from a DataFrame.\n",
      "Try using .loc[row_indexer,col_indexer] = value instead\n",
      "\n",
      "See the caveats in the documentation: https://pandas.pydata.org/pandas-docs/stable/user_guide/indexing.html#returning-a-view-versus-a-copy\n",
      "\n"
     ]
    }
   ],
   "source": [
    "data_2016_clean.text = data_2016_clean.text.apply(preprocess_tweet)"
   ]
  },
  {
   "cell_type": "code",
   "execution_count": 14,
   "metadata": {},
   "outputs": [],
   "source": [
    "X = data_2016_clean.text\n",
    "y = LabelEncoder().fit_transform(data_2016_clean.source == \"Twitter for Android\")"
   ]
  },
  {
   "cell_type": "code",
   "execution_count": 15,
   "metadata": {},
   "outputs": [],
   "source": [
    "X_train,X_test,y_train,y_test = train_test_split(X,y,test_size=0.2,random_state=100)"
   ]
  },
  {
   "cell_type": "code",
   "execution_count": null,
   "metadata": {},
   "outputs": [],
   "source": []
  },
  {
   "cell_type": "markdown",
   "metadata": {},
   "source": [
    "### Modelling"
   ]
  },
  {
   "cell_type": "markdown",
   "metadata": {},
   "source": [
    "#### ML modelling"
   ]
  },
  {
   "cell_type": "markdown",
   "metadata": {},
   "source": [
    "##### 1. BoW (Bag of Words)"
   ]
  },
  {
   "cell_type": "code",
   "execution_count": 40,
   "metadata": {},
   "outputs": [],
   "source": [
    "from sklearn.feature_extraction.text import CountVectorizer, TfidfVectorizer\n",
    "from sklearn.naive_bayes import GaussianNB\n",
    "from sklearn.ensemble import RandomForestClassifier\n",
    "from sklearn.metrics import accuracy_score, confusion_matrix"
   ]
  },
  {
   "cell_type": "code",
   "execution_count": 17,
   "metadata": {},
   "outputs": [
    {
     "name": "stdout",
     "output_type": "stream",
     "text": [
      "features :  5069\n"
     ]
    },
    {
     "data": {
      "text/html": [
       "<style>#sk-container-id-1 {color: black;}#sk-container-id-1 pre{padding: 0;}#sk-container-id-1 div.sk-toggleable {background-color: white;}#sk-container-id-1 label.sk-toggleable__label {cursor: pointer;display: block;width: 100%;margin-bottom: 0;padding: 0.3em;box-sizing: border-box;text-align: center;}#sk-container-id-1 label.sk-toggleable__label-arrow:before {content: \"▸\";float: left;margin-right: 0.25em;color: #696969;}#sk-container-id-1 label.sk-toggleable__label-arrow:hover:before {color: black;}#sk-container-id-1 div.sk-estimator:hover label.sk-toggleable__label-arrow:before {color: black;}#sk-container-id-1 div.sk-toggleable__content {max-height: 0;max-width: 0;overflow: hidden;text-align: left;background-color: #f0f8ff;}#sk-container-id-1 div.sk-toggleable__content pre {margin: 0.2em;color: black;border-radius: 0.25em;background-color: #f0f8ff;}#sk-container-id-1 input.sk-toggleable__control:checked~div.sk-toggleable__content {max-height: 200px;max-width: 100%;overflow: auto;}#sk-container-id-1 input.sk-toggleable__control:checked~label.sk-toggleable__label-arrow:before {content: \"▾\";}#sk-container-id-1 div.sk-estimator input.sk-toggleable__control:checked~label.sk-toggleable__label {background-color: #d4ebff;}#sk-container-id-1 div.sk-label input.sk-toggleable__control:checked~label.sk-toggleable__label {background-color: #d4ebff;}#sk-container-id-1 input.sk-hidden--visually {border: 0;clip: rect(1px 1px 1px 1px);clip: rect(1px, 1px, 1px, 1px);height: 1px;margin: -1px;overflow: hidden;padding: 0;position: absolute;width: 1px;}#sk-container-id-1 div.sk-estimator {font-family: monospace;background-color: #f0f8ff;border: 1px dotted black;border-radius: 0.25em;box-sizing: border-box;margin-bottom: 0.5em;}#sk-container-id-1 div.sk-estimator:hover {background-color: #d4ebff;}#sk-container-id-1 div.sk-parallel-item::after {content: \"\";width: 100%;border-bottom: 1px solid gray;flex-grow: 1;}#sk-container-id-1 div.sk-label:hover label.sk-toggleable__label {background-color: #d4ebff;}#sk-container-id-1 div.sk-serial::before {content: \"\";position: absolute;border-left: 1px solid gray;box-sizing: border-box;top: 0;bottom: 0;left: 50%;z-index: 0;}#sk-container-id-1 div.sk-serial {display: flex;flex-direction: column;align-items: center;background-color: white;padding-right: 0.2em;padding-left: 0.2em;position: relative;}#sk-container-id-1 div.sk-item {position: relative;z-index: 1;}#sk-container-id-1 div.sk-parallel {display: flex;align-items: stretch;justify-content: center;background-color: white;position: relative;}#sk-container-id-1 div.sk-item::before, #sk-container-id-1 div.sk-parallel-item::before {content: \"\";position: absolute;border-left: 1px solid gray;box-sizing: border-box;top: 0;bottom: 0;left: 50%;z-index: -1;}#sk-container-id-1 div.sk-parallel-item {display: flex;flex-direction: column;z-index: 1;position: relative;background-color: white;}#sk-container-id-1 div.sk-parallel-item:first-child::after {align-self: flex-end;width: 50%;}#sk-container-id-1 div.sk-parallel-item:last-child::after {align-self: flex-start;width: 50%;}#sk-container-id-1 div.sk-parallel-item:only-child::after {width: 0;}#sk-container-id-1 div.sk-dashed-wrapped {border: 1px dashed gray;margin: 0 0.4em 0.5em 0.4em;box-sizing: border-box;padding-bottom: 0.4em;background-color: white;}#sk-container-id-1 div.sk-label label {font-family: monospace;font-weight: bold;display: inline-block;line-height: 1.2em;}#sk-container-id-1 div.sk-label-container {text-align: center;}#sk-container-id-1 div.sk-container {/* jupyter's `normalize.less` sets `[hidden] { display: none; }` but bootstrap.min.css set `[hidden] { display: none !important; }` so we also need the `!important` here to be able to override the default hidden behavior on the sphinx rendered scikit-learn.org. See: https://github.com/scikit-learn/scikit-learn/issues/21755 */display: inline-block !important;position: relative;}#sk-container-id-1 div.sk-text-repr-fallback {display: none;}</style><div id=\"sk-container-id-1\" class=\"sk-top-container\"><div class=\"sk-text-repr-fallback\"><pre>GaussianNB()</pre><b>In a Jupyter environment, please rerun this cell to show the HTML representation or trust the notebook. <br />On GitHub, the HTML representation is unable to render, please try loading this page with nbviewer.org.</b></div><div class=\"sk-container\" hidden><div class=\"sk-item\"><div class=\"sk-estimator sk-toggleable\"><input class=\"sk-toggleable__control sk-hidden--visually\" id=\"sk-estimator-id-1\" type=\"checkbox\" checked><label for=\"sk-estimator-id-1\" class=\"sk-toggleable__label sk-toggleable__label-arrow\">GaussianNB</label><div class=\"sk-toggleable__content\"><pre>GaussianNB()</pre></div></div></div></div></div>"
      ],
      "text/plain": [
       "GaussianNB()"
      ]
     },
     "execution_count": 17,
     "metadata": {},
     "output_type": "execute_result"
    }
   ],
   "source": [
    "cv = CountVectorizer()\n",
    "X_train_bow = cv.fit_transform(X_train).toarray()\n",
    "X_test_bow = cv.transform(X_test).toarray()\n",
    "\n",
    "# This shows us that using Bag of words we got 5069 features\n",
    "print(\"features : \",X_train_bow.shape[1])\n",
    "\n",
    "# Training the model\n",
    "\n",
    "gnb = GaussianNB()\n",
    "gnb.fit(X_train_bow,y_train)\n"
   ]
  },
  {
   "cell_type": "markdown",
   "metadata": {},
   "source": [
    "##### Evaluation for **Bag of Words**(Text Vectorization) and **NaiveBayes** (Model)"
   ]
  },
  {
   "cell_type": "code",
   "execution_count": 18,
   "metadata": {},
   "outputs": [
    {
     "name": "stdout",
     "output_type": "stream",
     "text": [
      "Acuracy using Bow and Naive Bayes techqiue is : 75.1938%\n"
     ]
    }
   ],
   "source": [
    "y_pred = gnb.predict(X_test_bow)\n",
    "accuracy = round(accuracy_score (y_test, y_pred)*100,4)\n",
    "print(f\"Acuracy using Bow and Naive Bayes techqiue is : {accuracy}%\")\n"
   ]
  },
  {
   "cell_type": "markdown",
   "metadata": {},
   "source": [
    "##### Checking if the accuracy improves by using high frequency features"
   ]
  },
  {
   "cell_type": "code",
   "execution_count": 19,
   "metadata": {},
   "outputs": [],
   "source": [
    "accuracy_list = []\n",
    "for max_features in range(1,5000,10):\n",
    "    cv = CountVectorizer(max_features=max_features)\n",
    "    X_train_bow = cv.fit_transform(X_train).toarray()\n",
    "    X_test_bow = cv.transform(X_test).toarray()\n",
    "\n",
    "    # This shows us that using Bag of words we got 5069 features\n",
    "    # print(\"features : \",X_train_bow.shape[1])\n",
    "    # Training the model\n",
    "\n",
    "    gnb = GaussianNB()\n",
    "    gnb.fit(X_train_bow,y_train)\n",
    "\n",
    "    y_pred = gnb.predict(X_test_bow)\n",
    "    accuracy = round(accuracy_score (y_test, y_pred)*100,4)\n",
    "    accuracy_list.append(accuracy)\n",
    "    # print(f\"Acuracy using Bow and Naive Bayes techqiue is : {accuracy}%\")\n",
    "\n"
   ]
  },
  {
   "cell_type": "code",
   "execution_count": 20,
   "metadata": {},
   "outputs": [
    {
     "data": {
      "application/vnd.plotly.v1+json": {
       "config": {
        "plotlyServerURL": "https://plot.ly"
       },
       "data": [
        {
         "mode": "lines",
         "type": "scatter",
         "x": [
          1,
          11,
          21,
          31,
          41,
          51,
          61,
          71,
          81,
          91,
          101,
          111,
          121,
          131,
          141,
          151,
          161,
          171,
          181,
          191,
          201,
          211,
          221,
          231,
          241,
          251,
          261,
          271,
          281,
          291,
          301,
          311,
          321,
          331,
          341,
          351,
          361,
          371,
          381,
          391,
          401,
          411,
          421,
          431,
          441,
          451,
          461,
          471,
          481,
          491,
          501,
          511,
          521,
          531,
          541,
          551,
          561,
          571,
          581,
          591,
          601,
          611,
          621,
          631,
          641,
          651,
          661,
          671,
          681,
          691,
          701,
          711,
          721,
          731,
          741,
          751,
          761,
          771,
          781,
          791,
          801,
          811,
          821,
          831,
          841,
          851,
          861,
          871,
          881,
          891,
          901,
          911,
          921,
          931,
          941,
          951,
          961,
          971,
          981,
          991,
          1001,
          1011,
          1021,
          1031,
          1041,
          1051,
          1061,
          1071,
          1081,
          1091,
          1101,
          1111,
          1121,
          1131,
          1141,
          1151,
          1161,
          1171,
          1181,
          1191,
          1201,
          1211,
          1221,
          1231,
          1241,
          1251,
          1261,
          1271,
          1281,
          1291,
          1301,
          1311,
          1321,
          1331,
          1341,
          1351,
          1361,
          1371,
          1381,
          1391,
          1401,
          1411,
          1421,
          1431,
          1441,
          1451,
          1461,
          1471,
          1481,
          1491,
          1501,
          1511,
          1521,
          1531,
          1541,
          1551,
          1561,
          1571,
          1581,
          1591,
          1601,
          1611,
          1621,
          1631,
          1641,
          1651,
          1661,
          1671,
          1681,
          1691,
          1701,
          1711,
          1721,
          1731,
          1741,
          1751,
          1761,
          1771,
          1781,
          1791,
          1801,
          1811,
          1821,
          1831,
          1841,
          1851,
          1861,
          1871,
          1881,
          1891,
          1901,
          1911,
          1921,
          1931,
          1941,
          1951,
          1961,
          1971,
          1981,
          1991,
          2001,
          2011,
          2021,
          2031,
          2041,
          2051,
          2061,
          2071,
          2081,
          2091,
          2101,
          2111,
          2121,
          2131,
          2141,
          2151,
          2161,
          2171,
          2181,
          2191,
          2201,
          2211,
          2221,
          2231,
          2241,
          2251,
          2261,
          2271,
          2281,
          2291,
          2301,
          2311,
          2321,
          2331,
          2341,
          2351,
          2361,
          2371,
          2381,
          2391,
          2401,
          2411,
          2421,
          2431,
          2441,
          2451,
          2461,
          2471,
          2481,
          2491,
          2501,
          2511,
          2521,
          2531,
          2541,
          2551,
          2561,
          2571,
          2581,
          2591,
          2601,
          2611,
          2621,
          2631,
          2641,
          2651,
          2661,
          2671,
          2681,
          2691,
          2701,
          2711,
          2721,
          2731,
          2741,
          2751,
          2761,
          2771,
          2781,
          2791,
          2801,
          2811,
          2821,
          2831,
          2841,
          2851,
          2861,
          2871,
          2881,
          2891,
          2901,
          2911,
          2921,
          2931,
          2941,
          2951,
          2961,
          2971,
          2981,
          2991,
          3001,
          3011,
          3021,
          3031,
          3041,
          3051,
          3061,
          3071,
          3081,
          3091,
          3101,
          3111,
          3121,
          3131,
          3141,
          3151,
          3161,
          3171,
          3181,
          3191,
          3201,
          3211,
          3221,
          3231,
          3241,
          3251,
          3261,
          3271,
          3281,
          3291,
          3301,
          3311,
          3321,
          3331,
          3341,
          3351,
          3361,
          3371,
          3381,
          3391,
          3401,
          3411,
          3421,
          3431,
          3441,
          3451,
          3461,
          3471,
          3481,
          3491,
          3501,
          3511,
          3521,
          3531,
          3541,
          3551,
          3561,
          3571,
          3581,
          3591,
          3601,
          3611,
          3621,
          3631,
          3641,
          3651,
          3661,
          3671,
          3681,
          3691,
          3701,
          3711,
          3721,
          3731,
          3741,
          3751,
          3761,
          3771,
          3781,
          3791,
          3801,
          3811,
          3821,
          3831,
          3841,
          3851,
          3861,
          3871,
          3881,
          3891,
          3901,
          3911,
          3921,
          3931,
          3941,
          3951,
          3961,
          3971,
          3981,
          3991,
          4001,
          4011,
          4021,
          4031,
          4041,
          4051,
          4061,
          4071,
          4081,
          4091,
          4101,
          4111,
          4121,
          4131,
          4141,
          4151,
          4161,
          4171,
          4181,
          4191,
          4201,
          4211,
          4221,
          4231,
          4241,
          4251,
          4261,
          4271,
          4281,
          4291,
          4301,
          4311,
          4321,
          4331,
          4341,
          4351,
          4361,
          4371,
          4381,
          4391,
          4401,
          4411,
          4421,
          4431,
          4441,
          4451,
          4461,
          4471,
          4481,
          4491,
          4501,
          4511,
          4521,
          4531,
          4541,
          4551,
          4561,
          4571,
          4581,
          4591,
          4601,
          4611,
          4621,
          4631,
          4641,
          4651,
          4661,
          4671,
          4681,
          4691,
          4701,
          4711,
          4721,
          4731,
          4741,
          4751,
          4761,
          4771,
          4781,
          4791,
          4801,
          4811,
          4821,
          4831,
          4841,
          4851,
          4861,
          4871,
          4881,
          4891,
          4901,
          4911,
          4921,
          4931,
          4941,
          4951,
          4961,
          4971,
          4981,
          4991
         ],
         "y": [
          52.4031,
          58.7597,
          61.0853,
          65.1163,
          65.5814,
          66.3566,
          66.8217,
          66.6667,
          68.2171,
          69.1473,
          70.3876,
          71.0078,
          71.0078,
          71.0078,
          71.3178,
          71.3178,
          71.1628,
          71.1628,
          71.1628,
          71.938,
          72.093,
          72.4031,
          71.7829,
          71.7829,
          71.938,
          71.938,
          72.4031,
          72.5581,
          72.7132,
          72.8682,
          72.8682,
          73.4884,
          74.5736,
          74.7287,
          74.7287,
          74.8837,
          75.3488,
          74.8837,
          74.8837,
          75.1938,
          75.1938,
          75.1938,
          75.3488,
          75.5039,
          75.3488,
          75.1938,
          75.3488,
          75.5039,
          75.5039,
          75.6589,
          75.6589,
          75.814,
          75.814,
          75.969,
          76.124,
          76.2791,
          75.969,
          76.124,
          76.124,
          76.124,
          75.969,
          76.124,
          76.2791,
          75.969,
          76.124,
          75.969,
          75.814,
          76.2791,
          76.4341,
          76.4341,
          76.4341,
          76.4341,
          76.4341,
          76.5891,
          76.5891,
          76.4341,
          76.5891,
          76.5891,
          76.5891,
          76.5891,
          76.5891,
          76.8992,
          77.2093,
          77.2093,
          77.3643,
          77.3643,
          77.6744,
          77.6744,
          77.6744,
          77.6744,
          77.5194,
          77.3643,
          77.5194,
          77.3643,
          77.5194,
          77.2093,
          77.3643,
          77.3643,
          77.3643,
          77.5194,
          77.6744,
          77.6744,
          77.6744,
          77.6744,
          77.6744,
          77.9845,
          77.9845,
          78.1395,
          77.9845,
          78.1395,
          78.1395,
          78.4496,
          78.1395,
          77.9845,
          77.9845,
          78.1395,
          78.1395,
          78.4496,
          78.4496,
          78.2946,
          78.2946,
          78.4496,
          78.4496,
          78.2946,
          78.4496,
          78.6047,
          78.4496,
          78.4496,
          78.4496,
          78.4496,
          78.7597,
          78.7597,
          78.7597,
          78.7597,
          78.4496,
          78.4496,
          78.4496,
          78.2946,
          78.4496,
          78.4496,
          78.2946,
          78.2946,
          78.4496,
          78.6047,
          78.4496,
          78.4496,
          78.6047,
          78.4496,
          78.7597,
          78.6047,
          78.6047,
          78.7597,
          78.6047,
          79.0698,
          79.0698,
          78.9147,
          78.9147,
          78.7597,
          79.0698,
          78.9147,
          78.9147,
          78.9147,
          78.7597,
          78.7597,
          78.9147,
          78.9147,
          78.7597,
          78.6047,
          78.2946,
          78.1395,
          78.1395,
          77.9845,
          77.9845,
          77.5194,
          77.3643,
          76.8992,
          76.8992,
          76.7442,
          76.5891,
          76.5891,
          76.5891,
          76.7442,
          76.5891,
          76.5891,
          76.7442,
          76.8992,
          76.7442,
          76.7442,
          76.7442,
          76.8992,
          77.0543,
          77.2093,
          77.2093,
          77.3643,
          77.3643,
          77.3643,
          77.3643,
          77.3643,
          77.3643,
          77.3643,
          77.3643,
          77.3643,
          77.2093,
          77.2093,
          77.3643,
          77.3643,
          77.2093,
          77.2093,
          77.3643,
          77.2093,
          77.2093,
          77.2093,
          77.2093,
          77.2093,
          77.2093,
          77.2093,
          77.2093,
          77.2093,
          77.2093,
          77.2093,
          76.8992,
          76.8992,
          76.8992,
          76.7442,
          76.7442,
          76.7442,
          76.5891,
          76.5891,
          76.5891,
          76.5891,
          76.5891,
          76.5891,
          76.4341,
          76.5891,
          76.2791,
          76.124,
          76.124,
          76.124,
          76.2791,
          76.124,
          76.124,
          75.969,
          76.124,
          76.124,
          75.969,
          75.969,
          75.814,
          75.814,
          75.6589,
          75.6589,
          75.6589,
          75.814,
          75.814,
          75.814,
          75.6589,
          75.6589,
          75.6589,
          75.6589,
          75.6589,
          75.814,
          75.814,
          75.969,
          76.124,
          76.124,
          76.124,
          76.124,
          76.2791,
          76.2791,
          76.2791,
          76.2791,
          76.124,
          76.124,
          76.124,
          75.969,
          75.969,
          76.124,
          76.2791,
          76.124,
          76.124,
          76.124,
          76.124,
          76.124,
          76.124,
          76.124,
          76.124,
          76.124,
          75.969,
          76.124,
          76.124,
          76.124,
          76.124,
          76.124,
          76.124,
          76.2791,
          76.2791,
          76.2791,
          76.2791,
          76.124,
          76.2791,
          76.4341,
          76.2791,
          76.2791,
          76.4341,
          76.4341,
          76.4341,
          76.4341,
          76.4341,
          76.4341,
          76.4341,
          76.4341,
          76.4341,
          76.4341,
          76.5891,
          76.4341,
          76.4341,
          76.2791,
          76.2791,
          76.2791,
          76.2791,
          76.2791,
          76.2791,
          76.2791,
          76.2791,
          76.2791,
          76.2791,
          76.2791,
          76.124,
          76.124,
          76.124,
          76.124,
          76.4341,
          76.4341,
          76.4341,
          76.5891,
          76.5891,
          76.5891,
          76.5891,
          76.5891,
          76.4341,
          76.4341,
          76.4341,
          76.4341,
          76.5891,
          76.5891,
          76.5891,
          76.7442,
          76.7442,
          76.7442,
          76.7442,
          76.7442,
          76.7442,
          76.7442,
          76.5891,
          76.5891,
          76.5891,
          76.5891,
          76.5891,
          76.5891,
          76.5891,
          76.5891,
          76.5891,
          76.5891,
          76.4341,
          76.4341,
          76.5891,
          76.7442,
          76.7442,
          76.7442,
          76.7442,
          76.7442,
          76.7442,
          76.5891,
          76.5891,
          76.5891,
          76.4341,
          76.4341,
          76.4341,
          76.4341,
          76.4341,
          76.4341,
          76.4341,
          76.4341,
          76.4341,
          76.4341,
          76.4341,
          76.4341,
          76.4341,
          76.4341,
          76.4341,
          76.4341,
          76.4341,
          76.4341,
          76.4341,
          76.7442,
          76.7442,
          76.7442,
          76.7442,
          76.7442,
          76.7442,
          76.7442,
          76.7442,
          76.5891,
          76.5891,
          76.5891,
          76.5891,
          76.5891,
          76.5891,
          76.4341,
          76.4341,
          76.4341,
          76.4341,
          76.2791,
          76.124,
          76.124,
          76.124,
          76.124,
          76.124,
          76.124,
          76.124,
          75.814,
          75.814,
          75.814,
          75.814,
          75.814,
          75.814,
          75.814,
          75.6589,
          75.6589,
          75.6589,
          75.6589,
          75.6589,
          75.6589,
          75.6589,
          75.6589,
          75.814,
          75.6589,
          75.6589,
          75.6589,
          75.3488,
          75.3488,
          75.3488,
          75.3488,
          75.3488,
          75.5039,
          75.6589,
          75.6589,
          75.6589,
          75.6589,
          75.6589,
          75.6589,
          75.6589,
          75.6589,
          75.5039,
          75.5039,
          75.3488,
          75.3488,
          75.5039,
          75.5039,
          75.5039,
          75.5039,
          75.5039,
          75.3488,
          75.1938,
          75.1938,
          75.0388,
          75.1938,
          75.1938,
          75.1938,
          75.1938,
          75.1938,
          75.1938,
          75.0388,
          75.0388,
          74.8837,
          74.8837,
          74.8837,
          74.8837,
          74.7287,
          74.7287,
          74.7287,
          74.7287,
          74.7287,
          74.8837,
          74.8837,
          75.0388,
          75.1938,
          75.3488,
          75.3488,
          75.3488,
          75.3488,
          75.1938,
          75.1938,
          75.3488,
          75.3488,
          75.3488,
          75.3488,
          75.3488,
          75.3488,
          75.3488,
          75.3488
         ]
        }
       ],
       "layout": {
        "template": {
         "data": {
          "bar": [
           {
            "error_x": {
             "color": "#2a3f5f"
            },
            "error_y": {
             "color": "#2a3f5f"
            },
            "marker": {
             "line": {
              "color": "#E5ECF6",
              "width": 0.5
             },
             "pattern": {
              "fillmode": "overlay",
              "size": 10,
              "solidity": 0.2
             }
            },
            "type": "bar"
           }
          ],
          "barpolar": [
           {
            "marker": {
             "line": {
              "color": "#E5ECF6",
              "width": 0.5
             },
             "pattern": {
              "fillmode": "overlay",
              "size": 10,
              "solidity": 0.2
             }
            },
            "type": "barpolar"
           }
          ],
          "carpet": [
           {
            "aaxis": {
             "endlinecolor": "#2a3f5f",
             "gridcolor": "white",
             "linecolor": "white",
             "minorgridcolor": "white",
             "startlinecolor": "#2a3f5f"
            },
            "baxis": {
             "endlinecolor": "#2a3f5f",
             "gridcolor": "white",
             "linecolor": "white",
             "minorgridcolor": "white",
             "startlinecolor": "#2a3f5f"
            },
            "type": "carpet"
           }
          ],
          "choropleth": [
           {
            "colorbar": {
             "outlinewidth": 0,
             "ticks": ""
            },
            "type": "choropleth"
           }
          ],
          "contour": [
           {
            "colorbar": {
             "outlinewidth": 0,
             "ticks": ""
            },
            "colorscale": [
             [
              0,
              "#0d0887"
             ],
             [
              0.1111111111111111,
              "#46039f"
             ],
             [
              0.2222222222222222,
              "#7201a8"
             ],
             [
              0.3333333333333333,
              "#9c179e"
             ],
             [
              0.4444444444444444,
              "#bd3786"
             ],
             [
              0.5555555555555556,
              "#d8576b"
             ],
             [
              0.6666666666666666,
              "#ed7953"
             ],
             [
              0.7777777777777778,
              "#fb9f3a"
             ],
             [
              0.8888888888888888,
              "#fdca26"
             ],
             [
              1,
              "#f0f921"
             ]
            ],
            "type": "contour"
           }
          ],
          "contourcarpet": [
           {
            "colorbar": {
             "outlinewidth": 0,
             "ticks": ""
            },
            "type": "contourcarpet"
           }
          ],
          "heatmap": [
           {
            "colorbar": {
             "outlinewidth": 0,
             "ticks": ""
            },
            "colorscale": [
             [
              0,
              "#0d0887"
             ],
             [
              0.1111111111111111,
              "#46039f"
             ],
             [
              0.2222222222222222,
              "#7201a8"
             ],
             [
              0.3333333333333333,
              "#9c179e"
             ],
             [
              0.4444444444444444,
              "#bd3786"
             ],
             [
              0.5555555555555556,
              "#d8576b"
             ],
             [
              0.6666666666666666,
              "#ed7953"
             ],
             [
              0.7777777777777778,
              "#fb9f3a"
             ],
             [
              0.8888888888888888,
              "#fdca26"
             ],
             [
              1,
              "#f0f921"
             ]
            ],
            "type": "heatmap"
           }
          ],
          "heatmapgl": [
           {
            "colorbar": {
             "outlinewidth": 0,
             "ticks": ""
            },
            "colorscale": [
             [
              0,
              "#0d0887"
             ],
             [
              0.1111111111111111,
              "#46039f"
             ],
             [
              0.2222222222222222,
              "#7201a8"
             ],
             [
              0.3333333333333333,
              "#9c179e"
             ],
             [
              0.4444444444444444,
              "#bd3786"
             ],
             [
              0.5555555555555556,
              "#d8576b"
             ],
             [
              0.6666666666666666,
              "#ed7953"
             ],
             [
              0.7777777777777778,
              "#fb9f3a"
             ],
             [
              0.8888888888888888,
              "#fdca26"
             ],
             [
              1,
              "#f0f921"
             ]
            ],
            "type": "heatmapgl"
           }
          ],
          "histogram": [
           {
            "marker": {
             "pattern": {
              "fillmode": "overlay",
              "size": 10,
              "solidity": 0.2
             }
            },
            "type": "histogram"
           }
          ],
          "histogram2d": [
           {
            "colorbar": {
             "outlinewidth": 0,
             "ticks": ""
            },
            "colorscale": [
             [
              0,
              "#0d0887"
             ],
             [
              0.1111111111111111,
              "#46039f"
             ],
             [
              0.2222222222222222,
              "#7201a8"
             ],
             [
              0.3333333333333333,
              "#9c179e"
             ],
             [
              0.4444444444444444,
              "#bd3786"
             ],
             [
              0.5555555555555556,
              "#d8576b"
             ],
             [
              0.6666666666666666,
              "#ed7953"
             ],
             [
              0.7777777777777778,
              "#fb9f3a"
             ],
             [
              0.8888888888888888,
              "#fdca26"
             ],
             [
              1,
              "#f0f921"
             ]
            ],
            "type": "histogram2d"
           }
          ],
          "histogram2dcontour": [
           {
            "colorbar": {
             "outlinewidth": 0,
             "ticks": ""
            },
            "colorscale": [
             [
              0,
              "#0d0887"
             ],
             [
              0.1111111111111111,
              "#46039f"
             ],
             [
              0.2222222222222222,
              "#7201a8"
             ],
             [
              0.3333333333333333,
              "#9c179e"
             ],
             [
              0.4444444444444444,
              "#bd3786"
             ],
             [
              0.5555555555555556,
              "#d8576b"
             ],
             [
              0.6666666666666666,
              "#ed7953"
             ],
             [
              0.7777777777777778,
              "#fb9f3a"
             ],
             [
              0.8888888888888888,
              "#fdca26"
             ],
             [
              1,
              "#f0f921"
             ]
            ],
            "type": "histogram2dcontour"
           }
          ],
          "mesh3d": [
           {
            "colorbar": {
             "outlinewidth": 0,
             "ticks": ""
            },
            "type": "mesh3d"
           }
          ],
          "parcoords": [
           {
            "line": {
             "colorbar": {
              "outlinewidth": 0,
              "ticks": ""
             }
            },
            "type": "parcoords"
           }
          ],
          "pie": [
           {
            "automargin": true,
            "type": "pie"
           }
          ],
          "scatter": [
           {
            "fillpattern": {
             "fillmode": "overlay",
             "size": 10,
             "solidity": 0.2
            },
            "type": "scatter"
           }
          ],
          "scatter3d": [
           {
            "line": {
             "colorbar": {
              "outlinewidth": 0,
              "ticks": ""
             }
            },
            "marker": {
             "colorbar": {
              "outlinewidth": 0,
              "ticks": ""
             }
            },
            "type": "scatter3d"
           }
          ],
          "scattercarpet": [
           {
            "marker": {
             "colorbar": {
              "outlinewidth": 0,
              "ticks": ""
             }
            },
            "type": "scattercarpet"
           }
          ],
          "scattergeo": [
           {
            "marker": {
             "colorbar": {
              "outlinewidth": 0,
              "ticks": ""
             }
            },
            "type": "scattergeo"
           }
          ],
          "scattergl": [
           {
            "marker": {
             "colorbar": {
              "outlinewidth": 0,
              "ticks": ""
             }
            },
            "type": "scattergl"
           }
          ],
          "scattermapbox": [
           {
            "marker": {
             "colorbar": {
              "outlinewidth": 0,
              "ticks": ""
             }
            },
            "type": "scattermapbox"
           }
          ],
          "scatterpolar": [
           {
            "marker": {
             "colorbar": {
              "outlinewidth": 0,
              "ticks": ""
             }
            },
            "type": "scatterpolar"
           }
          ],
          "scatterpolargl": [
           {
            "marker": {
             "colorbar": {
              "outlinewidth": 0,
              "ticks": ""
             }
            },
            "type": "scatterpolargl"
           }
          ],
          "scatterternary": [
           {
            "marker": {
             "colorbar": {
              "outlinewidth": 0,
              "ticks": ""
             }
            },
            "type": "scatterternary"
           }
          ],
          "surface": [
           {
            "colorbar": {
             "outlinewidth": 0,
             "ticks": ""
            },
            "colorscale": [
             [
              0,
              "#0d0887"
             ],
             [
              0.1111111111111111,
              "#46039f"
             ],
             [
              0.2222222222222222,
              "#7201a8"
             ],
             [
              0.3333333333333333,
              "#9c179e"
             ],
             [
              0.4444444444444444,
              "#bd3786"
             ],
             [
              0.5555555555555556,
              "#d8576b"
             ],
             [
              0.6666666666666666,
              "#ed7953"
             ],
             [
              0.7777777777777778,
              "#fb9f3a"
             ],
             [
              0.8888888888888888,
              "#fdca26"
             ],
             [
              1,
              "#f0f921"
             ]
            ],
            "type": "surface"
           }
          ],
          "table": [
           {
            "cells": {
             "fill": {
              "color": "#EBF0F8"
             },
             "line": {
              "color": "white"
             }
            },
            "header": {
             "fill": {
              "color": "#C8D4E3"
             },
             "line": {
              "color": "white"
             }
            },
            "type": "table"
           }
          ]
         },
         "layout": {
          "annotationdefaults": {
           "arrowcolor": "#2a3f5f",
           "arrowhead": 0,
           "arrowwidth": 1
          },
          "autotypenumbers": "strict",
          "coloraxis": {
           "colorbar": {
            "outlinewidth": 0,
            "ticks": ""
           }
          },
          "colorscale": {
           "diverging": [
            [
             0,
             "#8e0152"
            ],
            [
             0.1,
             "#c51b7d"
            ],
            [
             0.2,
             "#de77ae"
            ],
            [
             0.3,
             "#f1b6da"
            ],
            [
             0.4,
             "#fde0ef"
            ],
            [
             0.5,
             "#f7f7f7"
            ],
            [
             0.6,
             "#e6f5d0"
            ],
            [
             0.7,
             "#b8e186"
            ],
            [
             0.8,
             "#7fbc41"
            ],
            [
             0.9,
             "#4d9221"
            ],
            [
             1,
             "#276419"
            ]
           ],
           "sequential": [
            [
             0,
             "#0d0887"
            ],
            [
             0.1111111111111111,
             "#46039f"
            ],
            [
             0.2222222222222222,
             "#7201a8"
            ],
            [
             0.3333333333333333,
             "#9c179e"
            ],
            [
             0.4444444444444444,
             "#bd3786"
            ],
            [
             0.5555555555555556,
             "#d8576b"
            ],
            [
             0.6666666666666666,
             "#ed7953"
            ],
            [
             0.7777777777777778,
             "#fb9f3a"
            ],
            [
             0.8888888888888888,
             "#fdca26"
            ],
            [
             1,
             "#f0f921"
            ]
           ],
           "sequentialminus": [
            [
             0,
             "#0d0887"
            ],
            [
             0.1111111111111111,
             "#46039f"
            ],
            [
             0.2222222222222222,
             "#7201a8"
            ],
            [
             0.3333333333333333,
             "#9c179e"
            ],
            [
             0.4444444444444444,
             "#bd3786"
            ],
            [
             0.5555555555555556,
             "#d8576b"
            ],
            [
             0.6666666666666666,
             "#ed7953"
            ],
            [
             0.7777777777777778,
             "#fb9f3a"
            ],
            [
             0.8888888888888888,
             "#fdca26"
            ],
            [
             1,
             "#f0f921"
            ]
           ]
          },
          "colorway": [
           "#636efa",
           "#EF553B",
           "#00cc96",
           "#ab63fa",
           "#FFA15A",
           "#19d3f3",
           "#FF6692",
           "#B6E880",
           "#FF97FF",
           "#FECB52"
          ],
          "font": {
           "color": "#2a3f5f"
          },
          "geo": {
           "bgcolor": "white",
           "lakecolor": "white",
           "landcolor": "#E5ECF6",
           "showlakes": true,
           "showland": true,
           "subunitcolor": "white"
          },
          "hoverlabel": {
           "align": "left"
          },
          "hovermode": "closest",
          "mapbox": {
           "style": "light"
          },
          "paper_bgcolor": "white",
          "plot_bgcolor": "#E5ECF6",
          "polar": {
           "angularaxis": {
            "gridcolor": "white",
            "linecolor": "white",
            "ticks": ""
           },
           "bgcolor": "#E5ECF6",
           "radialaxis": {
            "gridcolor": "white",
            "linecolor": "white",
            "ticks": ""
           }
          },
          "scene": {
           "xaxis": {
            "backgroundcolor": "#E5ECF6",
            "gridcolor": "white",
            "gridwidth": 2,
            "linecolor": "white",
            "showbackground": true,
            "ticks": "",
            "zerolinecolor": "white"
           },
           "yaxis": {
            "backgroundcolor": "#E5ECF6",
            "gridcolor": "white",
            "gridwidth": 2,
            "linecolor": "white",
            "showbackground": true,
            "ticks": "",
            "zerolinecolor": "white"
           },
           "zaxis": {
            "backgroundcolor": "#E5ECF6",
            "gridcolor": "white",
            "gridwidth": 2,
            "linecolor": "white",
            "showbackground": true,
            "ticks": "",
            "zerolinecolor": "white"
           }
          },
          "shapedefaults": {
           "line": {
            "color": "#2a3f5f"
           }
          },
          "ternary": {
           "aaxis": {
            "gridcolor": "white",
            "linecolor": "white",
            "ticks": ""
           },
           "baxis": {
            "gridcolor": "white",
            "linecolor": "white",
            "ticks": ""
           },
           "bgcolor": "#E5ECF6",
           "caxis": {
            "gridcolor": "white",
            "linecolor": "white",
            "ticks": ""
           }
          },
          "title": {
           "x": 0.05
          },
          "xaxis": {
           "automargin": true,
           "gridcolor": "white",
           "linecolor": "white",
           "ticks": "",
           "title": {
            "standoff": 15
           },
           "zerolinecolor": "white",
           "zerolinewidth": 2
          },
          "yaxis": {
           "automargin": true,
           "gridcolor": "white",
           "linecolor": "white",
           "ticks": "",
           "title": {
            "standoff": 15
           },
           "zerolinecolor": "white",
           "zerolinewidth": 2
          }
         }
        },
        "title": {
         "text": "Test Accuracy based on number of features"
        },
        "xaxis": {
         "title": {
          "text": "Max Features"
         }
        },
        "yaxis": {
         "title": {
          "text": "Acuuracy( in %)"
         }
        }
       }
      },
      "text/html": [
       "<div>                            <div id=\"94994041-b8cc-43ff-a886-a25a9189230f\" class=\"plotly-graph-div\" style=\"height:525px; width:100%;\"></div>            <script type=\"text/javascript\">                require([\"plotly\"], function(Plotly) {                    window.PLOTLYENV=window.PLOTLYENV || {};                                    if (document.getElementById(\"94994041-b8cc-43ff-a886-a25a9189230f\")) {                    Plotly.newPlot(                        \"94994041-b8cc-43ff-a886-a25a9189230f\",                        [{\"mode\":\"lines\",\"x\":[1,11,21,31,41,51,61,71,81,91,101,111,121,131,141,151,161,171,181,191,201,211,221,231,241,251,261,271,281,291,301,311,321,331,341,351,361,371,381,391,401,411,421,431,441,451,461,471,481,491,501,511,521,531,541,551,561,571,581,591,601,611,621,631,641,651,661,671,681,691,701,711,721,731,741,751,761,771,781,791,801,811,821,831,841,851,861,871,881,891,901,911,921,931,941,951,961,971,981,991,1001,1011,1021,1031,1041,1051,1061,1071,1081,1091,1101,1111,1121,1131,1141,1151,1161,1171,1181,1191,1201,1211,1221,1231,1241,1251,1261,1271,1281,1291,1301,1311,1321,1331,1341,1351,1361,1371,1381,1391,1401,1411,1421,1431,1441,1451,1461,1471,1481,1491,1501,1511,1521,1531,1541,1551,1561,1571,1581,1591,1601,1611,1621,1631,1641,1651,1661,1671,1681,1691,1701,1711,1721,1731,1741,1751,1761,1771,1781,1791,1801,1811,1821,1831,1841,1851,1861,1871,1881,1891,1901,1911,1921,1931,1941,1951,1961,1971,1981,1991,2001,2011,2021,2031,2041,2051,2061,2071,2081,2091,2101,2111,2121,2131,2141,2151,2161,2171,2181,2191,2201,2211,2221,2231,2241,2251,2261,2271,2281,2291,2301,2311,2321,2331,2341,2351,2361,2371,2381,2391,2401,2411,2421,2431,2441,2451,2461,2471,2481,2491,2501,2511,2521,2531,2541,2551,2561,2571,2581,2591,2601,2611,2621,2631,2641,2651,2661,2671,2681,2691,2701,2711,2721,2731,2741,2751,2761,2771,2781,2791,2801,2811,2821,2831,2841,2851,2861,2871,2881,2891,2901,2911,2921,2931,2941,2951,2961,2971,2981,2991,3001,3011,3021,3031,3041,3051,3061,3071,3081,3091,3101,3111,3121,3131,3141,3151,3161,3171,3181,3191,3201,3211,3221,3231,3241,3251,3261,3271,3281,3291,3301,3311,3321,3331,3341,3351,3361,3371,3381,3391,3401,3411,3421,3431,3441,3451,3461,3471,3481,3491,3501,3511,3521,3531,3541,3551,3561,3571,3581,3591,3601,3611,3621,3631,3641,3651,3661,3671,3681,3691,3701,3711,3721,3731,3741,3751,3761,3771,3781,3791,3801,3811,3821,3831,3841,3851,3861,3871,3881,3891,3901,3911,3921,3931,3941,3951,3961,3971,3981,3991,4001,4011,4021,4031,4041,4051,4061,4071,4081,4091,4101,4111,4121,4131,4141,4151,4161,4171,4181,4191,4201,4211,4221,4231,4241,4251,4261,4271,4281,4291,4301,4311,4321,4331,4341,4351,4361,4371,4381,4391,4401,4411,4421,4431,4441,4451,4461,4471,4481,4491,4501,4511,4521,4531,4541,4551,4561,4571,4581,4591,4601,4611,4621,4631,4641,4651,4661,4671,4681,4691,4701,4711,4721,4731,4741,4751,4761,4771,4781,4791,4801,4811,4821,4831,4841,4851,4861,4871,4881,4891,4901,4911,4921,4931,4941,4951,4961,4971,4981,4991],\"y\":[52.4031,58.7597,61.0853,65.1163,65.5814,66.3566,66.8217,66.6667,68.2171,69.1473,70.3876,71.0078,71.0078,71.0078,71.3178,71.3178,71.1628,71.1628,71.1628,71.938,72.093,72.4031,71.7829,71.7829,71.938,71.938,72.4031,72.5581,72.7132,72.8682,72.8682,73.4884,74.5736,74.7287,74.7287,74.8837,75.3488,74.8837,74.8837,75.1938,75.1938,75.1938,75.3488,75.5039,75.3488,75.1938,75.3488,75.5039,75.5039,75.6589,75.6589,75.814,75.814,75.969,76.124,76.2791,75.969,76.124,76.124,76.124,75.969,76.124,76.2791,75.969,76.124,75.969,75.814,76.2791,76.4341,76.4341,76.4341,76.4341,76.4341,76.5891,76.5891,76.4341,76.5891,76.5891,76.5891,76.5891,76.5891,76.8992,77.2093,77.2093,77.3643,77.3643,77.6744,77.6744,77.6744,77.6744,77.5194,77.3643,77.5194,77.3643,77.5194,77.2093,77.3643,77.3643,77.3643,77.5194,77.6744,77.6744,77.6744,77.6744,77.6744,77.9845,77.9845,78.1395,77.9845,78.1395,78.1395,78.4496,78.1395,77.9845,77.9845,78.1395,78.1395,78.4496,78.4496,78.2946,78.2946,78.4496,78.4496,78.2946,78.4496,78.6047,78.4496,78.4496,78.4496,78.4496,78.7597,78.7597,78.7597,78.7597,78.4496,78.4496,78.4496,78.2946,78.4496,78.4496,78.2946,78.2946,78.4496,78.6047,78.4496,78.4496,78.6047,78.4496,78.7597,78.6047,78.6047,78.7597,78.6047,79.0698,79.0698,78.9147,78.9147,78.7597,79.0698,78.9147,78.9147,78.9147,78.7597,78.7597,78.9147,78.9147,78.7597,78.6047,78.2946,78.1395,78.1395,77.9845,77.9845,77.5194,77.3643,76.8992,76.8992,76.7442,76.5891,76.5891,76.5891,76.7442,76.5891,76.5891,76.7442,76.8992,76.7442,76.7442,76.7442,76.8992,77.0543,77.2093,77.2093,77.3643,77.3643,77.3643,77.3643,77.3643,77.3643,77.3643,77.3643,77.3643,77.2093,77.2093,77.3643,77.3643,77.2093,77.2093,77.3643,77.2093,77.2093,77.2093,77.2093,77.2093,77.2093,77.2093,77.2093,77.2093,77.2093,77.2093,76.8992,76.8992,76.8992,76.7442,76.7442,76.7442,76.5891,76.5891,76.5891,76.5891,76.5891,76.5891,76.4341,76.5891,76.2791,76.124,76.124,76.124,76.2791,76.124,76.124,75.969,76.124,76.124,75.969,75.969,75.814,75.814,75.6589,75.6589,75.6589,75.814,75.814,75.814,75.6589,75.6589,75.6589,75.6589,75.6589,75.814,75.814,75.969,76.124,76.124,76.124,76.124,76.2791,76.2791,76.2791,76.2791,76.124,76.124,76.124,75.969,75.969,76.124,76.2791,76.124,76.124,76.124,76.124,76.124,76.124,76.124,76.124,76.124,75.969,76.124,76.124,76.124,76.124,76.124,76.124,76.2791,76.2791,76.2791,76.2791,76.124,76.2791,76.4341,76.2791,76.2791,76.4341,76.4341,76.4341,76.4341,76.4341,76.4341,76.4341,76.4341,76.4341,76.4341,76.5891,76.4341,76.4341,76.2791,76.2791,76.2791,76.2791,76.2791,76.2791,76.2791,76.2791,76.2791,76.2791,76.2791,76.124,76.124,76.124,76.124,76.4341,76.4341,76.4341,76.5891,76.5891,76.5891,76.5891,76.5891,76.4341,76.4341,76.4341,76.4341,76.5891,76.5891,76.5891,76.7442,76.7442,76.7442,76.7442,76.7442,76.7442,76.7442,76.5891,76.5891,76.5891,76.5891,76.5891,76.5891,76.5891,76.5891,76.5891,76.5891,76.4341,76.4341,76.5891,76.7442,76.7442,76.7442,76.7442,76.7442,76.7442,76.5891,76.5891,76.5891,76.4341,76.4341,76.4341,76.4341,76.4341,76.4341,76.4341,76.4341,76.4341,76.4341,76.4341,76.4341,76.4341,76.4341,76.4341,76.4341,76.4341,76.4341,76.4341,76.7442,76.7442,76.7442,76.7442,76.7442,76.7442,76.7442,76.7442,76.5891,76.5891,76.5891,76.5891,76.5891,76.5891,76.4341,76.4341,76.4341,76.4341,76.2791,76.124,76.124,76.124,76.124,76.124,76.124,76.124,75.814,75.814,75.814,75.814,75.814,75.814,75.814,75.6589,75.6589,75.6589,75.6589,75.6589,75.6589,75.6589,75.6589,75.814,75.6589,75.6589,75.6589,75.3488,75.3488,75.3488,75.3488,75.3488,75.5039,75.6589,75.6589,75.6589,75.6589,75.6589,75.6589,75.6589,75.6589,75.5039,75.5039,75.3488,75.3488,75.5039,75.5039,75.5039,75.5039,75.5039,75.3488,75.1938,75.1938,75.0388,75.1938,75.1938,75.1938,75.1938,75.1938,75.1938,75.0388,75.0388,74.8837,74.8837,74.8837,74.8837,74.7287,74.7287,74.7287,74.7287,74.7287,74.8837,74.8837,75.0388,75.1938,75.3488,75.3488,75.3488,75.3488,75.1938,75.1938,75.3488,75.3488,75.3488,75.3488,75.3488,75.3488,75.3488,75.3488],\"type\":\"scatter\"}],                        {\"template\":{\"data\":{\"histogram2dcontour\":[{\"type\":\"histogram2dcontour\",\"colorbar\":{\"outlinewidth\":0,\"ticks\":\"\"},\"colorscale\":[[0.0,\"#0d0887\"],[0.1111111111111111,\"#46039f\"],[0.2222222222222222,\"#7201a8\"],[0.3333333333333333,\"#9c179e\"],[0.4444444444444444,\"#bd3786\"],[0.5555555555555556,\"#d8576b\"],[0.6666666666666666,\"#ed7953\"],[0.7777777777777778,\"#fb9f3a\"],[0.8888888888888888,\"#fdca26\"],[1.0,\"#f0f921\"]]}],\"choropleth\":[{\"type\":\"choropleth\",\"colorbar\":{\"outlinewidth\":0,\"ticks\":\"\"}}],\"histogram2d\":[{\"type\":\"histogram2d\",\"colorbar\":{\"outlinewidth\":0,\"ticks\":\"\"},\"colorscale\":[[0.0,\"#0d0887\"],[0.1111111111111111,\"#46039f\"],[0.2222222222222222,\"#7201a8\"],[0.3333333333333333,\"#9c179e\"],[0.4444444444444444,\"#bd3786\"],[0.5555555555555556,\"#d8576b\"],[0.6666666666666666,\"#ed7953\"],[0.7777777777777778,\"#fb9f3a\"],[0.8888888888888888,\"#fdca26\"],[1.0,\"#f0f921\"]]}],\"heatmap\":[{\"type\":\"heatmap\",\"colorbar\":{\"outlinewidth\":0,\"ticks\":\"\"},\"colorscale\":[[0.0,\"#0d0887\"],[0.1111111111111111,\"#46039f\"],[0.2222222222222222,\"#7201a8\"],[0.3333333333333333,\"#9c179e\"],[0.4444444444444444,\"#bd3786\"],[0.5555555555555556,\"#d8576b\"],[0.6666666666666666,\"#ed7953\"],[0.7777777777777778,\"#fb9f3a\"],[0.8888888888888888,\"#fdca26\"],[1.0,\"#f0f921\"]]}],\"heatmapgl\":[{\"type\":\"heatmapgl\",\"colorbar\":{\"outlinewidth\":0,\"ticks\":\"\"},\"colorscale\":[[0.0,\"#0d0887\"],[0.1111111111111111,\"#46039f\"],[0.2222222222222222,\"#7201a8\"],[0.3333333333333333,\"#9c179e\"],[0.4444444444444444,\"#bd3786\"],[0.5555555555555556,\"#d8576b\"],[0.6666666666666666,\"#ed7953\"],[0.7777777777777778,\"#fb9f3a\"],[0.8888888888888888,\"#fdca26\"],[1.0,\"#f0f921\"]]}],\"contourcarpet\":[{\"type\":\"contourcarpet\",\"colorbar\":{\"outlinewidth\":0,\"ticks\":\"\"}}],\"contour\":[{\"type\":\"contour\",\"colorbar\":{\"outlinewidth\":0,\"ticks\":\"\"},\"colorscale\":[[0.0,\"#0d0887\"],[0.1111111111111111,\"#46039f\"],[0.2222222222222222,\"#7201a8\"],[0.3333333333333333,\"#9c179e\"],[0.4444444444444444,\"#bd3786\"],[0.5555555555555556,\"#d8576b\"],[0.6666666666666666,\"#ed7953\"],[0.7777777777777778,\"#fb9f3a\"],[0.8888888888888888,\"#fdca26\"],[1.0,\"#f0f921\"]]}],\"surface\":[{\"type\":\"surface\",\"colorbar\":{\"outlinewidth\":0,\"ticks\":\"\"},\"colorscale\":[[0.0,\"#0d0887\"],[0.1111111111111111,\"#46039f\"],[0.2222222222222222,\"#7201a8\"],[0.3333333333333333,\"#9c179e\"],[0.4444444444444444,\"#bd3786\"],[0.5555555555555556,\"#d8576b\"],[0.6666666666666666,\"#ed7953\"],[0.7777777777777778,\"#fb9f3a\"],[0.8888888888888888,\"#fdca26\"],[1.0,\"#f0f921\"]]}],\"mesh3d\":[{\"type\":\"mesh3d\",\"colorbar\":{\"outlinewidth\":0,\"ticks\":\"\"}}],\"scatter\":[{\"fillpattern\":{\"fillmode\":\"overlay\",\"size\":10,\"solidity\":0.2},\"type\":\"scatter\"}],\"parcoords\":[{\"type\":\"parcoords\",\"line\":{\"colorbar\":{\"outlinewidth\":0,\"ticks\":\"\"}}}],\"scatterpolargl\":[{\"type\":\"scatterpolargl\",\"marker\":{\"colorbar\":{\"outlinewidth\":0,\"ticks\":\"\"}}}],\"bar\":[{\"error_x\":{\"color\":\"#2a3f5f\"},\"error_y\":{\"color\":\"#2a3f5f\"},\"marker\":{\"line\":{\"color\":\"#E5ECF6\",\"width\":0.5},\"pattern\":{\"fillmode\":\"overlay\",\"size\":10,\"solidity\":0.2}},\"type\":\"bar\"}],\"scattergeo\":[{\"type\":\"scattergeo\",\"marker\":{\"colorbar\":{\"outlinewidth\":0,\"ticks\":\"\"}}}],\"scatterpolar\":[{\"type\":\"scatterpolar\",\"marker\":{\"colorbar\":{\"outlinewidth\":0,\"ticks\":\"\"}}}],\"histogram\":[{\"marker\":{\"pattern\":{\"fillmode\":\"overlay\",\"size\":10,\"solidity\":0.2}},\"type\":\"histogram\"}],\"scattergl\":[{\"type\":\"scattergl\",\"marker\":{\"colorbar\":{\"outlinewidth\":0,\"ticks\":\"\"}}}],\"scatter3d\":[{\"type\":\"scatter3d\",\"line\":{\"colorbar\":{\"outlinewidth\":0,\"ticks\":\"\"}},\"marker\":{\"colorbar\":{\"outlinewidth\":0,\"ticks\":\"\"}}}],\"scattermapbox\":[{\"type\":\"scattermapbox\",\"marker\":{\"colorbar\":{\"outlinewidth\":0,\"ticks\":\"\"}}}],\"scatterternary\":[{\"type\":\"scatterternary\",\"marker\":{\"colorbar\":{\"outlinewidth\":0,\"ticks\":\"\"}}}],\"scattercarpet\":[{\"type\":\"scattercarpet\",\"marker\":{\"colorbar\":{\"outlinewidth\":0,\"ticks\":\"\"}}}],\"carpet\":[{\"aaxis\":{\"endlinecolor\":\"#2a3f5f\",\"gridcolor\":\"white\",\"linecolor\":\"white\",\"minorgridcolor\":\"white\",\"startlinecolor\":\"#2a3f5f\"},\"baxis\":{\"endlinecolor\":\"#2a3f5f\",\"gridcolor\":\"white\",\"linecolor\":\"white\",\"minorgridcolor\":\"white\",\"startlinecolor\":\"#2a3f5f\"},\"type\":\"carpet\"}],\"table\":[{\"cells\":{\"fill\":{\"color\":\"#EBF0F8\"},\"line\":{\"color\":\"white\"}},\"header\":{\"fill\":{\"color\":\"#C8D4E3\"},\"line\":{\"color\":\"white\"}},\"type\":\"table\"}],\"barpolar\":[{\"marker\":{\"line\":{\"color\":\"#E5ECF6\",\"width\":0.5},\"pattern\":{\"fillmode\":\"overlay\",\"size\":10,\"solidity\":0.2}},\"type\":\"barpolar\"}],\"pie\":[{\"automargin\":true,\"type\":\"pie\"}]},\"layout\":{\"autotypenumbers\":\"strict\",\"colorway\":[\"#636efa\",\"#EF553B\",\"#00cc96\",\"#ab63fa\",\"#FFA15A\",\"#19d3f3\",\"#FF6692\",\"#B6E880\",\"#FF97FF\",\"#FECB52\"],\"font\":{\"color\":\"#2a3f5f\"},\"hovermode\":\"closest\",\"hoverlabel\":{\"align\":\"left\"},\"paper_bgcolor\":\"white\",\"plot_bgcolor\":\"#E5ECF6\",\"polar\":{\"bgcolor\":\"#E5ECF6\",\"angularaxis\":{\"gridcolor\":\"white\",\"linecolor\":\"white\",\"ticks\":\"\"},\"radialaxis\":{\"gridcolor\":\"white\",\"linecolor\":\"white\",\"ticks\":\"\"}},\"ternary\":{\"bgcolor\":\"#E5ECF6\",\"aaxis\":{\"gridcolor\":\"white\",\"linecolor\":\"white\",\"ticks\":\"\"},\"baxis\":{\"gridcolor\":\"white\",\"linecolor\":\"white\",\"ticks\":\"\"},\"caxis\":{\"gridcolor\":\"white\",\"linecolor\":\"white\",\"ticks\":\"\"}},\"coloraxis\":{\"colorbar\":{\"outlinewidth\":0,\"ticks\":\"\"}},\"colorscale\":{\"sequential\":[[0.0,\"#0d0887\"],[0.1111111111111111,\"#46039f\"],[0.2222222222222222,\"#7201a8\"],[0.3333333333333333,\"#9c179e\"],[0.4444444444444444,\"#bd3786\"],[0.5555555555555556,\"#d8576b\"],[0.6666666666666666,\"#ed7953\"],[0.7777777777777778,\"#fb9f3a\"],[0.8888888888888888,\"#fdca26\"],[1.0,\"#f0f921\"]],\"sequentialminus\":[[0.0,\"#0d0887\"],[0.1111111111111111,\"#46039f\"],[0.2222222222222222,\"#7201a8\"],[0.3333333333333333,\"#9c179e\"],[0.4444444444444444,\"#bd3786\"],[0.5555555555555556,\"#d8576b\"],[0.6666666666666666,\"#ed7953\"],[0.7777777777777778,\"#fb9f3a\"],[0.8888888888888888,\"#fdca26\"],[1.0,\"#f0f921\"]],\"diverging\":[[0,\"#8e0152\"],[0.1,\"#c51b7d\"],[0.2,\"#de77ae\"],[0.3,\"#f1b6da\"],[0.4,\"#fde0ef\"],[0.5,\"#f7f7f7\"],[0.6,\"#e6f5d0\"],[0.7,\"#b8e186\"],[0.8,\"#7fbc41\"],[0.9,\"#4d9221\"],[1,\"#276419\"]]},\"xaxis\":{\"gridcolor\":\"white\",\"linecolor\":\"white\",\"ticks\":\"\",\"title\":{\"standoff\":15},\"zerolinecolor\":\"white\",\"automargin\":true,\"zerolinewidth\":2},\"yaxis\":{\"gridcolor\":\"white\",\"linecolor\":\"white\",\"ticks\":\"\",\"title\":{\"standoff\":15},\"zerolinecolor\":\"white\",\"automargin\":true,\"zerolinewidth\":2},\"scene\":{\"xaxis\":{\"backgroundcolor\":\"#E5ECF6\",\"gridcolor\":\"white\",\"linecolor\":\"white\",\"showbackground\":true,\"ticks\":\"\",\"zerolinecolor\":\"white\",\"gridwidth\":2},\"yaxis\":{\"backgroundcolor\":\"#E5ECF6\",\"gridcolor\":\"white\",\"linecolor\":\"white\",\"showbackground\":true,\"ticks\":\"\",\"zerolinecolor\":\"white\",\"gridwidth\":2},\"zaxis\":{\"backgroundcolor\":\"#E5ECF6\",\"gridcolor\":\"white\",\"linecolor\":\"white\",\"showbackground\":true,\"ticks\":\"\",\"zerolinecolor\":\"white\",\"gridwidth\":2}},\"shapedefaults\":{\"line\":{\"color\":\"#2a3f5f\"}},\"annotationdefaults\":{\"arrowcolor\":\"#2a3f5f\",\"arrowhead\":0,\"arrowwidth\":1},\"geo\":{\"bgcolor\":\"white\",\"landcolor\":\"#E5ECF6\",\"subunitcolor\":\"white\",\"showland\":true,\"showlakes\":true,\"lakecolor\":\"white\"},\"title\":{\"x\":0.05},\"mapbox\":{\"style\":\"light\"}}},\"title\":{\"text\":\"Test Accuracy based on number of features\"},\"xaxis\":{\"title\":{\"text\":\"Max Features\"}},\"yaxis\":{\"title\":{\"text\":\"Acuuracy( in %)\"}}},                        {\"responsive\": true}                    ).then(function(){\n",
       "                            \n",
       "var gd = document.getElementById('94994041-b8cc-43ff-a886-a25a9189230f');\n",
       "var x = new MutationObserver(function (mutations, observer) {{\n",
       "        var display = window.getComputedStyle(gd).display;\n",
       "        if (!display || display === 'none') {{\n",
       "            console.log([gd, 'removed!']);\n",
       "            Plotly.purge(gd);\n",
       "            observer.disconnect();\n",
       "        }}\n",
       "}});\n",
       "\n",
       "// Listen for the removal of the full notebook cells\n",
       "var notebookContainer = gd.closest('#notebook-container');\n",
       "if (notebookContainer) {{\n",
       "    x.observe(notebookContainer, {childList: true});\n",
       "}}\n",
       "\n",
       "// Listen for the clearing of the current output cell\n",
       "var outputEl = gd.closest('.output');\n",
       "if (outputEl) {{\n",
       "    x.observe(outputEl, {childList: true});\n",
       "}}\n",
       "\n",
       "                        })                };                });            </script>        </div>"
      ]
     },
     "metadata": {},
     "output_type": "display_data"
    }
   ],
   "source": [
    "fig = go.Figure(data=go.Scatter(x = list(range(1,5000,10)),y=accuracy_list, mode='lines'))\n",
    "\n",
    "fig.update_layout(\n",
    "    title=\"Test Accuracy based on number of features\",\n",
    "    xaxis_title=\"Max Features\",\n",
    "    yaxis_title=\"Acuuracy( in %)\"\n",
    ")\n",
    "\n",
    "fig.show()"
   ]
  },
  {
   "cell_type": "markdown",
   "metadata": {},
   "source": [
    "From above graph we can see that using Bag of Words we got max accuracy of **79%** at 1550 features "
   ]
  },
  {
   "cell_type": "markdown",
   "metadata": {},
   "source": [
    "##### Using the same Bag of Words and pairing it with Random Forest Modelling"
   ]
  },
  {
   "cell_type": "code",
   "execution_count": 21,
   "metadata": {
    "tags": []
   },
   "outputs": [],
   "source": [
    "accuracy_list = []\n",
    "for max_features in range(1,2000,50):\n",
    "    cv = CountVectorizer(max_features=max_features)\n",
    "    X_train_bow = cv.fit_transform(X_train).toarray()\n",
    "    X_test_bow = cv.transform(X_test).toarray()\n",
    "\n",
    "    # This shows us that using Bag of words we got 5069 features\n",
    "    # print(\"features : \",X_train_bow.shape[1])\n",
    "    # Training the model\n",
    "\n",
    "    rf = RandomForestClassifier()\n",
    "    rf.fit(X_train_bow,y_train)\n",
    "\n",
    "    y_pred = rf.predict(X_test_bow)\n",
    "    accuracy = round(accuracy_score (y_test, y_pred)*100,4)\n",
    "    accuracy_list.append(accuracy)\n",
    "    # print(f\"Acuracy using Bow and Random Forest techqiue is : {accuracy}%\")\n"
   ]
  },
  {
   "cell_type": "code",
   "execution_count": 22,
   "metadata": {},
   "outputs": [
    {
     "data": {
      "application/vnd.plotly.v1+json": {
       "config": {
        "plotlyServerURL": "https://plot.ly"
       },
       "data": [
        {
         "mode": "lines",
         "type": "scatter",
         "x": [
          1,
          51,
          101,
          151,
          201,
          251,
          301,
          351,
          401,
          451,
          501,
          551,
          601,
          651,
          701,
          751,
          801,
          851,
          901,
          951,
          1001,
          1051,
          1101,
          1151,
          1201,
          1251,
          1301,
          1351,
          1401,
          1451,
          1501,
          1551,
          1601,
          1651,
          1701,
          1751,
          1801,
          1851,
          1901,
          1951
         ],
         "y": [
          61.5504,
          74.8837,
          77.8295,
          79.0698,
          80.155,
          80.3101,
          80.6202,
          80.9302,
          82.4806,
          82.7907,
          81.7054,
          81.2403,
          81.2403,
          81.2403,
          81.7054,
          80.9302,
          82.4806,
          82.0155,
          82.6357,
          82.3256,
          82.7907,
          81.7054,
          81.7054,
          82.0155,
          83.4109,
          83.1008,
          81.8605,
          82.1705,
          81.3953,
          81.2403,
          81.3953,
          81.0853,
          81.2403,
          82.6357,
          81.3953,
          82.1705,
          81.8605,
          83.1008,
          82.9457,
          82.4806
         ]
        }
       ],
       "layout": {
        "template": {
         "data": {
          "bar": [
           {
            "error_x": {
             "color": "#2a3f5f"
            },
            "error_y": {
             "color": "#2a3f5f"
            },
            "marker": {
             "line": {
              "color": "#E5ECF6",
              "width": 0.5
             },
             "pattern": {
              "fillmode": "overlay",
              "size": 10,
              "solidity": 0.2
             }
            },
            "type": "bar"
           }
          ],
          "barpolar": [
           {
            "marker": {
             "line": {
              "color": "#E5ECF6",
              "width": 0.5
             },
             "pattern": {
              "fillmode": "overlay",
              "size": 10,
              "solidity": 0.2
             }
            },
            "type": "barpolar"
           }
          ],
          "carpet": [
           {
            "aaxis": {
             "endlinecolor": "#2a3f5f",
             "gridcolor": "white",
             "linecolor": "white",
             "minorgridcolor": "white",
             "startlinecolor": "#2a3f5f"
            },
            "baxis": {
             "endlinecolor": "#2a3f5f",
             "gridcolor": "white",
             "linecolor": "white",
             "minorgridcolor": "white",
             "startlinecolor": "#2a3f5f"
            },
            "type": "carpet"
           }
          ],
          "choropleth": [
           {
            "colorbar": {
             "outlinewidth": 0,
             "ticks": ""
            },
            "type": "choropleth"
           }
          ],
          "contour": [
           {
            "colorbar": {
             "outlinewidth": 0,
             "ticks": ""
            },
            "colorscale": [
             [
              0,
              "#0d0887"
             ],
             [
              0.1111111111111111,
              "#46039f"
             ],
             [
              0.2222222222222222,
              "#7201a8"
             ],
             [
              0.3333333333333333,
              "#9c179e"
             ],
             [
              0.4444444444444444,
              "#bd3786"
             ],
             [
              0.5555555555555556,
              "#d8576b"
             ],
             [
              0.6666666666666666,
              "#ed7953"
             ],
             [
              0.7777777777777778,
              "#fb9f3a"
             ],
             [
              0.8888888888888888,
              "#fdca26"
             ],
             [
              1,
              "#f0f921"
             ]
            ],
            "type": "contour"
           }
          ],
          "contourcarpet": [
           {
            "colorbar": {
             "outlinewidth": 0,
             "ticks": ""
            },
            "type": "contourcarpet"
           }
          ],
          "heatmap": [
           {
            "colorbar": {
             "outlinewidth": 0,
             "ticks": ""
            },
            "colorscale": [
             [
              0,
              "#0d0887"
             ],
             [
              0.1111111111111111,
              "#46039f"
             ],
             [
              0.2222222222222222,
              "#7201a8"
             ],
             [
              0.3333333333333333,
              "#9c179e"
             ],
             [
              0.4444444444444444,
              "#bd3786"
             ],
             [
              0.5555555555555556,
              "#d8576b"
             ],
             [
              0.6666666666666666,
              "#ed7953"
             ],
             [
              0.7777777777777778,
              "#fb9f3a"
             ],
             [
              0.8888888888888888,
              "#fdca26"
             ],
             [
              1,
              "#f0f921"
             ]
            ],
            "type": "heatmap"
           }
          ],
          "heatmapgl": [
           {
            "colorbar": {
             "outlinewidth": 0,
             "ticks": ""
            },
            "colorscale": [
             [
              0,
              "#0d0887"
             ],
             [
              0.1111111111111111,
              "#46039f"
             ],
             [
              0.2222222222222222,
              "#7201a8"
             ],
             [
              0.3333333333333333,
              "#9c179e"
             ],
             [
              0.4444444444444444,
              "#bd3786"
             ],
             [
              0.5555555555555556,
              "#d8576b"
             ],
             [
              0.6666666666666666,
              "#ed7953"
             ],
             [
              0.7777777777777778,
              "#fb9f3a"
             ],
             [
              0.8888888888888888,
              "#fdca26"
             ],
             [
              1,
              "#f0f921"
             ]
            ],
            "type": "heatmapgl"
           }
          ],
          "histogram": [
           {
            "marker": {
             "pattern": {
              "fillmode": "overlay",
              "size": 10,
              "solidity": 0.2
             }
            },
            "type": "histogram"
           }
          ],
          "histogram2d": [
           {
            "colorbar": {
             "outlinewidth": 0,
             "ticks": ""
            },
            "colorscale": [
             [
              0,
              "#0d0887"
             ],
             [
              0.1111111111111111,
              "#46039f"
             ],
             [
              0.2222222222222222,
              "#7201a8"
             ],
             [
              0.3333333333333333,
              "#9c179e"
             ],
             [
              0.4444444444444444,
              "#bd3786"
             ],
             [
              0.5555555555555556,
              "#d8576b"
             ],
             [
              0.6666666666666666,
              "#ed7953"
             ],
             [
              0.7777777777777778,
              "#fb9f3a"
             ],
             [
              0.8888888888888888,
              "#fdca26"
             ],
             [
              1,
              "#f0f921"
             ]
            ],
            "type": "histogram2d"
           }
          ],
          "histogram2dcontour": [
           {
            "colorbar": {
             "outlinewidth": 0,
             "ticks": ""
            },
            "colorscale": [
             [
              0,
              "#0d0887"
             ],
             [
              0.1111111111111111,
              "#46039f"
             ],
             [
              0.2222222222222222,
              "#7201a8"
             ],
             [
              0.3333333333333333,
              "#9c179e"
             ],
             [
              0.4444444444444444,
              "#bd3786"
             ],
             [
              0.5555555555555556,
              "#d8576b"
             ],
             [
              0.6666666666666666,
              "#ed7953"
             ],
             [
              0.7777777777777778,
              "#fb9f3a"
             ],
             [
              0.8888888888888888,
              "#fdca26"
             ],
             [
              1,
              "#f0f921"
             ]
            ],
            "type": "histogram2dcontour"
           }
          ],
          "mesh3d": [
           {
            "colorbar": {
             "outlinewidth": 0,
             "ticks": ""
            },
            "type": "mesh3d"
           }
          ],
          "parcoords": [
           {
            "line": {
             "colorbar": {
              "outlinewidth": 0,
              "ticks": ""
             }
            },
            "type": "parcoords"
           }
          ],
          "pie": [
           {
            "automargin": true,
            "type": "pie"
           }
          ],
          "scatter": [
           {
            "fillpattern": {
             "fillmode": "overlay",
             "size": 10,
             "solidity": 0.2
            },
            "type": "scatter"
           }
          ],
          "scatter3d": [
           {
            "line": {
             "colorbar": {
              "outlinewidth": 0,
              "ticks": ""
             }
            },
            "marker": {
             "colorbar": {
              "outlinewidth": 0,
              "ticks": ""
             }
            },
            "type": "scatter3d"
           }
          ],
          "scattercarpet": [
           {
            "marker": {
             "colorbar": {
              "outlinewidth": 0,
              "ticks": ""
             }
            },
            "type": "scattercarpet"
           }
          ],
          "scattergeo": [
           {
            "marker": {
             "colorbar": {
              "outlinewidth": 0,
              "ticks": ""
             }
            },
            "type": "scattergeo"
           }
          ],
          "scattergl": [
           {
            "marker": {
             "colorbar": {
              "outlinewidth": 0,
              "ticks": ""
             }
            },
            "type": "scattergl"
           }
          ],
          "scattermapbox": [
           {
            "marker": {
             "colorbar": {
              "outlinewidth": 0,
              "ticks": ""
             }
            },
            "type": "scattermapbox"
           }
          ],
          "scatterpolar": [
           {
            "marker": {
             "colorbar": {
              "outlinewidth": 0,
              "ticks": ""
             }
            },
            "type": "scatterpolar"
           }
          ],
          "scatterpolargl": [
           {
            "marker": {
             "colorbar": {
              "outlinewidth": 0,
              "ticks": ""
             }
            },
            "type": "scatterpolargl"
           }
          ],
          "scatterternary": [
           {
            "marker": {
             "colorbar": {
              "outlinewidth": 0,
              "ticks": ""
             }
            },
            "type": "scatterternary"
           }
          ],
          "surface": [
           {
            "colorbar": {
             "outlinewidth": 0,
             "ticks": ""
            },
            "colorscale": [
             [
              0,
              "#0d0887"
             ],
             [
              0.1111111111111111,
              "#46039f"
             ],
             [
              0.2222222222222222,
              "#7201a8"
             ],
             [
              0.3333333333333333,
              "#9c179e"
             ],
             [
              0.4444444444444444,
              "#bd3786"
             ],
             [
              0.5555555555555556,
              "#d8576b"
             ],
             [
              0.6666666666666666,
              "#ed7953"
             ],
             [
              0.7777777777777778,
              "#fb9f3a"
             ],
             [
              0.8888888888888888,
              "#fdca26"
             ],
             [
              1,
              "#f0f921"
             ]
            ],
            "type": "surface"
           }
          ],
          "table": [
           {
            "cells": {
             "fill": {
              "color": "#EBF0F8"
             },
             "line": {
              "color": "white"
             }
            },
            "header": {
             "fill": {
              "color": "#C8D4E3"
             },
             "line": {
              "color": "white"
             }
            },
            "type": "table"
           }
          ]
         },
         "layout": {
          "annotationdefaults": {
           "arrowcolor": "#2a3f5f",
           "arrowhead": 0,
           "arrowwidth": 1
          },
          "autotypenumbers": "strict",
          "coloraxis": {
           "colorbar": {
            "outlinewidth": 0,
            "ticks": ""
           }
          },
          "colorscale": {
           "diverging": [
            [
             0,
             "#8e0152"
            ],
            [
             0.1,
             "#c51b7d"
            ],
            [
             0.2,
             "#de77ae"
            ],
            [
             0.3,
             "#f1b6da"
            ],
            [
             0.4,
             "#fde0ef"
            ],
            [
             0.5,
             "#f7f7f7"
            ],
            [
             0.6,
             "#e6f5d0"
            ],
            [
             0.7,
             "#b8e186"
            ],
            [
             0.8,
             "#7fbc41"
            ],
            [
             0.9,
             "#4d9221"
            ],
            [
             1,
             "#276419"
            ]
           ],
           "sequential": [
            [
             0,
             "#0d0887"
            ],
            [
             0.1111111111111111,
             "#46039f"
            ],
            [
             0.2222222222222222,
             "#7201a8"
            ],
            [
             0.3333333333333333,
             "#9c179e"
            ],
            [
             0.4444444444444444,
             "#bd3786"
            ],
            [
             0.5555555555555556,
             "#d8576b"
            ],
            [
             0.6666666666666666,
             "#ed7953"
            ],
            [
             0.7777777777777778,
             "#fb9f3a"
            ],
            [
             0.8888888888888888,
             "#fdca26"
            ],
            [
             1,
             "#f0f921"
            ]
           ],
           "sequentialminus": [
            [
             0,
             "#0d0887"
            ],
            [
             0.1111111111111111,
             "#46039f"
            ],
            [
             0.2222222222222222,
             "#7201a8"
            ],
            [
             0.3333333333333333,
             "#9c179e"
            ],
            [
             0.4444444444444444,
             "#bd3786"
            ],
            [
             0.5555555555555556,
             "#d8576b"
            ],
            [
             0.6666666666666666,
             "#ed7953"
            ],
            [
             0.7777777777777778,
             "#fb9f3a"
            ],
            [
             0.8888888888888888,
             "#fdca26"
            ],
            [
             1,
             "#f0f921"
            ]
           ]
          },
          "colorway": [
           "#636efa",
           "#EF553B",
           "#00cc96",
           "#ab63fa",
           "#FFA15A",
           "#19d3f3",
           "#FF6692",
           "#B6E880",
           "#FF97FF",
           "#FECB52"
          ],
          "font": {
           "color": "#2a3f5f"
          },
          "geo": {
           "bgcolor": "white",
           "lakecolor": "white",
           "landcolor": "#E5ECF6",
           "showlakes": true,
           "showland": true,
           "subunitcolor": "white"
          },
          "hoverlabel": {
           "align": "left"
          },
          "hovermode": "closest",
          "mapbox": {
           "style": "light"
          },
          "paper_bgcolor": "white",
          "plot_bgcolor": "#E5ECF6",
          "polar": {
           "angularaxis": {
            "gridcolor": "white",
            "linecolor": "white",
            "ticks": ""
           },
           "bgcolor": "#E5ECF6",
           "radialaxis": {
            "gridcolor": "white",
            "linecolor": "white",
            "ticks": ""
           }
          },
          "scene": {
           "xaxis": {
            "backgroundcolor": "#E5ECF6",
            "gridcolor": "white",
            "gridwidth": 2,
            "linecolor": "white",
            "showbackground": true,
            "ticks": "",
            "zerolinecolor": "white"
           },
           "yaxis": {
            "backgroundcolor": "#E5ECF6",
            "gridcolor": "white",
            "gridwidth": 2,
            "linecolor": "white",
            "showbackground": true,
            "ticks": "",
            "zerolinecolor": "white"
           },
           "zaxis": {
            "backgroundcolor": "#E5ECF6",
            "gridcolor": "white",
            "gridwidth": 2,
            "linecolor": "white",
            "showbackground": true,
            "ticks": "",
            "zerolinecolor": "white"
           }
          },
          "shapedefaults": {
           "line": {
            "color": "#2a3f5f"
           }
          },
          "ternary": {
           "aaxis": {
            "gridcolor": "white",
            "linecolor": "white",
            "ticks": ""
           },
           "baxis": {
            "gridcolor": "white",
            "linecolor": "white",
            "ticks": ""
           },
           "bgcolor": "#E5ECF6",
           "caxis": {
            "gridcolor": "white",
            "linecolor": "white",
            "ticks": ""
           }
          },
          "title": {
           "x": 0.05
          },
          "xaxis": {
           "automargin": true,
           "gridcolor": "white",
           "linecolor": "white",
           "ticks": "",
           "title": {
            "standoff": 15
           },
           "zerolinecolor": "white",
           "zerolinewidth": 2
          },
          "yaxis": {
           "automargin": true,
           "gridcolor": "white",
           "linecolor": "white",
           "ticks": "",
           "title": {
            "standoff": 15
           },
           "zerolinecolor": "white",
           "zerolinewidth": 2
          }
         }
        },
        "title": {
         "text": "Test Accuracy based on number of features"
        },
        "xaxis": {
         "title": {
          "text": "Max Features"
         }
        },
        "yaxis": {
         "title": {
          "text": "Acuuracy( in %)"
         }
        }
       }
      },
      "text/html": [
       "<div>                            <div id=\"8e2d2018-2176-458a-bb33-af106f4b63b2\" class=\"plotly-graph-div\" style=\"height:525px; width:100%;\"></div>            <script type=\"text/javascript\">                require([\"plotly\"], function(Plotly) {                    window.PLOTLYENV=window.PLOTLYENV || {};                                    if (document.getElementById(\"8e2d2018-2176-458a-bb33-af106f4b63b2\")) {                    Plotly.newPlot(                        \"8e2d2018-2176-458a-bb33-af106f4b63b2\",                        [{\"mode\":\"lines\",\"x\":[1,51,101,151,201,251,301,351,401,451,501,551,601,651,701,751,801,851,901,951,1001,1051,1101,1151,1201,1251,1301,1351,1401,1451,1501,1551,1601,1651,1701,1751,1801,1851,1901,1951],\"y\":[61.5504,74.8837,77.8295,79.0698,80.155,80.3101,80.6202,80.9302,82.4806,82.7907,81.7054,81.2403,81.2403,81.2403,81.7054,80.9302,82.4806,82.0155,82.6357,82.3256,82.7907,81.7054,81.7054,82.0155,83.4109,83.1008,81.8605,82.1705,81.3953,81.2403,81.3953,81.0853,81.2403,82.6357,81.3953,82.1705,81.8605,83.1008,82.9457,82.4806],\"type\":\"scatter\"}],                        {\"template\":{\"data\":{\"histogram2dcontour\":[{\"type\":\"histogram2dcontour\",\"colorbar\":{\"outlinewidth\":0,\"ticks\":\"\"},\"colorscale\":[[0.0,\"#0d0887\"],[0.1111111111111111,\"#46039f\"],[0.2222222222222222,\"#7201a8\"],[0.3333333333333333,\"#9c179e\"],[0.4444444444444444,\"#bd3786\"],[0.5555555555555556,\"#d8576b\"],[0.6666666666666666,\"#ed7953\"],[0.7777777777777778,\"#fb9f3a\"],[0.8888888888888888,\"#fdca26\"],[1.0,\"#f0f921\"]]}],\"choropleth\":[{\"type\":\"choropleth\",\"colorbar\":{\"outlinewidth\":0,\"ticks\":\"\"}}],\"histogram2d\":[{\"type\":\"histogram2d\",\"colorbar\":{\"outlinewidth\":0,\"ticks\":\"\"},\"colorscale\":[[0.0,\"#0d0887\"],[0.1111111111111111,\"#46039f\"],[0.2222222222222222,\"#7201a8\"],[0.3333333333333333,\"#9c179e\"],[0.4444444444444444,\"#bd3786\"],[0.5555555555555556,\"#d8576b\"],[0.6666666666666666,\"#ed7953\"],[0.7777777777777778,\"#fb9f3a\"],[0.8888888888888888,\"#fdca26\"],[1.0,\"#f0f921\"]]}],\"heatmap\":[{\"type\":\"heatmap\",\"colorbar\":{\"outlinewidth\":0,\"ticks\":\"\"},\"colorscale\":[[0.0,\"#0d0887\"],[0.1111111111111111,\"#46039f\"],[0.2222222222222222,\"#7201a8\"],[0.3333333333333333,\"#9c179e\"],[0.4444444444444444,\"#bd3786\"],[0.5555555555555556,\"#d8576b\"],[0.6666666666666666,\"#ed7953\"],[0.7777777777777778,\"#fb9f3a\"],[0.8888888888888888,\"#fdca26\"],[1.0,\"#f0f921\"]]}],\"heatmapgl\":[{\"type\":\"heatmapgl\",\"colorbar\":{\"outlinewidth\":0,\"ticks\":\"\"},\"colorscale\":[[0.0,\"#0d0887\"],[0.1111111111111111,\"#46039f\"],[0.2222222222222222,\"#7201a8\"],[0.3333333333333333,\"#9c179e\"],[0.4444444444444444,\"#bd3786\"],[0.5555555555555556,\"#d8576b\"],[0.6666666666666666,\"#ed7953\"],[0.7777777777777778,\"#fb9f3a\"],[0.8888888888888888,\"#fdca26\"],[1.0,\"#f0f921\"]]}],\"contourcarpet\":[{\"type\":\"contourcarpet\",\"colorbar\":{\"outlinewidth\":0,\"ticks\":\"\"}}],\"contour\":[{\"type\":\"contour\",\"colorbar\":{\"outlinewidth\":0,\"ticks\":\"\"},\"colorscale\":[[0.0,\"#0d0887\"],[0.1111111111111111,\"#46039f\"],[0.2222222222222222,\"#7201a8\"],[0.3333333333333333,\"#9c179e\"],[0.4444444444444444,\"#bd3786\"],[0.5555555555555556,\"#d8576b\"],[0.6666666666666666,\"#ed7953\"],[0.7777777777777778,\"#fb9f3a\"],[0.8888888888888888,\"#fdca26\"],[1.0,\"#f0f921\"]]}],\"surface\":[{\"type\":\"surface\",\"colorbar\":{\"outlinewidth\":0,\"ticks\":\"\"},\"colorscale\":[[0.0,\"#0d0887\"],[0.1111111111111111,\"#46039f\"],[0.2222222222222222,\"#7201a8\"],[0.3333333333333333,\"#9c179e\"],[0.4444444444444444,\"#bd3786\"],[0.5555555555555556,\"#d8576b\"],[0.6666666666666666,\"#ed7953\"],[0.7777777777777778,\"#fb9f3a\"],[0.8888888888888888,\"#fdca26\"],[1.0,\"#f0f921\"]]}],\"mesh3d\":[{\"type\":\"mesh3d\",\"colorbar\":{\"outlinewidth\":0,\"ticks\":\"\"}}],\"scatter\":[{\"fillpattern\":{\"fillmode\":\"overlay\",\"size\":10,\"solidity\":0.2},\"type\":\"scatter\"}],\"parcoords\":[{\"type\":\"parcoords\",\"line\":{\"colorbar\":{\"outlinewidth\":0,\"ticks\":\"\"}}}],\"scatterpolargl\":[{\"type\":\"scatterpolargl\",\"marker\":{\"colorbar\":{\"outlinewidth\":0,\"ticks\":\"\"}}}],\"bar\":[{\"error_x\":{\"color\":\"#2a3f5f\"},\"error_y\":{\"color\":\"#2a3f5f\"},\"marker\":{\"line\":{\"color\":\"#E5ECF6\",\"width\":0.5},\"pattern\":{\"fillmode\":\"overlay\",\"size\":10,\"solidity\":0.2}},\"type\":\"bar\"}],\"scattergeo\":[{\"type\":\"scattergeo\",\"marker\":{\"colorbar\":{\"outlinewidth\":0,\"ticks\":\"\"}}}],\"scatterpolar\":[{\"type\":\"scatterpolar\",\"marker\":{\"colorbar\":{\"outlinewidth\":0,\"ticks\":\"\"}}}],\"histogram\":[{\"marker\":{\"pattern\":{\"fillmode\":\"overlay\",\"size\":10,\"solidity\":0.2}},\"type\":\"histogram\"}],\"scattergl\":[{\"type\":\"scattergl\",\"marker\":{\"colorbar\":{\"outlinewidth\":0,\"ticks\":\"\"}}}],\"scatter3d\":[{\"type\":\"scatter3d\",\"line\":{\"colorbar\":{\"outlinewidth\":0,\"ticks\":\"\"}},\"marker\":{\"colorbar\":{\"outlinewidth\":0,\"ticks\":\"\"}}}],\"scattermapbox\":[{\"type\":\"scattermapbox\",\"marker\":{\"colorbar\":{\"outlinewidth\":0,\"ticks\":\"\"}}}],\"scatterternary\":[{\"type\":\"scatterternary\",\"marker\":{\"colorbar\":{\"outlinewidth\":0,\"ticks\":\"\"}}}],\"scattercarpet\":[{\"type\":\"scattercarpet\",\"marker\":{\"colorbar\":{\"outlinewidth\":0,\"ticks\":\"\"}}}],\"carpet\":[{\"aaxis\":{\"endlinecolor\":\"#2a3f5f\",\"gridcolor\":\"white\",\"linecolor\":\"white\",\"minorgridcolor\":\"white\",\"startlinecolor\":\"#2a3f5f\"},\"baxis\":{\"endlinecolor\":\"#2a3f5f\",\"gridcolor\":\"white\",\"linecolor\":\"white\",\"minorgridcolor\":\"white\",\"startlinecolor\":\"#2a3f5f\"},\"type\":\"carpet\"}],\"table\":[{\"cells\":{\"fill\":{\"color\":\"#EBF0F8\"},\"line\":{\"color\":\"white\"}},\"header\":{\"fill\":{\"color\":\"#C8D4E3\"},\"line\":{\"color\":\"white\"}},\"type\":\"table\"}],\"barpolar\":[{\"marker\":{\"line\":{\"color\":\"#E5ECF6\",\"width\":0.5},\"pattern\":{\"fillmode\":\"overlay\",\"size\":10,\"solidity\":0.2}},\"type\":\"barpolar\"}],\"pie\":[{\"automargin\":true,\"type\":\"pie\"}]},\"layout\":{\"autotypenumbers\":\"strict\",\"colorway\":[\"#636efa\",\"#EF553B\",\"#00cc96\",\"#ab63fa\",\"#FFA15A\",\"#19d3f3\",\"#FF6692\",\"#B6E880\",\"#FF97FF\",\"#FECB52\"],\"font\":{\"color\":\"#2a3f5f\"},\"hovermode\":\"closest\",\"hoverlabel\":{\"align\":\"left\"},\"paper_bgcolor\":\"white\",\"plot_bgcolor\":\"#E5ECF6\",\"polar\":{\"bgcolor\":\"#E5ECF6\",\"angularaxis\":{\"gridcolor\":\"white\",\"linecolor\":\"white\",\"ticks\":\"\"},\"radialaxis\":{\"gridcolor\":\"white\",\"linecolor\":\"white\",\"ticks\":\"\"}},\"ternary\":{\"bgcolor\":\"#E5ECF6\",\"aaxis\":{\"gridcolor\":\"white\",\"linecolor\":\"white\",\"ticks\":\"\"},\"baxis\":{\"gridcolor\":\"white\",\"linecolor\":\"white\",\"ticks\":\"\"},\"caxis\":{\"gridcolor\":\"white\",\"linecolor\":\"white\",\"ticks\":\"\"}},\"coloraxis\":{\"colorbar\":{\"outlinewidth\":0,\"ticks\":\"\"}},\"colorscale\":{\"sequential\":[[0.0,\"#0d0887\"],[0.1111111111111111,\"#46039f\"],[0.2222222222222222,\"#7201a8\"],[0.3333333333333333,\"#9c179e\"],[0.4444444444444444,\"#bd3786\"],[0.5555555555555556,\"#d8576b\"],[0.6666666666666666,\"#ed7953\"],[0.7777777777777778,\"#fb9f3a\"],[0.8888888888888888,\"#fdca26\"],[1.0,\"#f0f921\"]],\"sequentialminus\":[[0.0,\"#0d0887\"],[0.1111111111111111,\"#46039f\"],[0.2222222222222222,\"#7201a8\"],[0.3333333333333333,\"#9c179e\"],[0.4444444444444444,\"#bd3786\"],[0.5555555555555556,\"#d8576b\"],[0.6666666666666666,\"#ed7953\"],[0.7777777777777778,\"#fb9f3a\"],[0.8888888888888888,\"#fdca26\"],[1.0,\"#f0f921\"]],\"diverging\":[[0,\"#8e0152\"],[0.1,\"#c51b7d\"],[0.2,\"#de77ae\"],[0.3,\"#f1b6da\"],[0.4,\"#fde0ef\"],[0.5,\"#f7f7f7\"],[0.6,\"#e6f5d0\"],[0.7,\"#b8e186\"],[0.8,\"#7fbc41\"],[0.9,\"#4d9221\"],[1,\"#276419\"]]},\"xaxis\":{\"gridcolor\":\"white\",\"linecolor\":\"white\",\"ticks\":\"\",\"title\":{\"standoff\":15},\"zerolinecolor\":\"white\",\"automargin\":true,\"zerolinewidth\":2},\"yaxis\":{\"gridcolor\":\"white\",\"linecolor\":\"white\",\"ticks\":\"\",\"title\":{\"standoff\":15},\"zerolinecolor\":\"white\",\"automargin\":true,\"zerolinewidth\":2},\"scene\":{\"xaxis\":{\"backgroundcolor\":\"#E5ECF6\",\"gridcolor\":\"white\",\"linecolor\":\"white\",\"showbackground\":true,\"ticks\":\"\",\"zerolinecolor\":\"white\",\"gridwidth\":2},\"yaxis\":{\"backgroundcolor\":\"#E5ECF6\",\"gridcolor\":\"white\",\"linecolor\":\"white\",\"showbackground\":true,\"ticks\":\"\",\"zerolinecolor\":\"white\",\"gridwidth\":2},\"zaxis\":{\"backgroundcolor\":\"#E5ECF6\",\"gridcolor\":\"white\",\"linecolor\":\"white\",\"showbackground\":true,\"ticks\":\"\",\"zerolinecolor\":\"white\",\"gridwidth\":2}},\"shapedefaults\":{\"line\":{\"color\":\"#2a3f5f\"}},\"annotationdefaults\":{\"arrowcolor\":\"#2a3f5f\",\"arrowhead\":0,\"arrowwidth\":1},\"geo\":{\"bgcolor\":\"white\",\"landcolor\":\"#E5ECF6\",\"subunitcolor\":\"white\",\"showland\":true,\"showlakes\":true,\"lakecolor\":\"white\"},\"title\":{\"x\":0.05},\"mapbox\":{\"style\":\"light\"}}},\"title\":{\"text\":\"Test Accuracy based on number of features\"},\"xaxis\":{\"title\":{\"text\":\"Max Features\"}},\"yaxis\":{\"title\":{\"text\":\"Acuuracy( in %)\"}}},                        {\"responsive\": true}                    ).then(function(){\n",
       "                            \n",
       "var gd = document.getElementById('8e2d2018-2176-458a-bb33-af106f4b63b2');\n",
       "var x = new MutationObserver(function (mutations, observer) {{\n",
       "        var display = window.getComputedStyle(gd).display;\n",
       "        if (!display || display === 'none') {{\n",
       "            console.log([gd, 'removed!']);\n",
       "            Plotly.purge(gd);\n",
       "            observer.disconnect();\n",
       "        }}\n",
       "}});\n",
       "\n",
       "// Listen for the removal of the full notebook cells\n",
       "var notebookContainer = gd.closest('#notebook-container');\n",
       "if (notebookContainer) {{\n",
       "    x.observe(notebookContainer, {childList: true});\n",
       "}}\n",
       "\n",
       "// Listen for the clearing of the current output cell\n",
       "var outputEl = gd.closest('.output');\n",
       "if (outputEl) {{\n",
       "    x.observe(outputEl, {childList: true});\n",
       "}}\n",
       "\n",
       "                        })                };                });            </script>        </div>"
      ]
     },
     "metadata": {},
     "output_type": "display_data"
    }
   ],
   "source": [
    "fig = go.Figure(data=go.Scatter(x = list(range(1,2000,50)),y=accuracy_list, mode='lines'))\n",
    "\n",
    "fig.update_layout(\n",
    "    title=\"Test Accuracy based on number of features\",\n",
    "    xaxis_title=\"Max Features\",\n",
    "    yaxis_title=\"Acuuracy( in %)\"\n",
    ")\n",
    "\n",
    "\n",
    "fig.show()"
   ]
  },
  {
   "cell_type": "markdown",
   "metadata": {},
   "source": [
    "We can clearly see that using Random forest we got a maximum accuracy of 84% and with only using 1000 features. and if we want a even faster model with but we are ok with lower accuracy then we can go with 350 features and we will get an accuracy of 82%\n",
    "\n",
    "\n",
    "| featrure size      | Accuracy (%)  |\n",
    "| :---        |    ---: |\n",
    "| 350      | 82   |\n",
    "| 1000         | 84      |"
   ]
  },
  {
   "cell_type": "markdown",
   "metadata": {},
   "source": [
    "##### Note\n",
    "> From above we have seen that BoW performed well on Random Forest, Based on the assumption that Random Forest is a better model than Naive Bayes, we will now use Tf-Idf Techique to check if Tf-Idf type of vectorization will improve the accuracy."
   ]
  },
  {
   "cell_type": "markdown",
   "metadata": {},
   "source": [
    "#### 2. Tf-Idf (Term frequency Inverse Document Frequency)"
   ]
  },
  {
   "cell_type": "code",
   "execution_count": 23,
   "metadata": {},
   "outputs": [],
   "source": [
    "accuracy_list = []\n",
    "for max_features in range(1,5000,50):\n",
    "    tfidf = TfidfVectorizer(max_features=max_features)\n",
    "    X_train_bow = tfidf.fit_transform(X_train).toarray()\n",
    "    X_test_bow = tfidf.transform(X_test).toarray()\n",
    "\n",
    "    # This shows us that using Bag of words we got 5069 features\n",
    "    # print(\"features : \",X_train_bow.shape[1])\n",
    "    # Training the model\n",
    "\n",
    "    rf = RandomForestClassifier()\n",
    "    rf.fit(X_train_bow,y_train)\n",
    "\n",
    "    y_pred = rf.predict(X_test_bow)\n",
    "    accuracy = round(accuracy_score (y_test, y_pred)*100,4)\n",
    "    accuracy_list.append(accuracy)\n",
    "    # print(f\"Acuracy using Tf-I\n",
    "    # df and Random Forest techqiue is : {accuracy}%\")"
   ]
  },
  {
   "cell_type": "code",
   "execution_count": 24,
   "metadata": {},
   "outputs": [
    {
     "data": {
      "application/vnd.plotly.v1+json": {
       "config": {
        "plotlyServerURL": "https://plot.ly"
       },
       "data": [
        {
         "mode": "lines",
         "type": "scatter",
         "x": [
          1,
          51,
          101,
          151,
          201,
          251,
          301,
          351,
          401,
          451,
          501,
          551,
          601,
          651,
          701,
          751,
          801,
          851,
          901,
          951,
          1001,
          1051,
          1101,
          1151,
          1201,
          1251,
          1301,
          1351,
          1401,
          1451,
          1501,
          1551,
          1601,
          1651,
          1701,
          1751,
          1801,
          1851,
          1901,
          1951,
          2001,
          2051,
          2101,
          2151,
          2201,
          2251,
          2301,
          2351,
          2401,
          2451,
          2501,
          2551,
          2601,
          2651,
          2701,
          2751,
          2801,
          2851,
          2901,
          2951,
          3001,
          3051,
          3101,
          3151,
          3201,
          3251,
          3301,
          3351,
          3401,
          3451,
          3501,
          3551,
          3601,
          3651,
          3701,
          3751,
          3801,
          3851,
          3901,
          3951,
          4001,
          4051,
          4101,
          4151,
          4201,
          4251,
          4301,
          4351,
          4401,
          4451,
          4501,
          4551,
          4601,
          4651,
          4701,
          4751,
          4801,
          4851,
          4901,
          4951
         ],
         "y": [
          61.5504,
          76.2791,
          78.1395,
          79.0698,
          78.7597,
          79.6899,
          80.3101,
          82.0155,
          81.7054,
          81.5504,
          81.5504,
          82.1705,
          81.8605,
          81.3953,
          82.3256,
          82.1705,
          80.4651,
          82.6357,
          81.2403,
          81.8605,
          82.0155,
          81.7054,
          80.7752,
          81.7054,
          81.5504,
          82.1705,
          82.0155,
          81.8605,
          80.9302,
          81.5504,
          80.9302,
          81.0853,
          82.1705,
          81.3953,
          81.7054,
          81.3953,
          80.9302,
          80.4651,
          81.0853,
          80.7752,
          81.7054,
          82.1705,
          81.8605,
          81.5504,
          81.0853,
          81.2403,
          80.7752,
          80.4651,
          81.3953,
          80.155,
          80.6202,
          80.7752,
          80.4651,
          80.7752,
          81.2403,
          81.2403,
          80.155,
          81.5504,
          81.2403,
          82.3256,
          81.5504,
          80.7752,
          81.2403,
          80.7752,
          80.3101,
          81.8605,
          80.9302,
          79.845,
          79.5349,
          81.2403,
          81.2403,
          80.6202,
          81.5504,
          81.8605,
          81.2403,
          80.6202,
          82.6357,
          82.1705,
          80.9302,
          80.6202,
          80.155,
          80.7752,
          81.3953,
          80.9302,
          80.7752,
          80.6202,
          79.2248,
          81.5504,
          79.845,
          80,
          80.6202,
          79.6899,
          80.4651,
          79.3798,
          80.9302,
          82.0155,
          81.2403,
          79.845,
          80.3101,
          80.4651
         ]
        }
       ],
       "layout": {
        "template": {
         "data": {
          "bar": [
           {
            "error_x": {
             "color": "#2a3f5f"
            },
            "error_y": {
             "color": "#2a3f5f"
            },
            "marker": {
             "line": {
              "color": "#E5ECF6",
              "width": 0.5
             },
             "pattern": {
              "fillmode": "overlay",
              "size": 10,
              "solidity": 0.2
             }
            },
            "type": "bar"
           }
          ],
          "barpolar": [
           {
            "marker": {
             "line": {
              "color": "#E5ECF6",
              "width": 0.5
             },
             "pattern": {
              "fillmode": "overlay",
              "size": 10,
              "solidity": 0.2
             }
            },
            "type": "barpolar"
           }
          ],
          "carpet": [
           {
            "aaxis": {
             "endlinecolor": "#2a3f5f",
             "gridcolor": "white",
             "linecolor": "white",
             "minorgridcolor": "white",
             "startlinecolor": "#2a3f5f"
            },
            "baxis": {
             "endlinecolor": "#2a3f5f",
             "gridcolor": "white",
             "linecolor": "white",
             "minorgridcolor": "white",
             "startlinecolor": "#2a3f5f"
            },
            "type": "carpet"
           }
          ],
          "choropleth": [
           {
            "colorbar": {
             "outlinewidth": 0,
             "ticks": ""
            },
            "type": "choropleth"
           }
          ],
          "contour": [
           {
            "colorbar": {
             "outlinewidth": 0,
             "ticks": ""
            },
            "colorscale": [
             [
              0,
              "#0d0887"
             ],
             [
              0.1111111111111111,
              "#46039f"
             ],
             [
              0.2222222222222222,
              "#7201a8"
             ],
             [
              0.3333333333333333,
              "#9c179e"
             ],
             [
              0.4444444444444444,
              "#bd3786"
             ],
             [
              0.5555555555555556,
              "#d8576b"
             ],
             [
              0.6666666666666666,
              "#ed7953"
             ],
             [
              0.7777777777777778,
              "#fb9f3a"
             ],
             [
              0.8888888888888888,
              "#fdca26"
             ],
             [
              1,
              "#f0f921"
             ]
            ],
            "type": "contour"
           }
          ],
          "contourcarpet": [
           {
            "colorbar": {
             "outlinewidth": 0,
             "ticks": ""
            },
            "type": "contourcarpet"
           }
          ],
          "heatmap": [
           {
            "colorbar": {
             "outlinewidth": 0,
             "ticks": ""
            },
            "colorscale": [
             [
              0,
              "#0d0887"
             ],
             [
              0.1111111111111111,
              "#46039f"
             ],
             [
              0.2222222222222222,
              "#7201a8"
             ],
             [
              0.3333333333333333,
              "#9c179e"
             ],
             [
              0.4444444444444444,
              "#bd3786"
             ],
             [
              0.5555555555555556,
              "#d8576b"
             ],
             [
              0.6666666666666666,
              "#ed7953"
             ],
             [
              0.7777777777777778,
              "#fb9f3a"
             ],
             [
              0.8888888888888888,
              "#fdca26"
             ],
             [
              1,
              "#f0f921"
             ]
            ],
            "type": "heatmap"
           }
          ],
          "heatmapgl": [
           {
            "colorbar": {
             "outlinewidth": 0,
             "ticks": ""
            },
            "colorscale": [
             [
              0,
              "#0d0887"
             ],
             [
              0.1111111111111111,
              "#46039f"
             ],
             [
              0.2222222222222222,
              "#7201a8"
             ],
             [
              0.3333333333333333,
              "#9c179e"
             ],
             [
              0.4444444444444444,
              "#bd3786"
             ],
             [
              0.5555555555555556,
              "#d8576b"
             ],
             [
              0.6666666666666666,
              "#ed7953"
             ],
             [
              0.7777777777777778,
              "#fb9f3a"
             ],
             [
              0.8888888888888888,
              "#fdca26"
             ],
             [
              1,
              "#f0f921"
             ]
            ],
            "type": "heatmapgl"
           }
          ],
          "histogram": [
           {
            "marker": {
             "pattern": {
              "fillmode": "overlay",
              "size": 10,
              "solidity": 0.2
             }
            },
            "type": "histogram"
           }
          ],
          "histogram2d": [
           {
            "colorbar": {
             "outlinewidth": 0,
             "ticks": ""
            },
            "colorscale": [
             [
              0,
              "#0d0887"
             ],
             [
              0.1111111111111111,
              "#46039f"
             ],
             [
              0.2222222222222222,
              "#7201a8"
             ],
             [
              0.3333333333333333,
              "#9c179e"
             ],
             [
              0.4444444444444444,
              "#bd3786"
             ],
             [
              0.5555555555555556,
              "#d8576b"
             ],
             [
              0.6666666666666666,
              "#ed7953"
             ],
             [
              0.7777777777777778,
              "#fb9f3a"
             ],
             [
              0.8888888888888888,
              "#fdca26"
             ],
             [
              1,
              "#f0f921"
             ]
            ],
            "type": "histogram2d"
           }
          ],
          "histogram2dcontour": [
           {
            "colorbar": {
             "outlinewidth": 0,
             "ticks": ""
            },
            "colorscale": [
             [
              0,
              "#0d0887"
             ],
             [
              0.1111111111111111,
              "#46039f"
             ],
             [
              0.2222222222222222,
              "#7201a8"
             ],
             [
              0.3333333333333333,
              "#9c179e"
             ],
             [
              0.4444444444444444,
              "#bd3786"
             ],
             [
              0.5555555555555556,
              "#d8576b"
             ],
             [
              0.6666666666666666,
              "#ed7953"
             ],
             [
              0.7777777777777778,
              "#fb9f3a"
             ],
             [
              0.8888888888888888,
              "#fdca26"
             ],
             [
              1,
              "#f0f921"
             ]
            ],
            "type": "histogram2dcontour"
           }
          ],
          "mesh3d": [
           {
            "colorbar": {
             "outlinewidth": 0,
             "ticks": ""
            },
            "type": "mesh3d"
           }
          ],
          "parcoords": [
           {
            "line": {
             "colorbar": {
              "outlinewidth": 0,
              "ticks": ""
             }
            },
            "type": "parcoords"
           }
          ],
          "pie": [
           {
            "automargin": true,
            "type": "pie"
           }
          ],
          "scatter": [
           {
            "fillpattern": {
             "fillmode": "overlay",
             "size": 10,
             "solidity": 0.2
            },
            "type": "scatter"
           }
          ],
          "scatter3d": [
           {
            "line": {
             "colorbar": {
              "outlinewidth": 0,
              "ticks": ""
             }
            },
            "marker": {
             "colorbar": {
              "outlinewidth": 0,
              "ticks": ""
             }
            },
            "type": "scatter3d"
           }
          ],
          "scattercarpet": [
           {
            "marker": {
             "colorbar": {
              "outlinewidth": 0,
              "ticks": ""
             }
            },
            "type": "scattercarpet"
           }
          ],
          "scattergeo": [
           {
            "marker": {
             "colorbar": {
              "outlinewidth": 0,
              "ticks": ""
             }
            },
            "type": "scattergeo"
           }
          ],
          "scattergl": [
           {
            "marker": {
             "colorbar": {
              "outlinewidth": 0,
              "ticks": ""
             }
            },
            "type": "scattergl"
           }
          ],
          "scattermapbox": [
           {
            "marker": {
             "colorbar": {
              "outlinewidth": 0,
              "ticks": ""
             }
            },
            "type": "scattermapbox"
           }
          ],
          "scatterpolar": [
           {
            "marker": {
             "colorbar": {
              "outlinewidth": 0,
              "ticks": ""
             }
            },
            "type": "scatterpolar"
           }
          ],
          "scatterpolargl": [
           {
            "marker": {
             "colorbar": {
              "outlinewidth": 0,
              "ticks": ""
             }
            },
            "type": "scatterpolargl"
           }
          ],
          "scatterternary": [
           {
            "marker": {
             "colorbar": {
              "outlinewidth": 0,
              "ticks": ""
             }
            },
            "type": "scatterternary"
           }
          ],
          "surface": [
           {
            "colorbar": {
             "outlinewidth": 0,
             "ticks": ""
            },
            "colorscale": [
             [
              0,
              "#0d0887"
             ],
             [
              0.1111111111111111,
              "#46039f"
             ],
             [
              0.2222222222222222,
              "#7201a8"
             ],
             [
              0.3333333333333333,
              "#9c179e"
             ],
             [
              0.4444444444444444,
              "#bd3786"
             ],
             [
              0.5555555555555556,
              "#d8576b"
             ],
             [
              0.6666666666666666,
              "#ed7953"
             ],
             [
              0.7777777777777778,
              "#fb9f3a"
             ],
             [
              0.8888888888888888,
              "#fdca26"
             ],
             [
              1,
              "#f0f921"
             ]
            ],
            "type": "surface"
           }
          ],
          "table": [
           {
            "cells": {
             "fill": {
              "color": "#EBF0F8"
             },
             "line": {
              "color": "white"
             }
            },
            "header": {
             "fill": {
              "color": "#C8D4E3"
             },
             "line": {
              "color": "white"
             }
            },
            "type": "table"
           }
          ]
         },
         "layout": {
          "annotationdefaults": {
           "arrowcolor": "#2a3f5f",
           "arrowhead": 0,
           "arrowwidth": 1
          },
          "autotypenumbers": "strict",
          "coloraxis": {
           "colorbar": {
            "outlinewidth": 0,
            "ticks": ""
           }
          },
          "colorscale": {
           "diverging": [
            [
             0,
             "#8e0152"
            ],
            [
             0.1,
             "#c51b7d"
            ],
            [
             0.2,
             "#de77ae"
            ],
            [
             0.3,
             "#f1b6da"
            ],
            [
             0.4,
             "#fde0ef"
            ],
            [
             0.5,
             "#f7f7f7"
            ],
            [
             0.6,
             "#e6f5d0"
            ],
            [
             0.7,
             "#b8e186"
            ],
            [
             0.8,
             "#7fbc41"
            ],
            [
             0.9,
             "#4d9221"
            ],
            [
             1,
             "#276419"
            ]
           ],
           "sequential": [
            [
             0,
             "#0d0887"
            ],
            [
             0.1111111111111111,
             "#46039f"
            ],
            [
             0.2222222222222222,
             "#7201a8"
            ],
            [
             0.3333333333333333,
             "#9c179e"
            ],
            [
             0.4444444444444444,
             "#bd3786"
            ],
            [
             0.5555555555555556,
             "#d8576b"
            ],
            [
             0.6666666666666666,
             "#ed7953"
            ],
            [
             0.7777777777777778,
             "#fb9f3a"
            ],
            [
             0.8888888888888888,
             "#fdca26"
            ],
            [
             1,
             "#f0f921"
            ]
           ],
           "sequentialminus": [
            [
             0,
             "#0d0887"
            ],
            [
             0.1111111111111111,
             "#46039f"
            ],
            [
             0.2222222222222222,
             "#7201a8"
            ],
            [
             0.3333333333333333,
             "#9c179e"
            ],
            [
             0.4444444444444444,
             "#bd3786"
            ],
            [
             0.5555555555555556,
             "#d8576b"
            ],
            [
             0.6666666666666666,
             "#ed7953"
            ],
            [
             0.7777777777777778,
             "#fb9f3a"
            ],
            [
             0.8888888888888888,
             "#fdca26"
            ],
            [
             1,
             "#f0f921"
            ]
           ]
          },
          "colorway": [
           "#636efa",
           "#EF553B",
           "#00cc96",
           "#ab63fa",
           "#FFA15A",
           "#19d3f3",
           "#FF6692",
           "#B6E880",
           "#FF97FF",
           "#FECB52"
          ],
          "font": {
           "color": "#2a3f5f"
          },
          "geo": {
           "bgcolor": "white",
           "lakecolor": "white",
           "landcolor": "#E5ECF6",
           "showlakes": true,
           "showland": true,
           "subunitcolor": "white"
          },
          "hoverlabel": {
           "align": "left"
          },
          "hovermode": "closest",
          "mapbox": {
           "style": "light"
          },
          "paper_bgcolor": "white",
          "plot_bgcolor": "#E5ECF6",
          "polar": {
           "angularaxis": {
            "gridcolor": "white",
            "linecolor": "white",
            "ticks": ""
           },
           "bgcolor": "#E5ECF6",
           "radialaxis": {
            "gridcolor": "white",
            "linecolor": "white",
            "ticks": ""
           }
          },
          "scene": {
           "xaxis": {
            "backgroundcolor": "#E5ECF6",
            "gridcolor": "white",
            "gridwidth": 2,
            "linecolor": "white",
            "showbackground": true,
            "ticks": "",
            "zerolinecolor": "white"
           },
           "yaxis": {
            "backgroundcolor": "#E5ECF6",
            "gridcolor": "white",
            "gridwidth": 2,
            "linecolor": "white",
            "showbackground": true,
            "ticks": "",
            "zerolinecolor": "white"
           },
           "zaxis": {
            "backgroundcolor": "#E5ECF6",
            "gridcolor": "white",
            "gridwidth": 2,
            "linecolor": "white",
            "showbackground": true,
            "ticks": "",
            "zerolinecolor": "white"
           }
          },
          "shapedefaults": {
           "line": {
            "color": "#2a3f5f"
           }
          },
          "ternary": {
           "aaxis": {
            "gridcolor": "white",
            "linecolor": "white",
            "ticks": ""
           },
           "baxis": {
            "gridcolor": "white",
            "linecolor": "white",
            "ticks": ""
           },
           "bgcolor": "#E5ECF6",
           "caxis": {
            "gridcolor": "white",
            "linecolor": "white",
            "ticks": ""
           }
          },
          "title": {
           "x": 0.05
          },
          "xaxis": {
           "automargin": true,
           "gridcolor": "white",
           "linecolor": "white",
           "ticks": "",
           "title": {
            "standoff": 15
           },
           "zerolinecolor": "white",
           "zerolinewidth": 2
          },
          "yaxis": {
           "automargin": true,
           "gridcolor": "white",
           "linecolor": "white",
           "ticks": "",
           "title": {
            "standoff": 15
           },
           "zerolinecolor": "white",
           "zerolinewidth": 2
          }
         }
        },
        "title": {
         "text": "Test Accuracy based on number of features"
        },
        "xaxis": {
         "title": {
          "text": "Max Features"
         }
        },
        "yaxis": {
         "title": {
          "text": "Acuuracy( in %)"
         }
        }
       }
      },
      "text/html": [
       "<div>                            <div id=\"8e87abc4-6420-4f49-9354-6e03d631027c\" class=\"plotly-graph-div\" style=\"height:525px; width:100%;\"></div>            <script type=\"text/javascript\">                require([\"plotly\"], function(Plotly) {                    window.PLOTLYENV=window.PLOTLYENV || {};                                    if (document.getElementById(\"8e87abc4-6420-4f49-9354-6e03d631027c\")) {                    Plotly.newPlot(                        \"8e87abc4-6420-4f49-9354-6e03d631027c\",                        [{\"mode\":\"lines\",\"x\":[1,51,101,151,201,251,301,351,401,451,501,551,601,651,701,751,801,851,901,951,1001,1051,1101,1151,1201,1251,1301,1351,1401,1451,1501,1551,1601,1651,1701,1751,1801,1851,1901,1951,2001,2051,2101,2151,2201,2251,2301,2351,2401,2451,2501,2551,2601,2651,2701,2751,2801,2851,2901,2951,3001,3051,3101,3151,3201,3251,3301,3351,3401,3451,3501,3551,3601,3651,3701,3751,3801,3851,3901,3951,4001,4051,4101,4151,4201,4251,4301,4351,4401,4451,4501,4551,4601,4651,4701,4751,4801,4851,4901,4951],\"y\":[61.5504,76.2791,78.1395,79.0698,78.7597,79.6899,80.3101,82.0155,81.7054,81.5504,81.5504,82.1705,81.8605,81.3953,82.3256,82.1705,80.4651,82.6357,81.2403,81.8605,82.0155,81.7054,80.7752,81.7054,81.5504,82.1705,82.0155,81.8605,80.9302,81.5504,80.9302,81.0853,82.1705,81.3953,81.7054,81.3953,80.9302,80.4651,81.0853,80.7752,81.7054,82.1705,81.8605,81.5504,81.0853,81.2403,80.7752,80.4651,81.3953,80.155,80.6202,80.7752,80.4651,80.7752,81.2403,81.2403,80.155,81.5504,81.2403,82.3256,81.5504,80.7752,81.2403,80.7752,80.3101,81.8605,80.9302,79.845,79.5349,81.2403,81.2403,80.6202,81.5504,81.8605,81.2403,80.6202,82.6357,82.1705,80.9302,80.6202,80.155,80.7752,81.3953,80.9302,80.7752,80.6202,79.2248,81.5504,79.845,80.0,80.6202,79.6899,80.4651,79.3798,80.9302,82.0155,81.2403,79.845,80.3101,80.4651],\"type\":\"scatter\"}],                        {\"template\":{\"data\":{\"histogram2dcontour\":[{\"type\":\"histogram2dcontour\",\"colorbar\":{\"outlinewidth\":0,\"ticks\":\"\"},\"colorscale\":[[0.0,\"#0d0887\"],[0.1111111111111111,\"#46039f\"],[0.2222222222222222,\"#7201a8\"],[0.3333333333333333,\"#9c179e\"],[0.4444444444444444,\"#bd3786\"],[0.5555555555555556,\"#d8576b\"],[0.6666666666666666,\"#ed7953\"],[0.7777777777777778,\"#fb9f3a\"],[0.8888888888888888,\"#fdca26\"],[1.0,\"#f0f921\"]]}],\"choropleth\":[{\"type\":\"choropleth\",\"colorbar\":{\"outlinewidth\":0,\"ticks\":\"\"}}],\"histogram2d\":[{\"type\":\"histogram2d\",\"colorbar\":{\"outlinewidth\":0,\"ticks\":\"\"},\"colorscale\":[[0.0,\"#0d0887\"],[0.1111111111111111,\"#46039f\"],[0.2222222222222222,\"#7201a8\"],[0.3333333333333333,\"#9c179e\"],[0.4444444444444444,\"#bd3786\"],[0.5555555555555556,\"#d8576b\"],[0.6666666666666666,\"#ed7953\"],[0.7777777777777778,\"#fb9f3a\"],[0.8888888888888888,\"#fdca26\"],[1.0,\"#f0f921\"]]}],\"heatmap\":[{\"type\":\"heatmap\",\"colorbar\":{\"outlinewidth\":0,\"ticks\":\"\"},\"colorscale\":[[0.0,\"#0d0887\"],[0.1111111111111111,\"#46039f\"],[0.2222222222222222,\"#7201a8\"],[0.3333333333333333,\"#9c179e\"],[0.4444444444444444,\"#bd3786\"],[0.5555555555555556,\"#d8576b\"],[0.6666666666666666,\"#ed7953\"],[0.7777777777777778,\"#fb9f3a\"],[0.8888888888888888,\"#fdca26\"],[1.0,\"#f0f921\"]]}],\"heatmapgl\":[{\"type\":\"heatmapgl\",\"colorbar\":{\"outlinewidth\":0,\"ticks\":\"\"},\"colorscale\":[[0.0,\"#0d0887\"],[0.1111111111111111,\"#46039f\"],[0.2222222222222222,\"#7201a8\"],[0.3333333333333333,\"#9c179e\"],[0.4444444444444444,\"#bd3786\"],[0.5555555555555556,\"#d8576b\"],[0.6666666666666666,\"#ed7953\"],[0.7777777777777778,\"#fb9f3a\"],[0.8888888888888888,\"#fdca26\"],[1.0,\"#f0f921\"]]}],\"contourcarpet\":[{\"type\":\"contourcarpet\",\"colorbar\":{\"outlinewidth\":0,\"ticks\":\"\"}}],\"contour\":[{\"type\":\"contour\",\"colorbar\":{\"outlinewidth\":0,\"ticks\":\"\"},\"colorscale\":[[0.0,\"#0d0887\"],[0.1111111111111111,\"#46039f\"],[0.2222222222222222,\"#7201a8\"],[0.3333333333333333,\"#9c179e\"],[0.4444444444444444,\"#bd3786\"],[0.5555555555555556,\"#d8576b\"],[0.6666666666666666,\"#ed7953\"],[0.7777777777777778,\"#fb9f3a\"],[0.8888888888888888,\"#fdca26\"],[1.0,\"#f0f921\"]]}],\"surface\":[{\"type\":\"surface\",\"colorbar\":{\"outlinewidth\":0,\"ticks\":\"\"},\"colorscale\":[[0.0,\"#0d0887\"],[0.1111111111111111,\"#46039f\"],[0.2222222222222222,\"#7201a8\"],[0.3333333333333333,\"#9c179e\"],[0.4444444444444444,\"#bd3786\"],[0.5555555555555556,\"#d8576b\"],[0.6666666666666666,\"#ed7953\"],[0.7777777777777778,\"#fb9f3a\"],[0.8888888888888888,\"#fdca26\"],[1.0,\"#f0f921\"]]}],\"mesh3d\":[{\"type\":\"mesh3d\",\"colorbar\":{\"outlinewidth\":0,\"ticks\":\"\"}}],\"scatter\":[{\"fillpattern\":{\"fillmode\":\"overlay\",\"size\":10,\"solidity\":0.2},\"type\":\"scatter\"}],\"parcoords\":[{\"type\":\"parcoords\",\"line\":{\"colorbar\":{\"outlinewidth\":0,\"ticks\":\"\"}}}],\"scatterpolargl\":[{\"type\":\"scatterpolargl\",\"marker\":{\"colorbar\":{\"outlinewidth\":0,\"ticks\":\"\"}}}],\"bar\":[{\"error_x\":{\"color\":\"#2a3f5f\"},\"error_y\":{\"color\":\"#2a3f5f\"},\"marker\":{\"line\":{\"color\":\"#E5ECF6\",\"width\":0.5},\"pattern\":{\"fillmode\":\"overlay\",\"size\":10,\"solidity\":0.2}},\"type\":\"bar\"}],\"scattergeo\":[{\"type\":\"scattergeo\",\"marker\":{\"colorbar\":{\"outlinewidth\":0,\"ticks\":\"\"}}}],\"scatterpolar\":[{\"type\":\"scatterpolar\",\"marker\":{\"colorbar\":{\"outlinewidth\":0,\"ticks\":\"\"}}}],\"histogram\":[{\"marker\":{\"pattern\":{\"fillmode\":\"overlay\",\"size\":10,\"solidity\":0.2}},\"type\":\"histogram\"}],\"scattergl\":[{\"type\":\"scattergl\",\"marker\":{\"colorbar\":{\"outlinewidth\":0,\"ticks\":\"\"}}}],\"scatter3d\":[{\"type\":\"scatter3d\",\"line\":{\"colorbar\":{\"outlinewidth\":0,\"ticks\":\"\"}},\"marker\":{\"colorbar\":{\"outlinewidth\":0,\"ticks\":\"\"}}}],\"scattermapbox\":[{\"type\":\"scattermapbox\",\"marker\":{\"colorbar\":{\"outlinewidth\":0,\"ticks\":\"\"}}}],\"scatterternary\":[{\"type\":\"scatterternary\",\"marker\":{\"colorbar\":{\"outlinewidth\":0,\"ticks\":\"\"}}}],\"scattercarpet\":[{\"type\":\"scattercarpet\",\"marker\":{\"colorbar\":{\"outlinewidth\":0,\"ticks\":\"\"}}}],\"carpet\":[{\"aaxis\":{\"endlinecolor\":\"#2a3f5f\",\"gridcolor\":\"white\",\"linecolor\":\"white\",\"minorgridcolor\":\"white\",\"startlinecolor\":\"#2a3f5f\"},\"baxis\":{\"endlinecolor\":\"#2a3f5f\",\"gridcolor\":\"white\",\"linecolor\":\"white\",\"minorgridcolor\":\"white\",\"startlinecolor\":\"#2a3f5f\"},\"type\":\"carpet\"}],\"table\":[{\"cells\":{\"fill\":{\"color\":\"#EBF0F8\"},\"line\":{\"color\":\"white\"}},\"header\":{\"fill\":{\"color\":\"#C8D4E3\"},\"line\":{\"color\":\"white\"}},\"type\":\"table\"}],\"barpolar\":[{\"marker\":{\"line\":{\"color\":\"#E5ECF6\",\"width\":0.5},\"pattern\":{\"fillmode\":\"overlay\",\"size\":10,\"solidity\":0.2}},\"type\":\"barpolar\"}],\"pie\":[{\"automargin\":true,\"type\":\"pie\"}]},\"layout\":{\"autotypenumbers\":\"strict\",\"colorway\":[\"#636efa\",\"#EF553B\",\"#00cc96\",\"#ab63fa\",\"#FFA15A\",\"#19d3f3\",\"#FF6692\",\"#B6E880\",\"#FF97FF\",\"#FECB52\"],\"font\":{\"color\":\"#2a3f5f\"},\"hovermode\":\"closest\",\"hoverlabel\":{\"align\":\"left\"},\"paper_bgcolor\":\"white\",\"plot_bgcolor\":\"#E5ECF6\",\"polar\":{\"bgcolor\":\"#E5ECF6\",\"angularaxis\":{\"gridcolor\":\"white\",\"linecolor\":\"white\",\"ticks\":\"\"},\"radialaxis\":{\"gridcolor\":\"white\",\"linecolor\":\"white\",\"ticks\":\"\"}},\"ternary\":{\"bgcolor\":\"#E5ECF6\",\"aaxis\":{\"gridcolor\":\"white\",\"linecolor\":\"white\",\"ticks\":\"\"},\"baxis\":{\"gridcolor\":\"white\",\"linecolor\":\"white\",\"ticks\":\"\"},\"caxis\":{\"gridcolor\":\"white\",\"linecolor\":\"white\",\"ticks\":\"\"}},\"coloraxis\":{\"colorbar\":{\"outlinewidth\":0,\"ticks\":\"\"}},\"colorscale\":{\"sequential\":[[0.0,\"#0d0887\"],[0.1111111111111111,\"#46039f\"],[0.2222222222222222,\"#7201a8\"],[0.3333333333333333,\"#9c179e\"],[0.4444444444444444,\"#bd3786\"],[0.5555555555555556,\"#d8576b\"],[0.6666666666666666,\"#ed7953\"],[0.7777777777777778,\"#fb9f3a\"],[0.8888888888888888,\"#fdca26\"],[1.0,\"#f0f921\"]],\"sequentialminus\":[[0.0,\"#0d0887\"],[0.1111111111111111,\"#46039f\"],[0.2222222222222222,\"#7201a8\"],[0.3333333333333333,\"#9c179e\"],[0.4444444444444444,\"#bd3786\"],[0.5555555555555556,\"#d8576b\"],[0.6666666666666666,\"#ed7953\"],[0.7777777777777778,\"#fb9f3a\"],[0.8888888888888888,\"#fdca26\"],[1.0,\"#f0f921\"]],\"diverging\":[[0,\"#8e0152\"],[0.1,\"#c51b7d\"],[0.2,\"#de77ae\"],[0.3,\"#f1b6da\"],[0.4,\"#fde0ef\"],[0.5,\"#f7f7f7\"],[0.6,\"#e6f5d0\"],[0.7,\"#b8e186\"],[0.8,\"#7fbc41\"],[0.9,\"#4d9221\"],[1,\"#276419\"]]},\"xaxis\":{\"gridcolor\":\"white\",\"linecolor\":\"white\",\"ticks\":\"\",\"title\":{\"standoff\":15},\"zerolinecolor\":\"white\",\"automargin\":true,\"zerolinewidth\":2},\"yaxis\":{\"gridcolor\":\"white\",\"linecolor\":\"white\",\"ticks\":\"\",\"title\":{\"standoff\":15},\"zerolinecolor\":\"white\",\"automargin\":true,\"zerolinewidth\":2},\"scene\":{\"xaxis\":{\"backgroundcolor\":\"#E5ECF6\",\"gridcolor\":\"white\",\"linecolor\":\"white\",\"showbackground\":true,\"ticks\":\"\",\"zerolinecolor\":\"white\",\"gridwidth\":2},\"yaxis\":{\"backgroundcolor\":\"#E5ECF6\",\"gridcolor\":\"white\",\"linecolor\":\"white\",\"showbackground\":true,\"ticks\":\"\",\"zerolinecolor\":\"white\",\"gridwidth\":2},\"zaxis\":{\"backgroundcolor\":\"#E5ECF6\",\"gridcolor\":\"white\",\"linecolor\":\"white\",\"showbackground\":true,\"ticks\":\"\",\"zerolinecolor\":\"white\",\"gridwidth\":2}},\"shapedefaults\":{\"line\":{\"color\":\"#2a3f5f\"}},\"annotationdefaults\":{\"arrowcolor\":\"#2a3f5f\",\"arrowhead\":0,\"arrowwidth\":1},\"geo\":{\"bgcolor\":\"white\",\"landcolor\":\"#E5ECF6\",\"subunitcolor\":\"white\",\"showland\":true,\"showlakes\":true,\"lakecolor\":\"white\"},\"title\":{\"x\":0.05},\"mapbox\":{\"style\":\"light\"}}},\"title\":{\"text\":\"Test Accuracy based on number of features\"},\"xaxis\":{\"title\":{\"text\":\"Max Features\"}},\"yaxis\":{\"title\":{\"text\":\"Acuuracy( in %)\"}}},                        {\"responsive\": true}                    ).then(function(){\n",
       "                            \n",
       "var gd = document.getElementById('8e87abc4-6420-4f49-9354-6e03d631027c');\n",
       "var x = new MutationObserver(function (mutations, observer) {{\n",
       "        var display = window.getComputedStyle(gd).display;\n",
       "        if (!display || display === 'none') {{\n",
       "            console.log([gd, 'removed!']);\n",
       "            Plotly.purge(gd);\n",
       "            observer.disconnect();\n",
       "        }}\n",
       "}});\n",
       "\n",
       "// Listen for the removal of the full notebook cells\n",
       "var notebookContainer = gd.closest('#notebook-container');\n",
       "if (notebookContainer) {{\n",
       "    x.observe(notebookContainer, {childList: true});\n",
       "}}\n",
       "\n",
       "// Listen for the clearing of the current output cell\n",
       "var outputEl = gd.closest('.output');\n",
       "if (outputEl) {{\n",
       "    x.observe(outputEl, {childList: true});\n",
       "}}\n",
       "\n",
       "                        })                };                });            </script>        </div>"
      ]
     },
     "metadata": {},
     "output_type": "display_data"
    }
   ],
   "source": [
    "fig = go.Figure(data=go.Scatter(x = list(range(1,5000,50)),y=accuracy_list, mode='lines'))\n",
    "\n",
    "fig.update_layout(\n",
    "    title=\"Test Accuracy based on number of features\",\n",
    "    xaxis_title=\"Max Features\",\n",
    "    yaxis_title=\"Acuuracy( in %)\"\n",
    ")\n",
    "\n",
    "\n",
    "fig.show()"
   ]
  },
  {
   "cell_type": "markdown",
   "metadata": {},
   "source": [
    "We can clearly see that using Random forest we got a maximum accuracy of 82.6% and with only using 1050 features. and if we want a even faster model with but we are ok with lower accuracy then we can go with 350 features and we will get an accuracy of 81.55%\n",
    "\n",
    "\n",
    "| featrure size      | Accuracy (%)  |\n",
    "| :---        |    ---: |\n",
    "| 350      | 81.55   |\n",
    "| 1050         | 82.6     |"
   ]
  },
  {
   "cell_type": "markdown",
   "metadata": {},
   "source": [
    "##### Note\n",
    "> Now based on the results of using different Vectorization Techniques like Bag of Words and Tf-IDF, and considering accuracies alone we can say that Bag of words has got more accurate results.\n",
    "\n",
    "> The Explaination which i think off is that a tweet is a very small sentence and there will be very small number of words remaining after we preprocess the tweet, so now almost all the words are important. Also tweets are based on current situations and they can be different situations in the tweets so even if we use Tfidf the the vectors which we get after transforming the sentence will almost look like the Bag Of Words. so that is why both the accuracies are almost the same. But if we have similar tweets all accross the year then only the TF-IDF will shine over BoW."
   ]
  },
  {
   "cell_type": "markdown",
   "metadata": {},
   "source": [
    "##### 3. Word2Vec\n",
    "\n",
    "Tried Word2Vec on local but it is taking too long to load a model so i am using colab for this task. and attack the colab link here !!\n",
    "colab link : https://colab.research.google.com/drive/1hagYRSPlWDFjyy7pwEFw0aUH65-XJqOx?usp=sharing\n",
    "\n",
    "I have tried to load a model on colab, but the session is crashing, therefore I am not able to perform the analysis for Word2Vec technique for text vectorization process"
   ]
  },
  {
   "cell_type": "code",
   "execution_count": 1,
   "metadata": {},
   "outputs": [],
   "source": [
    "import gensim.downloader\n",
    "import gensim"
   ]
  },
  {
   "cell_type": "code",
   "execution_count": null,
   "metadata": {},
   "outputs": [],
   "source": [
    "# model = gensim.models.KeyedVectors.load_word2vec_format(\"./resources/GoogleNews-vectors-negative300.bin.gz\",binary=True)"
   ]
  },
  {
   "cell_type": "markdown",
   "metadata": {},
   "source": [
    "##### Using the time as a feature\n",
    "\n",
    "But to make use time as a feature, we need to use cylindrical encoding. i have seen that there is a distribution with it follows to the tweets which turmp make and their staff make.\n"
   ]
  },
  {
   "cell_type": "code",
   "execution_count": 19,
   "metadata": {},
   "outputs": [],
   "source": [
    "data_2016_creation_hour = data_2016_clean.created_at.apply(convert_date_to_hour)"
   ]
  },
  {
   "cell_type": "code",
   "execution_count": 29,
   "metadata": {},
   "outputs": [],
   "source": [
    "data_2016_creation_hour_sin = data_2016_creation_hour.apply(lambda x : math.sin(2*math.pi*x/23))\n",
    "data_2016_creation_hour_cos = data_2016_creation_hour.apply(lambda x : math.cos(2*math.pi*x/23))"
   ]
  },
  {
   "cell_type": "code",
   "execution_count": 67,
   "metadata": {},
   "outputs": [
    {
     "name": "stderr",
     "output_type": "stream",
     "text": [
      "/tmp/ipykernel_157087/3105576023.py:2: SettingWithCopyWarning:\n",
      "\n",
      "\n",
      "A value is trying to be set on a copy of a slice from a DataFrame.\n",
      "Try using .loc[row_indexer,col_indexer] = value instead\n",
      "\n",
      "See the caveats in the documentation: https://pandas.pydata.org/pandas-docs/stable/user_guide/indexing.html#returning-a-view-versus-a-copy\n",
      "\n",
      "/tmp/ipykernel_157087/3105576023.py:3: SettingWithCopyWarning:\n",
      "\n",
      "\n",
      "A value is trying to be set on a copy of a slice from a DataFrame.\n",
      "Try using .loc[row_indexer,col_indexer] = value instead\n",
      "\n",
      "See the caveats in the documentation: https://pandas.pydata.org/pandas-docs/stable/user_guide/indexing.html#returning-a-view-versus-a-copy\n",
      "\n",
      "/tmp/ipykernel_157087/3105576023.py:4: SettingWithCopyWarning:\n",
      "\n",
      "\n",
      "A value is trying to be set on a copy of a slice from a DataFrame.\n",
      "Try using .loc[row_indexer,col_indexer] = value instead\n",
      "\n",
      "See the caveats in the documentation: https://pandas.pydata.org/pandas-docs/stable/user_guide/indexing.html#returning-a-view-versus-a-copy\n",
      "\n"
     ]
    }
   ],
   "source": [
    "X = data_2016_clean[[\"text\",\"created_at\"]]\n",
    "X.created_at = X.created_at.apply(convert_date_to_hour)\n",
    "X[\"sin\"] = X.created_at.apply((lambda x : math.sin(2*math.pi*x/23)))\n",
    "X[\"cos\"] = X.created_at.apply((lambda x : math.cos(2*math.pi*x/23)))\n",
    "X_train,X_test,y_train,y_test = train_test_split(X,y,test_size=0.2,random_state=100)"
   ]
  },
  {
   "cell_type": "markdown",
   "metadata": {},
   "source": [
    "##### Using Naive Bayes and training the model using the text and time information, and using BoW for vectorizing the text"
   ]
  },
  {
   "cell_type": "code",
   "execution_count": 109,
   "metadata": {},
   "outputs": [
    {
     "name": "stdout",
     "output_type": "stream",
     "text": [
      "Using Random Forest and using the text and time information for training the model we achieved an accuracy of :  77.9845\n"
     ]
    }
   ],
   "source": [
    "cv = CountVectorizer(max_features=1000)\n",
    "X_train_bow = cv.fit_transform(X_train.text).toarray()\n",
    "X_test_bow = cv.transform(X_test.text).toarray()\n",
    "\n",
    "X_train_final = np.concatenate([X_train_bow,X_train[[\"sin\",\"cos\"]]],axis=1)\n",
    "X_test_final = np.concatenate([X_test_bow,X_test[[\"sin\",\"cos\"]]],axis=1)\n",
    "\n",
    "# This shows us that using Bag of words we got 5069 features\n",
    "# print(\"features : \",X_train_bow.shape[1])\n",
    "# Training the model\n",
    "\n",
    "rf = GaussianNB()\n",
    "rf.fit(X_train_final,y_train)\n",
    "\n",
    "y_pred = rf.predict(X_test_final)\n",
    "accuracy = round(accuracy_score (y_test, y_pred)*100,4)\n",
    "print(\"Using Random Forest and using the text and time information for training the model we achieved an accuracy of : \",accuracy)"
   ]
  },
  {
   "cell_type": "markdown",
   "metadata": {},
   "source": [
    "##### Using Random Forest and training the model using the text and time information, and using BoW for text vectorization"
   ]
  },
  {
   "cell_type": "code",
   "execution_count": 111,
   "metadata": {},
   "outputs": [
    {
     "name": "stdout",
     "output_type": "stream",
     "text": [
      "Using Random Forest and using the text and time information for training the model we achieved an accuracy of :  82.4806\n"
     ]
    }
   ],
   "source": [
    "cv = CountVectorizer(max_features=1000)\n",
    "X_train_bow = cv.fit_transform(X_train.text).toarray()\n",
    "X_test_bow = cv.transform(X_test.text).toarray()\n",
    "\n",
    "X_train_final = np.concatenate([X_train_bow,X_train[[\"sin\",\"cos\"]]],axis=1)\n",
    "X_test_final = np.concatenate([X_test_bow,X_test[[\"sin\",\"cos\"]]],axis=1)\n",
    "\n",
    "# This shows us that using Bag of words we got 5069 features\n",
    "# print(\"features : \",X_train_bow.shape[1])\n",
    "# Training the model\n",
    "\n",
    "rf = RandomForestClassifier()\n",
    "rf.fit(X_train_final,y_train)\n",
    "\n",
    "y_pred = rf.predict(X_test_final)\n",
    "accuracy = round(accuracy_score (y_test, y_pred)*100,4)\n",
    "print(\"Using Random Forest and using the text and time information for training the model we achieved an accuracy of : \",accuracy)"
   ]
  },
  {
   "cell_type": "markdown",
   "metadata": {},
   "source": [
    "#### Final Conclusion on which model to go with\n",
    "\n",
    "I am going with Random Forest which was trained on the text as well as Time information and used BoW for text classification and using a max features of 1000."
   ]
  },
  {
   "cell_type": "markdown",
   "metadata": {},
   "source": [
    "### Step 3\n",
    "#### a. Use the classifier to determine\n",
    "##### i. Who writes the tweets that come from the other devices during 2016. How confident can we be in these results?"
   ]
  },
  {
   "cell_type": "code",
   "execution_count": 114,
   "metadata": {},
   "outputs": [],
   "source": [
    "data_2016_from_other_devices = data_2016[~data_2016.source.isin([\"Twitter for iPhone\",\"Twitter for Android\"])]"
   ]
  },
  {
   "cell_type": "code",
   "execution_count": 136,
   "metadata": {},
   "outputs": [
    {
     "name": "stderr",
     "output_type": "stream",
     "text": [
      "/tmp/ipykernel_157087/171048562.py:2: SettingWithCopyWarning:\n",
      "\n",
      "\n",
      "A value is trying to be set on a copy of a slice from a DataFrame.\n",
      "Try using .loc[row_indexer,col_indexer] = value instead\n",
      "\n",
      "See the caveats in the documentation: https://pandas.pydata.org/pandas-docs/stable/user_guide/indexing.html#returning-a-view-versus-a-copy\n",
      "\n",
      "/tmp/ipykernel_157087/171048562.py:3: SettingWithCopyWarning:\n",
      "\n",
      "\n",
      "A value is trying to be set on a copy of a slice from a DataFrame.\n",
      "Try using .loc[row_indexer,col_indexer] = value instead\n",
      "\n",
      "See the caveats in the documentation: https://pandas.pydata.org/pandas-docs/stable/user_guide/indexing.html#returning-a-view-versus-a-copy\n",
      "\n",
      "/tmp/ipykernel_157087/171048562.py:4: SettingWithCopyWarning:\n",
      "\n",
      "\n",
      "A value is trying to be set on a copy of a slice from a DataFrame.\n",
      "Try using .loc[row_indexer,col_indexer] = value instead\n",
      "\n",
      "See the caveats in the documentation: https://pandas.pydata.org/pandas-docs/stable/user_guide/indexing.html#returning-a-view-versus-a-copy\n",
      "\n",
      "/tmp/ipykernel_157087/171048562.py:5: SettingWithCopyWarning:\n",
      "\n",
      "\n",
      "A value is trying to be set on a copy of a slice from a DataFrame.\n",
      "Try using .loc[row_indexer,col_indexer] = value instead\n",
      "\n",
      "See the caveats in the documentation: https://pandas.pydata.org/pandas-docs/stable/user_guide/indexing.html#returning-a-view-versus-a-copy\n",
      "\n"
     ]
    }
   ],
   "source": [
    "X = data_2016_from_other_devices[['text','created_at']]\n",
    "X.text = X.text.apply(preprocess_tweet)\n",
    "X.created_at = X.created_at.apply(convert_date_to_hour)\n",
    "X[\"sin\"] = X.created_at.apply((lambda x : math.sin(2*math.pi*x/23)))\n",
    "X[\"cos\"] = X.created_at.apply((lambda x : math.cos(2*math.pi*x/23)))\n",
    "X_bow = cv.transform(X.text).toarray()\n",
    "X_final = np.concatenate([X_bow,X[[\"sin\",\"cos\"]]],axis=1)\n",
    "y_pred = rf.predict(X_final)\n"
   ]
  },
  {
   "cell_type": "code",
   "execution_count": 137,
   "metadata": {},
   "outputs": [
    {
     "name": "stdout",
     "output_type": "stream",
     "text": [
      "We have around  64  tweets which i think are made by Trump out of  424\n"
     ]
    }
   ],
   "source": [
    "print(\"We have around \",y_pred.sum(), \" tweets which i think are made by Trump out of \",y_pred.size)"
   ]
  },
  {
   "cell_type": "code",
   "execution_count": 138,
   "metadata": {},
   "outputs": [
    {
     "name": "stderr",
     "output_type": "stream",
     "text": [
      "/tmp/ipykernel_157087/118492171.py:1: SettingWithCopyWarning:\n",
      "\n",
      "\n",
      "A value is trying to be set on a copy of a slice from a DataFrame.\n",
      "Try using .loc[row_indexer,col_indexer] = value instead\n",
      "\n",
      "See the caveats in the documentation: https://pandas.pydata.org/pandas-docs/stable/user_guide/indexing.html#returning-a-view-versus-a-copy\n",
      "\n"
     ]
    }
   ],
   "source": [
    "X[\"predicted\"] = y_pred"
   ]
  },
  {
   "cell_type": "code",
   "execution_count": 139,
   "metadata": {},
   "outputs": [
    {
     "data": {
      "text/html": [
       "<div>\n",
       "<style scoped>\n",
       "    .dataframe tbody tr th:only-of-type {\n",
       "        vertical-align: middle;\n",
       "    }\n",
       "\n",
       "    .dataframe tbody tr th {\n",
       "        vertical-align: top;\n",
       "    }\n",
       "\n",
       "    .dataframe thead th {\n",
       "        text-align: right;\n",
       "    }\n",
       "</style>\n",
       "<table border=\"1\" class=\"dataframe\">\n",
       "  <thead>\n",
       "    <tr style=\"text-align: right;\">\n",
       "      <th></th>\n",
       "      <th>text</th>\n",
       "      <th>created_at</th>\n",
       "      <th>sin</th>\n",
       "      <th>cos</th>\n",
       "      <th>predicted</th>\n",
       "    </tr>\n",
       "  </thead>\n",
       "  <tbody>\n",
       "    <tr>\n",
       "      <th>32</th>\n",
       "      <td>look forward lowell massachusetts today. hear ...</td>\n",
       "      <td>17</td>\n",
       "      <td>-0.997669</td>\n",
       "      <td>-0.068242</td>\n",
       "      <td>1</td>\n",
       "    </tr>\n",
       "    <tr>\n",
       "      <th>33</th>\n",
       "      <td>woody johnson owner nyjets @jebbush’s finance ...</td>\n",
       "      <td>20</td>\n",
       "      <td>-0.730836</td>\n",
       "      <td>0.682553</td>\n",
       "      <td>1</td>\n",
       "    </tr>\n",
       "    <tr>\n",
       "      <th>35</th>\n",
       "      <td>wow @unionleader circulation nh dropped 75000 ...</td>\n",
       "      <td>16</td>\n",
       "      <td>-0.942261</td>\n",
       "      <td>-0.334880</td>\n",
       "      <td>0</td>\n",
       "    </tr>\n",
       "    <tr>\n",
       "      <th>36</th>\n",
       "      <td>don’t know @samuelljackson best knowledge play...</td>\n",
       "      <td>17</td>\n",
       "      <td>-0.997669</td>\n",
       "      <td>-0.068242</td>\n",
       "      <td>1</td>\n",
       "    </tr>\n",
       "    <tr>\n",
       "      <th>40</th>\n",
       "      <td>don’t cheat golf @samuelljackson cheats—with g...</td>\n",
       "      <td>19</td>\n",
       "      <td>-0.887885</td>\n",
       "      <td>0.460065</td>\n",
       "      <td>0</td>\n",
       "    </tr>\n",
       "    <tr>\n",
       "      <th>...</th>\n",
       "      <td>...</td>\n",
       "      <td>...</td>\n",
       "      <td>...</td>\n",
       "      <td>...</td>\n",
       "      <td>...</td>\n",
       "    </tr>\n",
       "    <tr>\n",
       "      <th>3541</th>\n",
       "      <td>press would cover accurately &amp;amp; honorably w...</td>\n",
       "      <td>16</td>\n",
       "      <td>-0.942261</td>\n",
       "      <td>-0.334880</td>\n",
       "      <td>0</td>\n",
       "    </tr>\n",
       "    <tr>\n",
       "      <th>3545</th>\n",
       "      <td>masa (softbank) japan agreed invest $50 billio...</td>\n",
       "      <td>19</td>\n",
       "      <td>-0.887885</td>\n",
       "      <td>0.460065</td>\n",
       "      <td>0</td>\n",
       "    </tr>\n",
       "    <tr>\n",
       "      <th>3546</th>\n",
       "      <td>masa said would never (trump) election!</td>\n",
       "      <td>19</td>\n",
       "      <td>-0.887885</td>\n",
       "      <td>0.460065</td>\n",
       "      <td>0</td>\n",
       "    </tr>\n",
       "    <tr>\n",
       "      <th>3590</th>\n",
       "      <td>.@billgates @jimbrownnfl32 trump tower office ...</td>\n",
       "      <td>18</td>\n",
       "      <td>-0.979084</td>\n",
       "      <td>0.203456</td>\n",
       "      <td>0</td>\n",
       "    </tr>\n",
       "    <tr>\n",
       "      <th>3598</th>\n",
       "      <td>well together! hope \"movement\" fan go d.c. jan...</td>\n",
       "      <td>16</td>\n",
       "      <td>-0.942261</td>\n",
       "      <td>-0.334880</td>\n",
       "      <td>0</td>\n",
       "    </tr>\n",
       "  </tbody>\n",
       "</table>\n",
       "<p>424 rows × 5 columns</p>\n",
       "</div>"
      ],
      "text/plain": [
       "                                                   text  created_at       sin  \\\n",
       "32    look forward lowell massachusetts today. hear ...          17 -0.997669   \n",
       "33    woody johnson owner nyjets @jebbush’s finance ...          20 -0.730836   \n",
       "35    wow @unionleader circulation nh dropped 75000 ...          16 -0.942261   \n",
       "36    don’t know @samuelljackson best knowledge play...          17 -0.997669   \n",
       "40    don’t cheat golf @samuelljackson cheats—with g...          19 -0.887885   \n",
       "...                                                 ...         ...       ...   \n",
       "3541  press would cover accurately &amp; honorably w...          16 -0.942261   \n",
       "3545  masa (softbank) japan agreed invest $50 billio...          19 -0.887885   \n",
       "3546            masa said would never (trump) election!          19 -0.887885   \n",
       "3590  .@billgates @jimbrownnfl32 trump tower office ...          18 -0.979084   \n",
       "3598  well together! hope \"movement\" fan go d.c. jan...          16 -0.942261   \n",
       "\n",
       "           cos  predicted  \n",
       "32   -0.068242          1  \n",
       "33    0.682553          1  \n",
       "35   -0.334880          0  \n",
       "36   -0.068242          1  \n",
       "40    0.460065          0  \n",
       "...        ...        ...  \n",
       "3541 -0.334880          0  \n",
       "3545  0.460065          0  \n",
       "3546  0.460065          0  \n",
       "3590  0.203456          0  \n",
       "3598 -0.334880          0  \n",
       "\n",
       "[424 rows x 5 columns]"
      ]
     },
     "execution_count": 139,
     "metadata": {},
     "output_type": "execute_result"
    }
   ],
   "source": [
    "X.show"
   ]
  },
  {
   "cell_type": "code",
   "execution_count": 141,
   "metadata": {},
   "outputs": [],
   "source": [
    "# X.to_csv(\"./output/2016_tweets_from_other_devices.csv\")"
   ]
  },
  {
   "cell_type": "markdown",
   "metadata": {},
   "source": [
    "#### Conclusion for Who writes the tweets that come from the other devices during 2016. How confident can we be in these results?\n",
    "\n",
    "> As we can see the model which was giving an accuracy of 82-83 % is a good enough classifier for distinguishing between the tweets which are made by Trump and which are not. So when we gave the model, the tweets which are sent from other devices, most of them are classified as tweets which are not posted by Trump himself\n",
    "\n",
    "> Out of 424 tweets which are tweeted from other device i.e not iphone and android phones the model predicted that only 64 are tweets from Trump so the percentage of tweets with which he uses other devices is very low becuase 64/424 is only 15 % So most likely he doesn't used other devices at all."
   ]
  },
  {
   "cell_type": "markdown",
   "metadata": {},
   "source": [
    "##### ii. Run the classifier on tweets from Jan-Dec ​2018​. Do you think this classifier is still valid, or has something changed [e.g., perhaps Trump is no longer posting tweets]? How reliable is it for this year?"
   ]
  },
  {
   "cell_type": "code",
   "execution_count": 148,
   "metadata": {},
   "outputs": [
    {
     "name": "stderr",
     "output_type": "stream",
     "text": [
      "/tmp/ipykernel_157087/3054563853.py:2: SettingWithCopyWarning:\n",
      "\n",
      "\n",
      "A value is trying to be set on a copy of a slice from a DataFrame.\n",
      "Try using .loc[row_indexer,col_indexer] = value instead\n",
      "\n",
      "See the caveats in the documentation: https://pandas.pydata.org/pandas-docs/stable/user_guide/indexing.html#returning-a-view-versus-a-copy\n",
      "\n",
      "/tmp/ipykernel_157087/3054563853.py:3: SettingWithCopyWarning:\n",
      "\n",
      "\n",
      "A value is trying to be set on a copy of a slice from a DataFrame.\n",
      "Try using .loc[row_indexer,col_indexer] = value instead\n",
      "\n",
      "See the caveats in the documentation: https://pandas.pydata.org/pandas-docs/stable/user_guide/indexing.html#returning-a-view-versus-a-copy\n",
      "\n",
      "/tmp/ipykernel_157087/3054563853.py:4: SettingWithCopyWarning:\n",
      "\n",
      "\n",
      "A value is trying to be set on a copy of a slice from a DataFrame.\n",
      "Try using .loc[row_indexer,col_indexer] = value instead\n",
      "\n",
      "See the caveats in the documentation: https://pandas.pydata.org/pandas-docs/stable/user_guide/indexing.html#returning-a-view-versus-a-copy\n",
      "\n",
      "/tmp/ipykernel_157087/3054563853.py:5: SettingWithCopyWarning:\n",
      "\n",
      "\n",
      "A value is trying to be set on a copy of a slice from a DataFrame.\n",
      "Try using .loc[row_indexer,col_indexer] = value instead\n",
      "\n",
      "See the caveats in the documentation: https://pandas.pydata.org/pandas-docs/stable/user_guide/indexing.html#returning-a-view-versus-a-copy\n",
      "\n"
     ]
    },
    {
     "name": "stdout",
     "output_type": "stream",
     "text": [
      "We have around  1788  tweets which i think are made by Trump out of  3556\n"
     ]
    }
   ],
   "source": [
    "X = data_2018[['text','created_at']]\n",
    "X.text = X.text.apply(preprocess_tweet)\n",
    "X.created_at = X.created_at.apply(convert_date_to_hour)\n",
    "X[\"sin\"] = X.created_at.apply((lambda x : math.sin(2*math.pi*x/23)))\n",
    "X[\"cos\"] = X.created_at.apply((lambda x : math.cos(2*math.pi*x/23)))\n",
    "X_bow = cv.transform(X.text).toarray()\n",
    "X_final = np.concatenate([X_bow,X[[\"sin\",\"cos\"]]],axis=1)\n",
    "y_pred = rf.predict(X_final)\n",
    "print(\"We have around \",y_pred.sum(), \" tweets which i think are made by Trump out of \",y_pred.size)"
   ]
  },
  {
   "cell_type": "markdown",
   "metadata": {},
   "source": [
    "#### Answer :\n",
    "\n",
    "> Based on the above results i.e there are around 1788 tweets which the model predicts that are made by Trump out of 3556(accross all the devices) which is nearly 50% of the tweets. Even in 2016 if we assume that the tweets are made from Android and iPhone are only considered then there were 1275 tweets from Android(Assumption that tweets are made by Trump) and from iPhone are 1950. which means that tweets that are from Trump are almost 40%, and using our model which was giving a 83% accuracy on the test data of 2016 we can say that Trump is now tweeting even more that what he was in 2016. and we can be 80% confident on our model."
   ]
  },
  {
   "cell_type": "code",
   "execution_count": 155,
   "metadata": {},
   "outputs": [
    {
     "data": {
      "text/plain": [
       "0.3953488372093023"
      ]
     },
     "execution_count": 155,
     "metadata": {},
     "output_type": "execute_result"
    }
   ],
   "source": []
  },
  {
   "cell_type": "code",
   "execution_count": null,
   "metadata": {},
   "outputs": [],
   "source": []
  }
 ],
 "metadata": {
  "kernelspec": {
   "display_name": "Python 3.11.5 ('myenv')",
   "language": "python",
   "name": "python3"
  },
  "language_info": {
   "codemirror_mode": {
    "name": "ipython",
    "version": 3
   },
   "file_extension": ".py",
   "mimetype": "text/x-python",
   "name": "python",
   "nbconvert_exporter": "python",
   "pygments_lexer": "ipython3",
   "version": "3.11.5"
  },
  "orig_nbformat": 4,
  "vscode": {
   "interpreter": {
    "hash": "a88da55b6a464129d573e2c09136522fb83952c199a6ac9831c3297011a06efe"
   }
  }
 },
 "nbformat": 4,
 "nbformat_minor": 2
}
